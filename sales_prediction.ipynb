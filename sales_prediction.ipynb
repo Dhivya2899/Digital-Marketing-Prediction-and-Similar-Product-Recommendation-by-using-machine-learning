{
  "cells": [
    {
      "cell_type": "code",
      "execution_count": null,
      "metadata": {
        "id": "1vzF5MwbU-dA",
        "colab": {
          "base_uri": "https://localhost:8080/"
        },
        "outputId": "cf9c30fc-2328-4bb6-fa22-207a4231e630"
      },
      "outputs": [
        {
          "output_type": "stream",
          "name": "stdout",
          "text": [
            "Drive already mounted at /content/drive; to attempt to forcibly remount, call drive.mount(\"/content/drive\", force_remount=True).\n"
          ]
        }
      ],
      "source": [
        "from google.colab import drive\n",
        "drive.mount('/content/drive')"
      ]
    },
    {
      "cell_type": "code",
      "execution_count": null,
      "metadata": {
        "id": "Jiv8QStKXZcu",
        "colab": {
          "base_uri": "https://localhost:8080/"
        },
        "outputId": "138f7e87-7420-41f7-eefd-04588287daf7"
      },
      "outputs": [
        {
          "output_type": "stream",
          "name": "stdout",
          "text": [
            "Looking in indexes: https://pypi.org/simple, https://us-python.pkg.dev/colab-wheels/public/simple/\n",
            "Collecting colorama\n",
            "  Downloading colorama-0.4.6-py2.py3-none-any.whl (25 kB)\n",
            "Installing collected packages: colorama\n",
            "Successfully installed colorama-0.4.6\n"
          ]
        }
      ],
      "source": [
        "pip install colorama"
      ]
    },
    {
      "cell_type": "code",
      "execution_count": null,
      "metadata": {
        "id": "_XCLLi_9XeZr"
      },
      "outputs": [],
      "source": [
        "import pandas as pd\n",
        "import matplotlib.pyplot as plt\n",
        "import seaborn as sns\n",
        "import numpy as np\n",
        "import plotly.express as px\n",
        "import plotly.graph_objects as go\n",
        "from plotly.subplots import make_subplots\n",
        "import colorama\n",
        "from colorama import Fore, Back, Style\n",
        "\n",
        "\n",
        "#ignoring warnings to keep the output clean\n",
        "import warnings\n",
        "warnings.filterwarnings('ignore')"
      ]
    },
    {
      "cell_type": "code",
      "execution_count": null,
      "metadata": {
        "id": "QP_WYO7dXrH8"
      },
      "outputs": [],
      "source": [
        "prod_data = pd.read_csv('/content/drive/MyDrive/kaggle/input/bigbasket-entire-product-list-28k-datapoints/BigBasket Products.csv (1)/BigBasket Products.csv')"
      ]
    },
    {
      "cell_type": "code",
      "execution_count": null,
      "metadata": {
        "id": "vk4FLJBUYL5x",
        "colab": {
          "base_uri": "https://localhost:8080/",
          "height": 693
        },
        "outputId": "0e41b064-7c4a-449d-c805-4d326ca32d3d"
      },
      "outputs": [
        {
          "output_type": "stream",
          "name": "stdout",
          "text": [
            "\u001b[43m\u001b[1mBigbasket Data:\u001b[0m\n"
          ]
        },
        {
          "output_type": "execute_result",
          "data": {
            "text/plain": [
              "       index                                            product  \\\n",
              "0          1             Garlic Oil - Vegetarian Capsule 500 mg   \n",
              "1          2                              Water Bottle - Orange   \n",
              "2          3                     Brass Angle Deep - Plain, No.2   \n",
              "3          4  Cereal Flip Lid Container/Storage Jar - Assort...   \n",
              "4          5                 Creme Soft Soap - For Hands & Body   \n",
              "...      ...                                                ...   \n",
              "27550  27551         Wottagirl! Perfume Spray - Heaven, Classic   \n",
              "27551  27552                                           Rosemary   \n",
              "27552  27553                       Peri-Peri Sweet Potato Chips   \n",
              "27553  27554                          Green Tea - Pure Original   \n",
              "27554  27555                     United Dreams Go Far Deodorant   \n",
              "\n",
              "                     category              sub_category  \\\n",
              "0            Beauty & Hygiene                 Hair Care   \n",
              "1      Kitchen, Garden & Pets     Storage & Accessories   \n",
              "2        Cleaning & Household               Pooja Needs   \n",
              "3        Cleaning & Household      Bins & Bathroom Ware   \n",
              "4            Beauty & Hygiene          Bath & Hand Wash   \n",
              "...                       ...                       ...   \n",
              "27550        Beauty & Hygiene         Fragrances & Deos   \n",
              "27551    Gourmet & World Food    Cooking & Baking Needs   \n",
              "27552    Gourmet & World Food  Snacks, Dry Fruits, Nuts   \n",
              "27553               Beverages                       Tea   \n",
              "27554        Beauty & Hygiene            Men's Grooming   \n",
              "\n",
              "                            brand  sale_price  market_price  \\\n",
              "0               Sri Sri Ayurveda       220.00         220.0   \n",
              "1                      Mastercook      180.00         180.0   \n",
              "2                             Trm      119.00         250.0   \n",
              "3                          Nakoda      149.00         176.0   \n",
              "4                           Nivea      162.00         162.0   \n",
              "...                           ...         ...           ...   \n",
              "27550                      Layerr      199.20         249.0   \n",
              "27551                    Puramate       67.50          75.0   \n",
              "27552                      FabBox      200.00         200.0   \n",
              "27553                      Tetley      396.00         495.0   \n",
              "27554  United Colors Of Benetton       214.53         390.0   \n",
              "\n",
              "                           type  rating  \\\n",
              "0              Hair Oil & Serum     4.1   \n",
              "1        Water & Fridge Bottles     2.3   \n",
              "2               Lamp & Lamp Oil     3.4   \n",
              "3      Laundry, Storage Baskets     3.7   \n",
              "4          Bathing Bars & Soaps     4.4   \n",
              "...                         ...     ...   \n",
              "27550                   Perfume     3.9   \n",
              "27551  Herbs, Seasonings & Rubs     4.0   \n",
              "27552            Nachos & Chips     3.8   \n",
              "27553                  Tea Bags     4.2   \n",
              "27554          Men's Deodorants     4.5   \n",
              "\n",
              "                                             description  \n",
              "0      This Product contains Garlic Oil that is known...  \n",
              "1      Each product is microwave safe (without lid), ...  \n",
              "2      A perfect gift for all occasions, be it your m...  \n",
              "3      Multipurpose container with an attractive desi...  \n",
              "4      Nivea Creme Soft Soap gives your skin the best...  \n",
              "...                                                  ...  \n",
              "27550  Layerr brings you Wottagirl Classic fragrant b...  \n",
              "27551  Puramate rosemary is enough to transform a dis...  \n",
              "27552  We have taken the richness of Sweet Potatoes (...  \n",
              "27553  Tetley Green Tea with its refreshing pure, ori...  \n",
              "27554  The new mens fragrance from the United Dreams ...  \n",
              "\n",
              "[27555 rows x 10 columns]"
            ],
            "text/html": [
              "\n",
              "  <div id=\"df-0067634f-9c5d-4925-96eb-9e7dd23e693e\">\n",
              "    <div class=\"colab-df-container\">\n",
              "      <div>\n",
              "<style scoped>\n",
              "    .dataframe tbody tr th:only-of-type {\n",
              "        vertical-align: middle;\n",
              "    }\n",
              "\n",
              "    .dataframe tbody tr th {\n",
              "        vertical-align: top;\n",
              "    }\n",
              "\n",
              "    .dataframe thead th {\n",
              "        text-align: right;\n",
              "    }\n",
              "</style>\n",
              "<table border=\"1\" class=\"dataframe\">\n",
              "  <thead>\n",
              "    <tr style=\"text-align: right;\">\n",
              "      <th></th>\n",
              "      <th>index</th>\n",
              "      <th>product</th>\n",
              "      <th>category</th>\n",
              "      <th>sub_category</th>\n",
              "      <th>brand</th>\n",
              "      <th>sale_price</th>\n",
              "      <th>market_price</th>\n",
              "      <th>type</th>\n",
              "      <th>rating</th>\n",
              "      <th>description</th>\n",
              "    </tr>\n",
              "  </thead>\n",
              "  <tbody>\n",
              "    <tr>\n",
              "      <th>0</th>\n",
              "      <td>1</td>\n",
              "      <td>Garlic Oil - Vegetarian Capsule 500 mg</td>\n",
              "      <td>Beauty &amp; Hygiene</td>\n",
              "      <td>Hair Care</td>\n",
              "      <td>Sri Sri Ayurveda</td>\n",
              "      <td>220.00</td>\n",
              "      <td>220.0</td>\n",
              "      <td>Hair Oil &amp; Serum</td>\n",
              "      <td>4.1</td>\n",
              "      <td>This Product contains Garlic Oil that is known...</td>\n",
              "    </tr>\n",
              "    <tr>\n",
              "      <th>1</th>\n",
              "      <td>2</td>\n",
              "      <td>Water Bottle - Orange</td>\n",
              "      <td>Kitchen, Garden &amp; Pets</td>\n",
              "      <td>Storage &amp; Accessories</td>\n",
              "      <td>Mastercook</td>\n",
              "      <td>180.00</td>\n",
              "      <td>180.0</td>\n",
              "      <td>Water &amp; Fridge Bottles</td>\n",
              "      <td>2.3</td>\n",
              "      <td>Each product is microwave safe (without lid), ...</td>\n",
              "    </tr>\n",
              "    <tr>\n",
              "      <th>2</th>\n",
              "      <td>3</td>\n",
              "      <td>Brass Angle Deep - Plain, No.2</td>\n",
              "      <td>Cleaning &amp; Household</td>\n",
              "      <td>Pooja Needs</td>\n",
              "      <td>Trm</td>\n",
              "      <td>119.00</td>\n",
              "      <td>250.0</td>\n",
              "      <td>Lamp &amp; Lamp Oil</td>\n",
              "      <td>3.4</td>\n",
              "      <td>A perfect gift for all occasions, be it your m...</td>\n",
              "    </tr>\n",
              "    <tr>\n",
              "      <th>3</th>\n",
              "      <td>4</td>\n",
              "      <td>Cereal Flip Lid Container/Storage Jar - Assort...</td>\n",
              "      <td>Cleaning &amp; Household</td>\n",
              "      <td>Bins &amp; Bathroom Ware</td>\n",
              "      <td>Nakoda</td>\n",
              "      <td>149.00</td>\n",
              "      <td>176.0</td>\n",
              "      <td>Laundry, Storage Baskets</td>\n",
              "      <td>3.7</td>\n",
              "      <td>Multipurpose container with an attractive desi...</td>\n",
              "    </tr>\n",
              "    <tr>\n",
              "      <th>4</th>\n",
              "      <td>5</td>\n",
              "      <td>Creme Soft Soap - For Hands &amp; Body</td>\n",
              "      <td>Beauty &amp; Hygiene</td>\n",
              "      <td>Bath &amp; Hand Wash</td>\n",
              "      <td>Nivea</td>\n",
              "      <td>162.00</td>\n",
              "      <td>162.0</td>\n",
              "      <td>Bathing Bars &amp; Soaps</td>\n",
              "      <td>4.4</td>\n",
              "      <td>Nivea Creme Soft Soap gives your skin the best...</td>\n",
              "    </tr>\n",
              "    <tr>\n",
              "      <th>...</th>\n",
              "      <td>...</td>\n",
              "      <td>...</td>\n",
              "      <td>...</td>\n",
              "      <td>...</td>\n",
              "      <td>...</td>\n",
              "      <td>...</td>\n",
              "      <td>...</td>\n",
              "      <td>...</td>\n",
              "      <td>...</td>\n",
              "      <td>...</td>\n",
              "    </tr>\n",
              "    <tr>\n",
              "      <th>27550</th>\n",
              "      <td>27551</td>\n",
              "      <td>Wottagirl! Perfume Spray - Heaven, Classic</td>\n",
              "      <td>Beauty &amp; Hygiene</td>\n",
              "      <td>Fragrances &amp; Deos</td>\n",
              "      <td>Layerr</td>\n",
              "      <td>199.20</td>\n",
              "      <td>249.0</td>\n",
              "      <td>Perfume</td>\n",
              "      <td>3.9</td>\n",
              "      <td>Layerr brings you Wottagirl Classic fragrant b...</td>\n",
              "    </tr>\n",
              "    <tr>\n",
              "      <th>27551</th>\n",
              "      <td>27552</td>\n",
              "      <td>Rosemary</td>\n",
              "      <td>Gourmet &amp; World Food</td>\n",
              "      <td>Cooking &amp; Baking Needs</td>\n",
              "      <td>Puramate</td>\n",
              "      <td>67.50</td>\n",
              "      <td>75.0</td>\n",
              "      <td>Herbs, Seasonings &amp; Rubs</td>\n",
              "      <td>4.0</td>\n",
              "      <td>Puramate rosemary is enough to transform a dis...</td>\n",
              "    </tr>\n",
              "    <tr>\n",
              "      <th>27552</th>\n",
              "      <td>27553</td>\n",
              "      <td>Peri-Peri Sweet Potato Chips</td>\n",
              "      <td>Gourmet &amp; World Food</td>\n",
              "      <td>Snacks, Dry Fruits, Nuts</td>\n",
              "      <td>FabBox</td>\n",
              "      <td>200.00</td>\n",
              "      <td>200.0</td>\n",
              "      <td>Nachos &amp; Chips</td>\n",
              "      <td>3.8</td>\n",
              "      <td>We have taken the richness of Sweet Potatoes (...</td>\n",
              "    </tr>\n",
              "    <tr>\n",
              "      <th>27553</th>\n",
              "      <td>27554</td>\n",
              "      <td>Green Tea - Pure Original</td>\n",
              "      <td>Beverages</td>\n",
              "      <td>Tea</td>\n",
              "      <td>Tetley</td>\n",
              "      <td>396.00</td>\n",
              "      <td>495.0</td>\n",
              "      <td>Tea Bags</td>\n",
              "      <td>4.2</td>\n",
              "      <td>Tetley Green Tea with its refreshing pure, ori...</td>\n",
              "    </tr>\n",
              "    <tr>\n",
              "      <th>27554</th>\n",
              "      <td>27555</td>\n",
              "      <td>United Dreams Go Far Deodorant</td>\n",
              "      <td>Beauty &amp; Hygiene</td>\n",
              "      <td>Men's Grooming</td>\n",
              "      <td>United Colors Of Benetton</td>\n",
              "      <td>214.53</td>\n",
              "      <td>390.0</td>\n",
              "      <td>Men's Deodorants</td>\n",
              "      <td>4.5</td>\n",
              "      <td>The new mens fragrance from the United Dreams ...</td>\n",
              "    </tr>\n",
              "  </tbody>\n",
              "</table>\n",
              "<p>27555 rows × 10 columns</p>\n",
              "</div>\n",
              "      <button class=\"colab-df-convert\" onclick=\"convertToInteractive('df-0067634f-9c5d-4925-96eb-9e7dd23e693e')\"\n",
              "              title=\"Convert this dataframe to an interactive table.\"\n",
              "              style=\"display:none;\">\n",
              "        \n",
              "  <svg xmlns=\"http://www.w3.org/2000/svg\" height=\"24px\"viewBox=\"0 0 24 24\"\n",
              "       width=\"24px\">\n",
              "    <path d=\"M0 0h24v24H0V0z\" fill=\"none\"/>\n",
              "    <path d=\"M18.56 5.44l.94 2.06.94-2.06 2.06-.94-2.06-.94-.94-2.06-.94 2.06-2.06.94zm-11 1L8.5 8.5l.94-2.06 2.06-.94-2.06-.94L8.5 2.5l-.94 2.06-2.06.94zm10 10l.94 2.06.94-2.06 2.06-.94-2.06-.94-.94-2.06-.94 2.06-2.06.94z\"/><path d=\"M17.41 7.96l-1.37-1.37c-.4-.4-.92-.59-1.43-.59-.52 0-1.04.2-1.43.59L10.3 9.45l-7.72 7.72c-.78.78-.78 2.05 0 2.83L4 21.41c.39.39.9.59 1.41.59.51 0 1.02-.2 1.41-.59l7.78-7.78 2.81-2.81c.8-.78.8-2.07 0-2.86zM5.41 20L4 18.59l7.72-7.72 1.47 1.35L5.41 20z\"/>\n",
              "  </svg>\n",
              "      </button>\n",
              "      \n",
              "  <style>\n",
              "    .colab-df-container {\n",
              "      display:flex;\n",
              "      flex-wrap:wrap;\n",
              "      gap: 12px;\n",
              "    }\n",
              "\n",
              "    .colab-df-convert {\n",
              "      background-color: #E8F0FE;\n",
              "      border: none;\n",
              "      border-radius: 50%;\n",
              "      cursor: pointer;\n",
              "      display: none;\n",
              "      fill: #1967D2;\n",
              "      height: 32px;\n",
              "      padding: 0 0 0 0;\n",
              "      width: 32px;\n",
              "    }\n",
              "\n",
              "    .colab-df-convert:hover {\n",
              "      background-color: #E2EBFA;\n",
              "      box-shadow: 0px 1px 2px rgba(60, 64, 67, 0.3), 0px 1px 3px 1px rgba(60, 64, 67, 0.15);\n",
              "      fill: #174EA6;\n",
              "    }\n",
              "\n",
              "    [theme=dark] .colab-df-convert {\n",
              "      background-color: #3B4455;\n",
              "      fill: #D2E3FC;\n",
              "    }\n",
              "\n",
              "    [theme=dark] .colab-df-convert:hover {\n",
              "      background-color: #434B5C;\n",
              "      box-shadow: 0px 1px 3px 1px rgba(0, 0, 0, 0.15);\n",
              "      filter: drop-shadow(0px 1px 2px rgba(0, 0, 0, 0.3));\n",
              "      fill: #FFFFFF;\n",
              "    }\n",
              "  </style>\n",
              "\n",
              "      <script>\n",
              "        const buttonEl =\n",
              "          document.querySelector('#df-0067634f-9c5d-4925-96eb-9e7dd23e693e button.colab-df-convert');\n",
              "        buttonEl.style.display =\n",
              "          google.colab.kernel.accessAllowed ? 'block' : 'none';\n",
              "\n",
              "        async function convertToInteractive(key) {\n",
              "          const element = document.querySelector('#df-0067634f-9c5d-4925-96eb-9e7dd23e693e');\n",
              "          const dataTable =\n",
              "            await google.colab.kernel.invokeFunction('convertToInteractive',\n",
              "                                                     [key], {});\n",
              "          if (!dataTable) return;\n",
              "\n",
              "          const docLinkHtml = 'Like what you see? Visit the ' +\n",
              "            '<a target=\"_blank\" href=https://colab.research.google.com/notebooks/data_table.ipynb>data table notebook</a>'\n",
              "            + ' to learn more about interactive tables.';\n",
              "          element.innerHTML = '';\n",
              "          dataTable['output_type'] = 'display_data';\n",
              "          await google.colab.output.renderOutput(dataTable, element);\n",
              "          const docLink = document.createElement('div');\n",
              "          docLink.innerHTML = docLinkHtml;\n",
              "          element.appendChild(docLink);\n",
              "        }\n",
              "      </script>\n",
              "    </div>\n",
              "  </div>\n",
              "  "
            ]
          },
          "metadata": {},
          "execution_count": 5
        }
      ],
      "source": [
        "print(Back.YELLOW+ Style.BRIGHT+'Bigbasket Data:'+ Style.RESET_ALL)\n",
        "prod_data"
      ]
    },
    {
      "cell_type": "code",
      "source": [
        "prod_data[\"discount\"] = (prod_data[\"market_price\"] - prod_data[\"sale_price\"]) / prod_data[\"market_price\"] * 100\n",
        "\n",
        "prod_data[\"discount\"]"
      ],
      "metadata": {
        "id": "hqq4hwu651jT",
        "colab": {
          "base_uri": "https://localhost:8080/"
        },
        "outputId": "066f2634-a759-4ea7-f40a-24d58a1657a2"
      },
      "execution_count": null,
      "outputs": [
        {
          "output_type": "execute_result",
          "data": {
            "text/plain": [
              "0         0.000000\n",
              "1         0.000000\n",
              "2        52.400000\n",
              "3        15.340909\n",
              "4         0.000000\n",
              "           ...    \n",
              "27550    20.000000\n",
              "27551    10.000000\n",
              "27552     0.000000\n",
              "27553    20.000000\n",
              "27554    44.992308\n",
              "Name: discount, Length: 27555, dtype: float64"
            ]
          },
          "metadata": {},
          "execution_count": 6
        }
      ]
    },
    {
      "cell_type": "code",
      "execution_count": null,
      "metadata": {
        "id": "axThESBeYl2o",
        "colab": {
          "base_uri": "https://localhost:8080/"
        },
        "outputId": "df8d7341-3ee8-4192-d60e-e3026e977c97"
      },
      "outputs": [
        {
          "output_type": "stream",
          "name": "stdout",
          "text": [
            "<class 'pandas.core.frame.DataFrame'>\n",
            "RangeIndex: 27555 entries, 0 to 27554\n",
            "Data columns (total 11 columns):\n",
            " #   Column        Non-Null Count  Dtype  \n",
            "---  ------        --------------  -----  \n",
            " 0   index         27555 non-null  int64  \n",
            " 1   product       27554 non-null  object \n",
            " 2   category      27555 non-null  object \n",
            " 3   sub_category  27555 non-null  object \n",
            " 4   brand         27554 non-null  object \n",
            " 5   sale_price    27555 non-null  float64\n",
            " 6   market_price  27555 non-null  float64\n",
            " 7   type          27555 non-null  object \n",
            " 8   rating        18929 non-null  float64\n",
            " 9   description   27440 non-null  object \n",
            " 10  discount      27555 non-null  float64\n",
            "dtypes: float64(4), int64(1), object(6)\n",
            "memory usage: 2.3+ MB\n"
          ]
        }
      ],
      "source": [
        "prod_data.info()"
      ]
    },
    {
      "cell_type": "code",
      "execution_count": null,
      "metadata": {
        "id": "Ek3GDiRnaHJr",
        "colab": {
          "base_uri": "https://localhost:8080/"
        },
        "outputId": "5e322b65-2ef7-421d-81d1-7ba751346924"
      },
      "outputs": [
        {
          "output_type": "execute_result",
          "data": {
            "text/plain": [
              "27555"
            ]
          },
          "metadata": {},
          "execution_count": 8
        }
      ],
      "source": [
        "prod_data.shape[0]"
      ]
    },
    {
      "cell_type": "code",
      "source": [
        "prod_data.isnull().sum()"
      ],
      "metadata": {
        "id": "nauRA3ND6Bdv",
        "colab": {
          "base_uri": "https://localhost:8080/"
        },
        "outputId": "a57876a1-cd4e-4e50-96fb-62dbf38aea29"
      },
      "execution_count": null,
      "outputs": [
        {
          "output_type": "execute_result",
          "data": {
            "text/plain": [
              "index              0\n",
              "product            1\n",
              "category           0\n",
              "sub_category       0\n",
              "brand              1\n",
              "sale_price         0\n",
              "market_price       0\n",
              "type               0\n",
              "rating          8626\n",
              "description      115\n",
              "discount           0\n",
              "dtype: int64"
            ]
          },
          "metadata": {},
          "execution_count": 9
        }
      ]
    },
    {
      "cell_type": "code",
      "source": [
        "#percentage of num values\n",
        "\n",
        "print('Percentage Null Data In Each Column')\n",
        "print('-'*30)\n",
        "for col in prod_data.columns:\n",
        "    null_count = prod_data[col].isnull().sum()\n",
        "    total_count = prod_data.shape[0]\n",
        "    print(\"{} : {:.2f}\".format(col,null_count/total_count * 100))"
      ],
      "metadata": {
        "id": "zzpy4bxt6I-Q",
        "colab": {
          "base_uri": "https://localhost:8080/"
        },
        "outputId": "8cdc505e-b243-4092-8729-c27d395237a2"
      },
      "execution_count": null,
      "outputs": [
        {
          "output_type": "stream",
          "name": "stdout",
          "text": [
            "Percentage Null Data In Each Column\n",
            "------------------------------\n",
            "index : 0.00\n",
            "product : 0.00\n",
            "category : 0.00\n",
            "sub_category : 0.00\n",
            "brand : 0.00\n",
            "sale_price : 0.00\n",
            "market_price : 0.00\n",
            "type : 0.00\n",
            "rating : 31.30\n",
            "description : 0.42\n",
            "discount : 0.00\n"
          ]
        }
      ]
    },
    {
      "cell_type": "code",
      "source": [
        "#total NULL data\n",
        "print('Total Null Data')\n",
        "null_count = prod_data.isnull().sum().sum()\n",
        "total_count = np.product(prod_data.shape)\n",
        "print(\"{:.2f}\".format(null_count/total_count * 100))"
      ],
      "metadata": {
        "id": "dHG4XHdp6TLl",
        "colab": {
          "base_uri": "https://localhost:8080/"
        },
        "outputId": "eb13b43d-ce79-4236-ed67-39d382176450"
      },
      "execution_count": null,
      "outputs": [
        {
          "output_type": "stream",
          "name": "stdout",
          "text": [
            "Total Null Data\n",
            "2.88\n"
          ]
        }
      ]
    },
    {
      "cell_type": "code",
      "source": [
        "prod_data = prod_data.dropna()\n",
        "prod_data.isnull().sum()"
      ],
      "metadata": {
        "id": "qTMNTwl66XLk",
        "colab": {
          "base_uri": "https://localhost:8080/"
        },
        "outputId": "46720da6-a6c6-4931-8add-1914fc6f8d0d"
      },
      "execution_count": null,
      "outputs": [
        {
          "output_type": "execute_result",
          "data": {
            "text/plain": [
              "index           0\n",
              "product         0\n",
              "category        0\n",
              "sub_category    0\n",
              "brand           0\n",
              "sale_price      0\n",
              "market_price    0\n",
              "type            0\n",
              "rating          0\n",
              "description     0\n",
              "discount        0\n",
              "dtype: int64"
            ]
          },
          "metadata": {},
          "execution_count": 12
        }
      ]
    },
    {
      "cell_type": "code",
      "source": [
        "prod_data.shape"
      ],
      "metadata": {
        "id": "gYyf2-4a6XIB",
        "colab": {
          "base_uri": "https://localhost:8080/"
        },
        "outputId": "1d603d13-bff4-4149-c4e5-0ab34ae3f09f"
      },
      "execution_count": null,
      "outputs": [
        {
          "output_type": "execute_result",
          "data": {
            "text/plain": [
              "(18840, 11)"
            ]
          },
          "metadata": {},
          "execution_count": 13
        }
      ]
    },
    {
      "cell_type": "markdown",
      "source": [
        "**EXPLORATORY DATA ANALYSIS**\n",
        "\n",
        "**High Level Summary of the Datasets**"
      ],
      "metadata": {
        "id": "4v5XyHO66fhN"
      }
    },
    {
      "cell_type": "code",
      "source": [
        "print(Back.YELLOW+ Style.BRIGHT+ 'Summary of Product Catalogue:' + Style.RESET_ALL)\n",
        "print('Total number of unique ' + Fore.RED+ Style.BRIGHT+ 'Products' + Style.RESET_ALL+'      :',\\\n",
        "      Fore.RED+ Style.BRIGHT+ str(len(prod_data['product'].unique())) + Style.RESET_ALL)\n",
        "\n",
        "print('Total number of ' + Fore.RED+ Style.BRIGHT+ 'Product Categories' + Style.RESET_ALL +'   :',\\\n",
        "      Fore.RED+ Style.BRIGHT+ str(len(prod_data['category'].unique())) + Style.RESET_ALL)\n",
        "\n",
        "print('Total number of ' + Fore.RED+ Style.BRIGHT+ 'Sub-Categories' + Style.RESET_ALL +'       :',\\\n",
        "      Fore.RED+ Style.BRIGHT+ str(len(prod_data['sub_category'].unique())) + Style.RESET_ALL)\n",
        "\n",
        "print('Total number of ' + Fore.RED+ Style.BRIGHT+ 'Product Types' + Style.RESET_ALL +'        :',\\\n",
        "      Fore.RED+ Style.BRIGHT+ str(len(prod_data['type'].unique())) + Style.RESET_ALL)\n",
        "\n",
        "print('Total number of ' + Fore.RED+ Style.BRIGHT+ 'Brands' + Style.RESET_ALL +'               :',\\\n",
        "      Fore.RED+ Style.BRIGHT+ str(len(prod_data['brand'].unique())) + Style.RESET_ALL)"
      ],
      "metadata": {
        "id": "DyO9tj0X6XCJ",
        "colab": {
          "base_uri": "https://localhost:8080/"
        },
        "outputId": "d0b6ad7d-335b-4fec-fa74-ce13a783f4de"
      },
      "execution_count": null,
      "outputs": [
        {
          "output_type": "stream",
          "name": "stdout",
          "text": [
            "\u001b[43m\u001b[1mSummary of Product Catalogue:\u001b[0m\n",
            "Total number of unique \u001b[31m\u001b[1mProducts\u001b[0m      : \u001b[31m\u001b[1m16217\u001b[0m\n",
            "Total number of \u001b[31m\u001b[1mProduct Categories\u001b[0m   : \u001b[31m\u001b[1m9\u001b[0m\n",
            "Total number of \u001b[31m\u001b[1mSub-Categories\u001b[0m       : \u001b[31m\u001b[1m77\u001b[0m\n",
            "Total number of \u001b[31m\u001b[1mProduct Types\u001b[0m        : \u001b[31m\u001b[1m358\u001b[0m\n",
            "Total number of \u001b[31m\u001b[1mBrands\u001b[0m               : \u001b[31m\u001b[1m1933\u001b[0m\n"
          ]
        }
      ]
    },
    {
      "cell_type": "markdown",
      "source": [
        "**ANALYSIS OF CATEGORICAL FEATURES:**\n",
        "\n",
        "**Products, category, sub-category and product type**"
      ],
      "metadata": {
        "id": "5qCSh2_g6usj"
      }
    },
    {
      "cell_type": "code",
      "source": [
        "#Count of Products under each Category\n",
        "ctg_prod=prod_data[['category', 'product']]\n",
        "ctg_prod=ctg_prod.drop_duplicates()\n",
        "ctg_prod=ctg_prod.groupby('category').agg(prod_count=('product','count')).reset_index().sort_values('prod_count', ascending=False)\n",
        "\n",
        "# ctg_prod\n",
        "\n",
        "\n",
        "fig = go.Figure(data=px.bar(x=ctg_prod.category, \n",
        "                            y=ctg_prod.prod_count,\n",
        "                            color = ctg_prod.category,\n",
        "                            color_discrete_sequence=px.colors.sequential.Viridis  ,\n",
        "                            title='<b>Count of Products under each Category</b>',\n",
        "                            text = ctg_prod.prod_count,\n",
        "                            height=500))\n",
        "fig.update_layout(\n",
        "    font_family=\"Courier New\",\n",
        "    title_font_family=\"Courier New\",\n",
        "    title_font_color=\"red\",\n",
        "    title_font_size=20,\n",
        "    xaxis_title=\"<b>Category</b>\",\n",
        "    yaxis_title=\"<b>No. of Products</b>\",\n",
        "    legend_title_font_color=\"green\"\n",
        ")\n",
        "fig.show()"
      ],
      "metadata": {
        "id": "4MT0xVzy6e4W",
        "colab": {
          "base_uri": "https://localhost:8080/",
          "height": 517
        },
        "outputId": "bafcf48f-efa8-4317-853a-3e5497bb937e"
      },
      "execution_count": null,
      "outputs": [
        {
          "output_type": "display_data",
          "data": {
            "text/html": [
              "<html>\n",
              "<head><meta charset=\"utf-8\" /></head>\n",
              "<body>\n",
              "    <div>            <script src=\"https://cdnjs.cloudflare.com/ajax/libs/mathjax/2.7.5/MathJax.js?config=TeX-AMS-MML_SVG\"></script><script type=\"text/javascript\">if (window.MathJax) {MathJax.Hub.Config({SVG: {font: \"STIX-Web\"}});}</script>                <script type=\"text/javascript\">window.PlotlyConfig = {MathJaxConfig: 'local'};</script>\n",
              "        <script src=\"https://cdn.plot.ly/plotly-2.8.3.min.js\"></script>                <div id=\"a5e5e367-07a1-41ef-b778-46340fbff4fb\" class=\"plotly-graph-div\" style=\"height:500px; width:100%;\"></div>            <script type=\"text/javascript\">                                    window.PLOTLYENV=window.PLOTLYENV || {};                                    if (document.getElementById(\"a5e5e367-07a1-41ef-b778-46340fbff4fb\")) {                    Plotly.newPlot(                        \"a5e5e367-07a1-41ef-b778-46340fbff4fb\",                        [{\"alignmentgroup\":\"True\",\"hovertemplate\":\"color=Beauty & Hygiene<br>x=%{x}<br>y=%{y}<br>text=%{text}<extra></extra>\",\"legendgroup\":\"Beauty & Hygiene\",\"marker\":{\"color\":\"#440154\",\"pattern\":{\"shape\":\"\"}},\"name\":\"Beauty & Hygiene\",\"offsetgroup\":\"Beauty & Hygiene\",\"orientation\":\"v\",\"showlegend\":true,\"text\":[4701.0],\"textposition\":\"auto\",\"x\":[\"Beauty & Hygiene\"],\"xaxis\":\"x\",\"y\":[4701],\"yaxis\":\"y\",\"type\":\"bar\"},{\"alignmentgroup\":\"True\",\"hovertemplate\":\"color=Kitchen, Garden & Pets<br>x=%{x}<br>y=%{y}<br>text=%{text}<extra></extra>\",\"legendgroup\":\"Kitchen, Garden & Pets\",\"marker\":{\"color\":\"#482878\",\"pattern\":{\"shape\":\"\"}},\"name\":\"Kitchen, Garden & Pets\",\"offsetgroup\":\"Kitchen, Garden & Pets\",\"orientation\":\"v\",\"showlegend\":true,\"text\":[2273.0],\"textposition\":\"auto\",\"x\":[\"Kitchen, Garden & Pets\"],\"xaxis\":\"x\",\"y\":[2273],\"yaxis\":\"y\",\"type\":\"bar\"},{\"alignmentgroup\":\"True\",\"hovertemplate\":\"color=Snacks & Branded Foods<br>x=%{x}<br>y=%{y}<br>text=%{text}<extra></extra>\",\"legendgroup\":\"Snacks & Branded Foods\",\"marker\":{\"color\":\"#3e4989\",\"pattern\":{\"shape\":\"\"}},\"name\":\"Snacks & Branded Foods\",\"offsetgroup\":\"Snacks & Branded Foods\",\"orientation\":\"v\",\"showlegend\":true,\"text\":[2152.0],\"textposition\":\"auto\",\"x\":[\"Snacks & Branded Foods\"],\"xaxis\":\"x\",\"y\":[2152],\"yaxis\":\"y\",\"type\":\"bar\"},{\"alignmentgroup\":\"True\",\"hovertemplate\":\"color=Gourmet & World Food<br>x=%{x}<br>y=%{y}<br>text=%{text}<extra></extra>\",\"legendgroup\":\"Gourmet & World Food\",\"marker\":{\"color\":\"#31688e\",\"pattern\":{\"shape\":\"\"}},\"name\":\"Gourmet & World Food\",\"offsetgroup\":\"Gourmet & World Food\",\"orientation\":\"v\",\"showlegend\":true,\"text\":[2083.0],\"textposition\":\"auto\",\"x\":[\"Gourmet & World Food\"],\"xaxis\":\"x\",\"y\":[2083],\"yaxis\":\"y\",\"type\":\"bar\"},{\"alignmentgroup\":\"True\",\"hovertemplate\":\"color=Cleaning & Household<br>x=%{x}<br>y=%{y}<br>text=%{text}<extra></extra>\",\"legendgroup\":\"Cleaning & Household\",\"marker\":{\"color\":\"#26828e\",\"pattern\":{\"shape\":\"\"}},\"name\":\"Cleaning & Household\",\"offsetgroup\":\"Cleaning & Household\",\"orientation\":\"v\",\"showlegend\":true,\"text\":[1910.0],\"textposition\":\"auto\",\"x\":[\"Cleaning & Household\"],\"xaxis\":\"x\",\"y\":[1910],\"yaxis\":\"y\",\"type\":\"bar\"},{\"alignmentgroup\":\"True\",\"hovertemplate\":\"color=Foodgrains, Oil & Masala<br>x=%{x}<br>y=%{y}<br>text=%{text}<extra></extra>\",\"legendgroup\":\"Foodgrains, Oil & Masala\",\"marker\":{\"color\":\"#1f9e89\",\"pattern\":{\"shape\":\"\"}},\"name\":\"Foodgrains, Oil & Masala\",\"offsetgroup\":\"Foodgrains, Oil & Masala\",\"orientation\":\"v\",\"showlegend\":true,\"text\":[1653.0],\"textposition\":\"auto\",\"x\":[\"Foodgrains, Oil & Masala\"],\"xaxis\":\"x\",\"y\":[1653],\"yaxis\":\"y\",\"type\":\"bar\"},{\"alignmentgroup\":\"True\",\"hovertemplate\":\"color=Bakery, Cakes & Dairy<br>x=%{x}<br>y=%{y}<br>text=%{text}<extra></extra>\",\"legendgroup\":\"Bakery, Cakes & Dairy\",\"marker\":{\"color\":\"#35b779\",\"pattern\":{\"shape\":\"\"}},\"name\":\"Bakery, Cakes & Dairy\",\"offsetgroup\":\"Bakery, Cakes & Dairy\",\"orientation\":\"v\",\"showlegend\":true,\"text\":[579.0],\"textposition\":\"auto\",\"x\":[\"Bakery, Cakes & Dairy\"],\"xaxis\":\"x\",\"y\":[579],\"yaxis\":\"y\",\"type\":\"bar\"},{\"alignmentgroup\":\"True\",\"hovertemplate\":\"color=Beverages<br>x=%{x}<br>y=%{y}<br>text=%{text}<extra></extra>\",\"legendgroup\":\"Beverages\",\"marker\":{\"color\":\"#6ece58\",\"pattern\":{\"shape\":\"\"}},\"name\":\"Beverages\",\"offsetgroup\":\"Beverages\",\"orientation\":\"v\",\"showlegend\":true,\"text\":[528.0],\"textposition\":\"auto\",\"x\":[\"Beverages\"],\"xaxis\":\"x\",\"y\":[528],\"yaxis\":\"y\",\"type\":\"bar\"},{\"alignmentgroup\":\"True\",\"hovertemplate\":\"color=Baby Care<br>x=%{x}<br>y=%{y}<br>text=%{text}<extra></extra>\",\"legendgroup\":\"Baby Care\",\"marker\":{\"color\":\"#b5de2b\",\"pattern\":{\"shape\":\"\"}},\"name\":\"Baby Care\",\"offsetgroup\":\"Baby Care\",\"orientation\":\"v\",\"showlegend\":true,\"text\":[445.0],\"textposition\":\"auto\",\"x\":[\"Baby Care\"],\"xaxis\":\"x\",\"y\":[445],\"yaxis\":\"y\",\"type\":\"bar\"}],                        {\"barmode\":\"relative\",\"height\":500,\"legend\":{\"title\":{\"text\":\"color\",\"font\":{\"color\":\"green\"}},\"tracegroupgap\":0},\"template\":{\"data\":{\"barpolar\":[{\"marker\":{\"line\":{\"color\":\"#E5ECF6\",\"width\":0.5},\"pattern\":{\"fillmode\":\"overlay\",\"size\":10,\"solidity\":0.2}},\"type\":\"barpolar\"}],\"bar\":[{\"error_x\":{\"color\":\"#2a3f5f\"},\"error_y\":{\"color\":\"#2a3f5f\"},\"marker\":{\"line\":{\"color\":\"#E5ECF6\",\"width\":0.5},\"pattern\":{\"fillmode\":\"overlay\",\"size\":10,\"solidity\":0.2}},\"type\":\"bar\"}],\"carpet\":[{\"aaxis\":{\"endlinecolor\":\"#2a3f5f\",\"gridcolor\":\"white\",\"linecolor\":\"white\",\"minorgridcolor\":\"white\",\"startlinecolor\":\"#2a3f5f\"},\"baxis\":{\"endlinecolor\":\"#2a3f5f\",\"gridcolor\":\"white\",\"linecolor\":\"white\",\"minorgridcolor\":\"white\",\"startlinecolor\":\"#2a3f5f\"},\"type\":\"carpet\"}],\"choropleth\":[{\"colorbar\":{\"outlinewidth\":0,\"ticks\":\"\"},\"type\":\"choropleth\"}],\"contourcarpet\":[{\"colorbar\":{\"outlinewidth\":0,\"ticks\":\"\"},\"type\":\"contourcarpet\"}],\"contour\":[{\"colorbar\":{\"outlinewidth\":0,\"ticks\":\"\"},\"colorscale\":[[0.0,\"#0d0887\"],[0.1111111111111111,\"#46039f\"],[0.2222222222222222,\"#7201a8\"],[0.3333333333333333,\"#9c179e\"],[0.4444444444444444,\"#bd3786\"],[0.5555555555555556,\"#d8576b\"],[0.6666666666666666,\"#ed7953\"],[0.7777777777777778,\"#fb9f3a\"],[0.8888888888888888,\"#fdca26\"],[1.0,\"#f0f921\"]],\"type\":\"contour\"}],\"heatmapgl\":[{\"colorbar\":{\"outlinewidth\":0,\"ticks\":\"\"},\"colorscale\":[[0.0,\"#0d0887\"],[0.1111111111111111,\"#46039f\"],[0.2222222222222222,\"#7201a8\"],[0.3333333333333333,\"#9c179e\"],[0.4444444444444444,\"#bd3786\"],[0.5555555555555556,\"#d8576b\"],[0.6666666666666666,\"#ed7953\"],[0.7777777777777778,\"#fb9f3a\"],[0.8888888888888888,\"#fdca26\"],[1.0,\"#f0f921\"]],\"type\":\"heatmapgl\"}],\"heatmap\":[{\"colorbar\":{\"outlinewidth\":0,\"ticks\":\"\"},\"colorscale\":[[0.0,\"#0d0887\"],[0.1111111111111111,\"#46039f\"],[0.2222222222222222,\"#7201a8\"],[0.3333333333333333,\"#9c179e\"],[0.4444444444444444,\"#bd3786\"],[0.5555555555555556,\"#d8576b\"],[0.6666666666666666,\"#ed7953\"],[0.7777777777777778,\"#fb9f3a\"],[0.8888888888888888,\"#fdca26\"],[1.0,\"#f0f921\"]],\"type\":\"heatmap\"}],\"histogram2dcontour\":[{\"colorbar\":{\"outlinewidth\":0,\"ticks\":\"\"},\"colorscale\":[[0.0,\"#0d0887\"],[0.1111111111111111,\"#46039f\"],[0.2222222222222222,\"#7201a8\"],[0.3333333333333333,\"#9c179e\"],[0.4444444444444444,\"#bd3786\"],[0.5555555555555556,\"#d8576b\"],[0.6666666666666666,\"#ed7953\"],[0.7777777777777778,\"#fb9f3a\"],[0.8888888888888888,\"#fdca26\"],[1.0,\"#f0f921\"]],\"type\":\"histogram2dcontour\"}],\"histogram2d\":[{\"colorbar\":{\"outlinewidth\":0,\"ticks\":\"\"},\"colorscale\":[[0.0,\"#0d0887\"],[0.1111111111111111,\"#46039f\"],[0.2222222222222222,\"#7201a8\"],[0.3333333333333333,\"#9c179e\"],[0.4444444444444444,\"#bd3786\"],[0.5555555555555556,\"#d8576b\"],[0.6666666666666666,\"#ed7953\"],[0.7777777777777778,\"#fb9f3a\"],[0.8888888888888888,\"#fdca26\"],[1.0,\"#f0f921\"]],\"type\":\"histogram2d\"}],\"histogram\":[{\"marker\":{\"pattern\":{\"fillmode\":\"overlay\",\"size\":10,\"solidity\":0.2}},\"type\":\"histogram\"}],\"mesh3d\":[{\"colorbar\":{\"outlinewidth\":0,\"ticks\":\"\"},\"type\":\"mesh3d\"}],\"parcoords\":[{\"line\":{\"colorbar\":{\"outlinewidth\":0,\"ticks\":\"\"}},\"type\":\"parcoords\"}],\"pie\":[{\"automargin\":true,\"type\":\"pie\"}],\"scatter3d\":[{\"line\":{\"colorbar\":{\"outlinewidth\":0,\"ticks\":\"\"}},\"marker\":{\"colorbar\":{\"outlinewidth\":0,\"ticks\":\"\"}},\"type\":\"scatter3d\"}],\"scattercarpet\":[{\"marker\":{\"colorbar\":{\"outlinewidth\":0,\"ticks\":\"\"}},\"type\":\"scattercarpet\"}],\"scattergeo\":[{\"marker\":{\"colorbar\":{\"outlinewidth\":0,\"ticks\":\"\"}},\"type\":\"scattergeo\"}],\"scattergl\":[{\"marker\":{\"colorbar\":{\"outlinewidth\":0,\"ticks\":\"\"}},\"type\":\"scattergl\"}],\"scattermapbox\":[{\"marker\":{\"colorbar\":{\"outlinewidth\":0,\"ticks\":\"\"}},\"type\":\"scattermapbox\"}],\"scatterpolargl\":[{\"marker\":{\"colorbar\":{\"outlinewidth\":0,\"ticks\":\"\"}},\"type\":\"scatterpolargl\"}],\"scatterpolar\":[{\"marker\":{\"colorbar\":{\"outlinewidth\":0,\"ticks\":\"\"}},\"type\":\"scatterpolar\"}],\"scatter\":[{\"marker\":{\"colorbar\":{\"outlinewidth\":0,\"ticks\":\"\"}},\"type\":\"scatter\"}],\"scatterternary\":[{\"marker\":{\"colorbar\":{\"outlinewidth\":0,\"ticks\":\"\"}},\"type\":\"scatterternary\"}],\"surface\":[{\"colorbar\":{\"outlinewidth\":0,\"ticks\":\"\"},\"colorscale\":[[0.0,\"#0d0887\"],[0.1111111111111111,\"#46039f\"],[0.2222222222222222,\"#7201a8\"],[0.3333333333333333,\"#9c179e\"],[0.4444444444444444,\"#bd3786\"],[0.5555555555555556,\"#d8576b\"],[0.6666666666666666,\"#ed7953\"],[0.7777777777777778,\"#fb9f3a\"],[0.8888888888888888,\"#fdca26\"],[1.0,\"#f0f921\"]],\"type\":\"surface\"}],\"table\":[{\"cells\":{\"fill\":{\"color\":\"#EBF0F8\"},\"line\":{\"color\":\"white\"}},\"header\":{\"fill\":{\"color\":\"#C8D4E3\"},\"line\":{\"color\":\"white\"}},\"type\":\"table\"}]},\"layout\":{\"annotationdefaults\":{\"arrowcolor\":\"#2a3f5f\",\"arrowhead\":0,\"arrowwidth\":1},\"autotypenumbers\":\"strict\",\"coloraxis\":{\"colorbar\":{\"outlinewidth\":0,\"ticks\":\"\"}},\"colorscale\":{\"diverging\":[[0,\"#8e0152\"],[0.1,\"#c51b7d\"],[0.2,\"#de77ae\"],[0.3,\"#f1b6da\"],[0.4,\"#fde0ef\"],[0.5,\"#f7f7f7\"],[0.6,\"#e6f5d0\"],[0.7,\"#b8e186\"],[0.8,\"#7fbc41\"],[0.9,\"#4d9221\"],[1,\"#276419\"]],\"sequential\":[[0.0,\"#0d0887\"],[0.1111111111111111,\"#46039f\"],[0.2222222222222222,\"#7201a8\"],[0.3333333333333333,\"#9c179e\"],[0.4444444444444444,\"#bd3786\"],[0.5555555555555556,\"#d8576b\"],[0.6666666666666666,\"#ed7953\"],[0.7777777777777778,\"#fb9f3a\"],[0.8888888888888888,\"#fdca26\"],[1.0,\"#f0f921\"]],\"sequentialminus\":[[0.0,\"#0d0887\"],[0.1111111111111111,\"#46039f\"],[0.2222222222222222,\"#7201a8\"],[0.3333333333333333,\"#9c179e\"],[0.4444444444444444,\"#bd3786\"],[0.5555555555555556,\"#d8576b\"],[0.6666666666666666,\"#ed7953\"],[0.7777777777777778,\"#fb9f3a\"],[0.8888888888888888,\"#fdca26\"],[1.0,\"#f0f921\"]]},\"colorway\":[\"#636efa\",\"#EF553B\",\"#00cc96\",\"#ab63fa\",\"#FFA15A\",\"#19d3f3\",\"#FF6692\",\"#B6E880\",\"#FF97FF\",\"#FECB52\"],\"font\":{\"color\":\"#2a3f5f\"},\"geo\":{\"bgcolor\":\"white\",\"lakecolor\":\"white\",\"landcolor\":\"#E5ECF6\",\"showlakes\":true,\"showland\":true,\"subunitcolor\":\"white\"},\"hoverlabel\":{\"align\":\"left\"},\"hovermode\":\"closest\",\"mapbox\":{\"style\":\"light\"},\"paper_bgcolor\":\"white\",\"plot_bgcolor\":\"#E5ECF6\",\"polar\":{\"angularaxis\":{\"gridcolor\":\"white\",\"linecolor\":\"white\",\"ticks\":\"\"},\"bgcolor\":\"#E5ECF6\",\"radialaxis\":{\"gridcolor\":\"white\",\"linecolor\":\"white\",\"ticks\":\"\"}},\"scene\":{\"xaxis\":{\"backgroundcolor\":\"#E5ECF6\",\"gridcolor\":\"white\",\"gridwidth\":2,\"linecolor\":\"white\",\"showbackground\":true,\"ticks\":\"\",\"zerolinecolor\":\"white\"},\"yaxis\":{\"backgroundcolor\":\"#E5ECF6\",\"gridcolor\":\"white\",\"gridwidth\":2,\"linecolor\":\"white\",\"showbackground\":true,\"ticks\":\"\",\"zerolinecolor\":\"white\"},\"zaxis\":{\"backgroundcolor\":\"#E5ECF6\",\"gridcolor\":\"white\",\"gridwidth\":2,\"linecolor\":\"white\",\"showbackground\":true,\"ticks\":\"\",\"zerolinecolor\":\"white\"}},\"shapedefaults\":{\"line\":{\"color\":\"#2a3f5f\"}},\"ternary\":{\"aaxis\":{\"gridcolor\":\"white\",\"linecolor\":\"white\",\"ticks\":\"\"},\"baxis\":{\"gridcolor\":\"white\",\"linecolor\":\"white\",\"ticks\":\"\"},\"bgcolor\":\"#E5ECF6\",\"caxis\":{\"gridcolor\":\"white\",\"linecolor\":\"white\",\"ticks\":\"\"}},\"title\":{\"x\":0.05},\"xaxis\":{\"automargin\":true,\"gridcolor\":\"white\",\"linecolor\":\"white\",\"ticks\":\"\",\"title\":{\"standoff\":15},\"zerolinecolor\":\"white\",\"zerolinewidth\":2},\"yaxis\":{\"automargin\":true,\"gridcolor\":\"white\",\"linecolor\":\"white\",\"ticks\":\"\",\"title\":{\"standoff\":15},\"zerolinecolor\":\"white\",\"zerolinewidth\":2}}},\"title\":{\"text\":\"<b>Count of Products under each Category</b>\",\"font\":{\"family\":\"Courier New\",\"color\":\"red\",\"size\":20}},\"xaxis\":{\"anchor\":\"y\",\"domain\":[0.0,1.0],\"title\":{\"text\":\"<b>Category</b>\"}},\"yaxis\":{\"anchor\":\"x\",\"domain\":[0.0,1.0],\"title\":{\"text\":\"<b>No. of Products</b>\"}},\"font\":{\"family\":\"Courier New\"}},                        {\"responsive\": true}                    ).then(function(){\n",
              "                            \n",
              "var gd = document.getElementById('a5e5e367-07a1-41ef-b778-46340fbff4fb');\n",
              "var x = new MutationObserver(function (mutations, observer) {{\n",
              "        var display = window.getComputedStyle(gd).display;\n",
              "        if (!display || display === 'none') {{\n",
              "            console.log([gd, 'removed!']);\n",
              "            Plotly.purge(gd);\n",
              "            observer.disconnect();\n",
              "        }}\n",
              "}});\n",
              "\n",
              "// Listen for the removal of the full notebook cells\n",
              "var notebookContainer = gd.closest('#notebook-container');\n",
              "if (notebookContainer) {{\n",
              "    x.observe(notebookContainer, {childList: true});\n",
              "}}\n",
              "\n",
              "// Listen for the clearing of the current output cell\n",
              "var outputEl = gd.closest('.output');\n",
              "if (outputEl) {{\n",
              "    x.observe(outputEl, {childList: true});\n",
              "}}\n",
              "\n",
              "                        })                };                            </script>        </div>\n",
              "</body>\n",
              "</html>"
            ]
          },
          "metadata": {}
        }
      ]
    },
    {
      "cell_type": "markdown",
      "source": [
        "***OBERVATION: Category Beauty & Hygiene has the highest number of products, followed by Gourmet & World Food and Kitchen, Garden & Pets***"
      ],
      "metadata": {
        "id": "rZKDOtQ67QXy"
      }
    },
    {
      "cell_type": "code",
      "source": [
        "#Top 10 selling Products\n",
        "data = prod_data['product'].value_counts()[:10]\n",
        "plt.figure(figsize=(16,8))\n",
        "sns.barplot(x=data,y=data.index)\n",
        "plt.xlabel('Count',fontdict={'fontsize': 25})\n",
        "plt.ylabel('Product',fontdict={'fontsize': 25})\n",
        "plt.title('Top 10 selling Products',fontweight=\"bold\",fontdict={'fontsize': 30})\n",
        "plt.rcParams['font.size'] = 15"
      ],
      "metadata": {
        "id": "HA5kIdJP6e9H",
        "colab": {
          "base_uri": "https://localhost:8080/",
          "height": 540
        },
        "outputId": "0d258aed-7655-4f7d-adba-728c1b10e7a7"
      },
      "execution_count": null,
      "outputs": [
        {
          "output_type": "display_data",
          "data": {
            "text/plain": [
              "<Figure size 1152x576 with 1 Axes>"
            ],
            "image/png": "[encoded data removed]"
          },
          "metadata": {
            "needs_background": "light"
          }
        }
      ]
    },
    {
      "cell_type": "markdown",
      "source": [
        "**OBSERVATION: Brand Fresho has the highest number of Product Types, followed by bb Royal and BB Home**"
      ],
      "metadata": {
        "id": "b-LpRWmS7W0B"
      }
    },
    {
      "cell_type": "code",
      "source": [
        "#Category and their Sub-Categories Count\n",
        "cat_subctg=prod_data.groupby('category').agg(subctg_count=('sub_category', 'count')).reset_index().sort_values('subctg_count')\n",
        "cat_subctg=cat_subctg.sort_values('subctg_count', ascending=False)\n",
        "\n",
        "#cat_subctg\n",
        "\n",
        "\n",
        "fig = px.pie(values=cat_subctg.subctg_count, \n",
        "             names=cat_subctg.category,\n",
        "             color_discrete_sequence=px.colors.sequential.Viridis)\n",
        "fig.update_traces(textposition='inside',\n",
        "                  textfont_size=11,\n",
        "                  textinfo='value+label')\n",
        "\n",
        "fig.update_layout(title_text=\"<b>Category and their Sub-Categories Count</b>\",\n",
        "                  title_font_family=\"Times New Roman\",\n",
        "                  title_font_color=\"red\",\n",
        "                  title_font_size=20,\n",
        "                  uniformtext_minsize=12, \n",
        "                  uniformtext_mode='hide')\n",
        "\n",
        "fig.show()"
      ],
      "metadata": {
        "id": "IFotLO1Z7WhD",
        "colab": {
          "base_uri": "https://localhost:8080/",
          "height": 542
        },
        "outputId": "3431eeb0-e0e1-4d00-c675-0396a40bb669"
      },
      "execution_count": null,
      "outputs": [
        {
          "output_type": "display_data",
          "data": {
            "text/html": [
              "<html>\n",
              "<head><meta charset=\"utf-8\" /></head>\n",
              "<body>\n",
              "    <div>            <script src=\"https://cdnjs.cloudflare.com/ajax/libs/mathjax/2.7.5/MathJax.js?config=TeX-AMS-MML_SVG\"></script><script type=\"text/javascript\">if (window.MathJax) {MathJax.Hub.Config({SVG: {font: \"STIX-Web\"}});}</script>                <script type=\"text/javascript\">window.PlotlyConfig = {MathJaxConfig: 'local'};</script>\n",
              "        <script src=\"https://cdn.plot.ly/plotly-2.8.3.min.js\"></script>                <div id=\"320509e8-7dff-47b0-ae28-08546c8b30c1\" class=\"plotly-graph-div\" style=\"height:525px; width:100%;\"></div>            <script type=\"text/javascript\">                                    window.PLOTLYENV=window.PLOTLYENV || {};                                    if (document.getElementById(\"320509e8-7dff-47b0-ae28-08546c8b30c1\")) {                    Plotly.newPlot(                        \"320509e8-7dff-47b0-ae28-08546c8b30c1\",                        [{\"domain\":{\"x\":[0.0,1.0],\"y\":[0.0,1.0]},\"hovertemplate\":\"label=%{label}<br>value=%{value}<extra></extra>\",\"labels\":[\"Beauty & Hygiene\",\"Kitchen, Garden & Pets\",\"Snacks & Branded Foods\",\"Gourmet & World Food\",\"Foodgrains, Oil & Masala\",\"Cleaning & Household\",\"Bakery, Cakes & Dairy\",\"Beverages\",\"Baby Care\"],\"legendgroup\":\"\",\"name\":\"\",\"showlegend\":true,\"values\":[5460,2494,2468,2364,2173,2091,665,630,495],\"type\":\"pie\",\"textfont\":{\"size\":11},\"textinfo\":\"value+label\",\"textposition\":\"inside\"}],                        {\"template\":{\"data\":{\"bar\":[{\"error_x\":{\"color\":\"#2a3f5f\"},\"error_y\":{\"color\":\"#2a3f5f\"},\"marker\":{\"line\":{\"color\":\"#E5ECF6\",\"width\":0.5},\"pattern\":{\"fillmode\":\"overlay\",\"size\":10,\"solidity\":0.2}},\"type\":\"bar\"}],\"barpolar\":[{\"marker\":{\"line\":{\"color\":\"#E5ECF6\",\"width\":0.5},\"pattern\":{\"fillmode\":\"overlay\",\"size\":10,\"solidity\":0.2}},\"type\":\"barpolar\"}],\"carpet\":[{\"aaxis\":{\"endlinecolor\":\"#2a3f5f\",\"gridcolor\":\"white\",\"linecolor\":\"white\",\"minorgridcolor\":\"white\",\"startlinecolor\":\"#2a3f5f\"},\"baxis\":{\"endlinecolor\":\"#2a3f5f\",\"gridcolor\":\"white\",\"linecolor\":\"white\",\"minorgridcolor\":\"white\",\"startlinecolor\":\"#2a3f5f\"},\"type\":\"carpet\"}],\"choropleth\":[{\"colorbar\":{\"outlinewidth\":0,\"ticks\":\"\"},\"type\":\"choropleth\"}],\"contour\":[{\"colorbar\":{\"outlinewidth\":0,\"ticks\":\"\"},\"colorscale\":[[0.0,\"#0d0887\"],[0.1111111111111111,\"#46039f\"],[0.2222222222222222,\"#7201a8\"],[0.3333333333333333,\"#9c179e\"],[0.4444444444444444,\"#bd3786\"],[0.5555555555555556,\"#d8576b\"],[0.6666666666666666,\"#ed7953\"],[0.7777777777777778,\"#fb9f3a\"],[0.8888888888888888,\"#fdca26\"],[1.0,\"#f0f921\"]],\"type\":\"contour\"}],\"contourcarpet\":[{\"colorbar\":{\"outlinewidth\":0,\"ticks\":\"\"},\"type\":\"contourcarpet\"}],\"heatmap\":[{\"colorbar\":{\"outlinewidth\":0,\"ticks\":\"\"},\"colorscale\":[[0.0,\"#0d0887\"],[0.1111111111111111,\"#46039f\"],[0.2222222222222222,\"#7201a8\"],[0.3333333333333333,\"#9c179e\"],[0.4444444444444444,\"#bd3786\"],[0.5555555555555556,\"#d8576b\"],[0.6666666666666666,\"#ed7953\"],[0.7777777777777778,\"#fb9f3a\"],[0.8888888888888888,\"#fdca26\"],[1.0,\"#f0f921\"]],\"type\":\"heatmap\"}],\"heatmapgl\":[{\"colorbar\":{\"outlinewidth\":0,\"ticks\":\"\"},\"colorscale\":[[0.0,\"#0d0887\"],[0.1111111111111111,\"#46039f\"],[0.2222222222222222,\"#7201a8\"],[0.3333333333333333,\"#9c179e\"],[0.4444444444444444,\"#bd3786\"],[0.5555555555555556,\"#d8576b\"],[0.6666666666666666,\"#ed7953\"],[0.7777777777777778,\"#fb9f3a\"],[0.8888888888888888,\"#fdca26\"],[1.0,\"#f0f921\"]],\"type\":\"heatmapgl\"}],\"histogram\":[{\"marker\":{\"pattern\":{\"fillmode\":\"overlay\",\"size\":10,\"solidity\":0.2}},\"type\":\"histogram\"}],\"histogram2d\":[{\"colorbar\":{\"outlinewidth\":0,\"ticks\":\"\"},\"colorscale\":[[0.0,\"#0d0887\"],[0.1111111111111111,\"#46039f\"],[0.2222222222222222,\"#7201a8\"],[0.3333333333333333,\"#9c179e\"],[0.4444444444444444,\"#bd3786\"],[0.5555555555555556,\"#d8576b\"],[0.6666666666666666,\"#ed7953\"],[0.7777777777777778,\"#fb9f3a\"],[0.8888888888888888,\"#fdca26\"],[1.0,\"#f0f921\"]],\"type\":\"histogram2d\"}],\"histogram2dcontour\":[{\"colorbar\":{\"outlinewidth\":0,\"ticks\":\"\"},\"colorscale\":[[0.0,\"#0d0887\"],[0.1111111111111111,\"#46039f\"],[0.2222222222222222,\"#7201a8\"],[0.3333333333333333,\"#9c179e\"],[0.4444444444444444,\"#bd3786\"],[0.5555555555555556,\"#d8576b\"],[0.6666666666666666,\"#ed7953\"],[0.7777777777777778,\"#fb9f3a\"],[0.8888888888888888,\"#fdca26\"],[1.0,\"#f0f921\"]],\"type\":\"histogram2dcontour\"}],\"mesh3d\":[{\"colorbar\":{\"outlinewidth\":0,\"ticks\":\"\"},\"type\":\"mesh3d\"}],\"parcoords\":[{\"line\":{\"colorbar\":{\"outlinewidth\":0,\"ticks\":\"\"}},\"type\":\"parcoords\"}],\"pie\":[{\"automargin\":true,\"type\":\"pie\"}],\"scatter\":[{\"marker\":{\"colorbar\":{\"outlinewidth\":0,\"ticks\":\"\"}},\"type\":\"scatter\"}],\"scatter3d\":[{\"line\":{\"colorbar\":{\"outlinewidth\":0,\"ticks\":\"\"}},\"marker\":{\"colorbar\":{\"outlinewidth\":0,\"ticks\":\"\"}},\"type\":\"scatter3d\"}],\"scattercarpet\":[{\"marker\":{\"colorbar\":{\"outlinewidth\":0,\"ticks\":\"\"}},\"type\":\"scattercarpet\"}],\"scattergeo\":[{\"marker\":{\"colorbar\":{\"outlinewidth\":0,\"ticks\":\"\"}},\"type\":\"scattergeo\"}],\"scattergl\":[{\"marker\":{\"colorbar\":{\"outlinewidth\":0,\"ticks\":\"\"}},\"type\":\"scattergl\"}],\"scattermapbox\":[{\"marker\":{\"colorbar\":{\"outlinewidth\":0,\"ticks\":\"\"}},\"type\":\"scattermapbox\"}],\"scatterpolar\":[{\"marker\":{\"colorbar\":{\"outlinewidth\":0,\"ticks\":\"\"}},\"type\":\"scatterpolar\"}],\"scatterpolargl\":[{\"marker\":{\"colorbar\":{\"outlinewidth\":0,\"ticks\":\"\"}},\"type\":\"scatterpolargl\"}],\"scatterternary\":[{\"marker\":{\"colorbar\":{\"outlinewidth\":0,\"ticks\":\"\"}},\"type\":\"scatterternary\"}],\"surface\":[{\"colorbar\":{\"outlinewidth\":0,\"ticks\":\"\"},\"colorscale\":[[0.0,\"#0d0887\"],[0.1111111111111111,\"#46039f\"],[0.2222222222222222,\"#7201a8\"],[0.3333333333333333,\"#9c179e\"],[0.4444444444444444,\"#bd3786\"],[0.5555555555555556,\"#d8576b\"],[0.6666666666666666,\"#ed7953\"],[0.7777777777777778,\"#fb9f3a\"],[0.8888888888888888,\"#fdca26\"],[1.0,\"#f0f921\"]],\"type\":\"surface\"}],\"table\":[{\"cells\":{\"fill\":{\"color\":\"#EBF0F8\"},\"line\":{\"color\":\"white\"}},\"header\":{\"fill\":{\"color\":\"#C8D4E3\"},\"line\":{\"color\":\"white\"}},\"type\":\"table\"}]},\"layout\":{\"annotationdefaults\":{\"arrowcolor\":\"#2a3f5f\",\"arrowhead\":0,\"arrowwidth\":1},\"autotypenumbers\":\"strict\",\"coloraxis\":{\"colorbar\":{\"outlinewidth\":0,\"ticks\":\"\"}},\"colorscale\":{\"diverging\":[[0,\"#8e0152\"],[0.1,\"#c51b7d\"],[0.2,\"#de77ae\"],[0.3,\"#f1b6da\"],[0.4,\"#fde0ef\"],[0.5,\"#f7f7f7\"],[0.6,\"#e6f5d0\"],[0.7,\"#b8e186\"],[0.8,\"#7fbc41\"],[0.9,\"#4d9221\"],[1,\"#276419\"]],\"sequential\":[[0.0,\"#0d0887\"],[0.1111111111111111,\"#46039f\"],[0.2222222222222222,\"#7201a8\"],[0.3333333333333333,\"#9c179e\"],[0.4444444444444444,\"#bd3786\"],[0.5555555555555556,\"#d8576b\"],[0.6666666666666666,\"#ed7953\"],[0.7777777777777778,\"#fb9f3a\"],[0.8888888888888888,\"#fdca26\"],[1.0,\"#f0f921\"]],\"sequentialminus\":[[0.0,\"#0d0887\"],[0.1111111111111111,\"#46039f\"],[0.2222222222222222,\"#7201a8\"],[0.3333333333333333,\"#9c179e\"],[0.4444444444444444,\"#bd3786\"],[0.5555555555555556,\"#d8576b\"],[0.6666666666666666,\"#ed7953\"],[0.7777777777777778,\"#fb9f3a\"],[0.8888888888888888,\"#fdca26\"],[1.0,\"#f0f921\"]]},\"colorway\":[\"#636efa\",\"#EF553B\",\"#00cc96\",\"#ab63fa\",\"#FFA15A\",\"#19d3f3\",\"#FF6692\",\"#B6E880\",\"#FF97FF\",\"#FECB52\"],\"font\":{\"color\":\"#2a3f5f\"},\"geo\":{\"bgcolor\":\"white\",\"lakecolor\":\"white\",\"landcolor\":\"#E5ECF6\",\"showlakes\":true,\"showland\":true,\"subunitcolor\":\"white\"},\"hoverlabel\":{\"align\":\"left\"},\"hovermode\":\"closest\",\"mapbox\":{\"style\":\"light\"},\"paper_bgcolor\":\"white\",\"plot_bgcolor\":\"#E5ECF6\",\"polar\":{\"angularaxis\":{\"gridcolor\":\"white\",\"linecolor\":\"white\",\"ticks\":\"\"},\"bgcolor\":\"#E5ECF6\",\"radialaxis\":{\"gridcolor\":\"white\",\"linecolor\":\"white\",\"ticks\":\"\"}},\"scene\":{\"xaxis\":{\"backgroundcolor\":\"#E5ECF6\",\"gridcolor\":\"white\",\"gridwidth\":2,\"linecolor\":\"white\",\"showbackground\":true,\"ticks\":\"\",\"zerolinecolor\":\"white\"},\"yaxis\":{\"backgroundcolor\":\"#E5ECF6\",\"gridcolor\":\"white\",\"gridwidth\":2,\"linecolor\":\"white\",\"showbackground\":true,\"ticks\":\"\",\"zerolinecolor\":\"white\"},\"zaxis\":{\"backgroundcolor\":\"#E5ECF6\",\"gridcolor\":\"white\",\"gridwidth\":2,\"linecolor\":\"white\",\"showbackground\":true,\"ticks\":\"\",\"zerolinecolor\":\"white\"}},\"shapedefaults\":{\"line\":{\"color\":\"#2a3f5f\"}},\"ternary\":{\"aaxis\":{\"gridcolor\":\"white\",\"linecolor\":\"white\",\"ticks\":\"\"},\"baxis\":{\"gridcolor\":\"white\",\"linecolor\":\"white\",\"ticks\":\"\"},\"bgcolor\":\"#E5ECF6\",\"caxis\":{\"gridcolor\":\"white\",\"linecolor\":\"white\",\"ticks\":\"\"}},\"title\":{\"x\":0.05},\"xaxis\":{\"automargin\":true,\"gridcolor\":\"white\",\"linecolor\":\"white\",\"ticks\":\"\",\"title\":{\"standoff\":15},\"zerolinecolor\":\"white\",\"zerolinewidth\":2},\"yaxis\":{\"automargin\":true,\"gridcolor\":\"white\",\"linecolor\":\"white\",\"ticks\":\"\",\"title\":{\"standoff\":15},\"zerolinecolor\":\"white\",\"zerolinewidth\":2}}},\"legend\":{\"tracegroupgap\":0},\"margin\":{\"t\":60},\"piecolorway\":[\"#440154\",\"#482878\",\"#3e4989\",\"#31688e\",\"#26828e\",\"#1f9e89\",\"#35b779\",\"#6ece58\",\"#b5de2b\",\"#fde725\"],\"title\":{\"font\":{\"family\":\"Times New Roman\",\"color\":\"red\",\"size\":20},\"text\":\"<b>Category and their Sub-Categories Count</b>\"},\"uniformtext\":{\"minsize\":12,\"mode\":\"hide\"}},                        {\"responsive\": true}                    ).then(function(){\n",
              "                            \n",
              "var gd = document.getElementById('320509e8-7dff-47b0-ae28-08546c8b30c1');\n",
              "var x = new MutationObserver(function (mutations, observer) {{\n",
              "        var display = window.getComputedStyle(gd).display;\n",
              "        if (!display || display === 'none') {{\n",
              "            console.log([gd, 'removed!']);\n",
              "            Plotly.purge(gd);\n",
              "            observer.disconnect();\n",
              "        }}\n",
              "}});\n",
              "\n",
              "// Listen for the removal of the full notebook cells\n",
              "var notebookContainer = gd.closest('#notebook-container');\n",
              "if (notebookContainer) {{\n",
              "    x.observe(notebookContainer, {childList: true});\n",
              "}}\n",
              "\n",
              "// Listen for the clearing of the current output cell\n",
              "var outputEl = gd.closest('.output');\n",
              "if (outputEl) {{\n",
              "    x.observe(outputEl, {childList: true});\n",
              "}}\n",
              "\n",
              "                        })                };                            </script>        </div>\n",
              "</body>\n",
              "</html>"
            ]
          },
          "metadata": {}
        }
      ]
    },
    {
      "cell_type": "markdown",
      "source": [
        "***OBSERVATION: Category Beauty & Hygiene has the highest number of Sub-Categories, followed by Gourmet & World Food and Kitchen, Garden & Pets**"
      ],
      "metadata": {
        "id": "EwFcF3fT7oWq"
      }
    },
    {
      "cell_type": "markdown",
      "source": [
        "**ANALYSIS OF SALES PRICE**"
      ],
      "metadata": {
        "id": "d52ltY-H7sjZ"
      }
    },
    {
      "cell_type": "code",
      "source": [
        "print(Back.YELLOW+ Style.BRIGHT+ 'Analysis of Sale Price:' + Style.RESET_ALL)\n",
        "print('Minimum Sale Price : '+ Fore.RED+ Style.BRIGHT+ str(prod_data['sale_price'].min()) + Style.RESET_ALL)\n",
        "print('Maximum Sale Price : '+ Fore.RED+ Style.BRIGHT+ str(prod_data['sale_price'].max()) + Style.RESET_ALL)\n",
        "print('Mean Sale Price    : '+ Fore.RED+ Style.BRIGHT+ str(round(prod_data['sale_price'].mean(),2)) + Style.RESET_ALL)"
      ],
      "metadata": {
        "id": "6pinx1T67Wdi",
        "colab": {
          "base_uri": "https://localhost:8080/"
        },
        "outputId": "2bf291d6-752c-4c99-9a47-cd59a6d5ce45"
      },
      "execution_count": null,
      "outputs": [
        {
          "output_type": "stream",
          "name": "stdout",
          "text": [
            "\u001b[43m\u001b[1mAnalysis of Sale Price:\u001b[0m\n",
            "Minimum Sale Price : \u001b[31m\u001b[1m3.0\u001b[0m\n",
            "Maximum Sale Price : \u001b[31m\u001b[1m6660.0\u001b[0m\n",
            "Mean Sale Price    : \u001b[31m\u001b[1m267.68\u001b[0m\n"
          ]
        }
      ]
    },
    {
      "cell_type": "markdown",
      "source": [
        "**OBSERVATION: With minimum price at 2 and maxinum price at 12500, range appears to be huge but mean is only 322. Let us dig deep into price range.**"
      ],
      "metadata": {
        "id": "4q6ZXTWy73oq"
      }
    },
    {
      "cell_type": "code",
      "source": [
        "#Sale Price Range of the Products\n",
        "range_val = [['1-10',1, 10], ['11-25', 11, 25], ['26-50', 26, 50],\n",
        "              ['51-100',51, 100], ['101-150', 101, 150], ['151-200', 151, 200],\n",
        "              ['201-300',201, 300], ['301-400', 301, 400], ['401-500', 401, 500],\n",
        "              ['501-1000',501, 1000], ['1001-1500', 1001, 1500], ['1501-2000', 1501, 2000],\n",
        "              ['2001-3000',2001, 3000], ['3001-5000', 3001, 5000], ['5001-10000', 5001, 10000], \n",
        "              ['10001-15000',10001, 15000]] \n",
        "range_df = pd.DataFrame(range_val, columns=['range_name', 'min_val', 'max_val'])\n",
        "\n",
        "# range_df\n",
        "\n",
        "range_df['prod_count']=''\n",
        "for idx, row in range_df.iterrows():\n",
        "    range_df.at[idx, 'prod_count'] = len(prod_data['product'][(prod_data['sale_price']>= row['min_val']) & (prod_data['sale_price']<= row['max_val'])])\n",
        "# range_df\n",
        "\n",
        "fig = go.Figure(data=px.bar(x=range_df.range_name, \n",
        "                            y=range_df.prod_count,\n",
        "                            color = range_df.range_name,\n",
        "                            color_discrete_sequence=px.colors.sequential.Inferno,\n",
        "                            title='<b>Sale Price Range of the Products</b>',\n",
        "                            text = range_df.prod_count,\n",
        "                            height=500))\n",
        "fig.update_layout(\n",
        "    font_family=\"Courier New\",\n",
        "    title_font_family=\"Courier New\",\n",
        "    title_font_color=\"red\",\n",
        "    title_font_size=20,\n",
        "    xaxis_title=\"<b>Price Range</b>\",\n",
        "    yaxis_title=\"<b>No. of Products</b>\",\n",
        "    legend_title_font_color=\"green\"\n",
        ")\n",
        "fig.show()"
      ],
      "metadata": {
        "id": "YkXzIIP17Waj",
        "colab": {
          "base_uri": "https://localhost:8080/",
          "height": 517
        },
        "outputId": "96bd47f1-111c-4e71-b079-c6cbe16e880e"
      },
      "execution_count": null,
      "outputs": [
        {
          "output_type": "display_data",
          "data": {
            "text/html": [
              "<html>\n",
              "<head><meta charset=\"utf-8\" /></head>\n",
              "<body>\n",
              "    <div>            <script src=\"https://cdnjs.cloudflare.com/ajax/libs/mathjax/2.7.5/MathJax.js?config=TeX-AMS-MML_SVG\"></script><script type=\"text/javascript\">if (window.MathJax) {MathJax.Hub.Config({SVG: {font: \"STIX-Web\"}});}</script>                <script type=\"text/javascript\">window.PlotlyConfig = {MathJaxConfig: 'local'};</script>\n",
              "        <script src=\"https://cdn.plot.ly/plotly-2.8.3.min.js\"></script>                <div id=\"6fb6dcd4-1b39-4393-86b6-ac66a33a6b92\" class=\"plotly-graph-div\" style=\"height:500px; width:100%;\"></div>            <script type=\"text/javascript\">                                    window.PLOTLYENV=window.PLOTLYENV || {};                                    if (document.getElementById(\"6fb6dcd4-1b39-4393-86b6-ac66a33a6b92\")) {                    Plotly.newPlot(                        \"6fb6dcd4-1b39-4393-86b6-ac66a33a6b92\",                        [{\"alignmentgroup\":\"True\",\"hovertemplate\":\"color=1-10<br>x=%{x}<br>y=%{y}<br>text=%{text}<extra></extra>\",\"legendgroup\":\"1-10\",\"marker\":{\"color\":\"#000004\",\"pattern\":{\"shape\":\"\"}},\"name\":\"1-10\",\"offsetgroup\":\"1-10\",\"orientation\":\"v\",\"showlegend\":true,\"text\":[140],\"textposition\":\"auto\",\"x\":[\"1-10\"],\"xaxis\":\"x\",\"y\":[140],\"yaxis\":\"y\",\"type\":\"bar\"},{\"alignmentgroup\":\"True\",\"hovertemplate\":\"color=11-25<br>x=%{x}<br>y=%{y}<br>text=%{text}<extra></extra>\",\"legendgroup\":\"11-25\",\"marker\":{\"color\":\"#1b0c41\",\"pattern\":{\"shape\":\"\"}},\"name\":\"11-25\",\"offsetgroup\":\"11-25\",\"orientation\":\"v\",\"showlegend\":true,\"text\":[468],\"textposition\":\"auto\",\"x\":[\"11-25\"],\"xaxis\":\"x\",\"y\":[468],\"yaxis\":\"y\",\"type\":\"bar\"},{\"alignmentgroup\":\"True\",\"hovertemplate\":\"color=26-50<br>x=%{x}<br>y=%{y}<br>text=%{text}<extra></extra>\",\"legendgroup\":\"26-50\",\"marker\":{\"color\":\"#4a0c6b\",\"pattern\":{\"shape\":\"\"}},\"name\":\"26-50\",\"offsetgroup\":\"26-50\",\"orientation\":\"v\",\"showlegend\":true,\"text\":[1744],\"textposition\":\"auto\",\"x\":[\"26-50\"],\"xaxis\":\"x\",\"y\":[1744],\"yaxis\":\"y\",\"type\":\"bar\"},{\"alignmentgroup\":\"True\",\"hovertemplate\":\"color=51-100<br>x=%{x}<br>y=%{y}<br>text=%{text}<extra></extra>\",\"legendgroup\":\"51-100\",\"marker\":{\"color\":\"#781c6d\",\"pattern\":{\"shape\":\"\"}},\"name\":\"51-100\",\"offsetgroup\":\"51-100\",\"orientation\":\"v\",\"showlegend\":true,\"text\":[3672],\"textposition\":\"auto\",\"x\":[\"51-100\"],\"xaxis\":\"x\",\"y\":[3672],\"yaxis\":\"y\",\"type\":\"bar\"},{\"alignmentgroup\":\"True\",\"hovertemplate\":\"color=101-150<br>x=%{x}<br>y=%{y}<br>text=%{text}<extra></extra>\",\"legendgroup\":\"101-150\",\"marker\":{\"color\":\"#a52c60\",\"pattern\":{\"shape\":\"\"}},\"name\":\"101-150\",\"offsetgroup\":\"101-150\",\"orientation\":\"v\",\"showlegend\":true,\"text\":[2819],\"textposition\":\"auto\",\"x\":[\"101-150\"],\"xaxis\":\"x\",\"y\":[2819],\"yaxis\":\"y\",\"type\":\"bar\"},{\"alignmentgroup\":\"True\",\"hovertemplate\":\"color=151-200<br>x=%{x}<br>y=%{y}<br>text=%{text}<extra></extra>\",\"legendgroup\":\"151-200\",\"marker\":{\"color\":\"#cf4446\",\"pattern\":{\"shape\":\"\"}},\"name\":\"151-200\",\"offsetgroup\":\"151-200\",\"orientation\":\"v\",\"showlegend\":true,\"text\":[2310],\"textposition\":\"auto\",\"x\":[\"151-200\"],\"xaxis\":\"x\",\"y\":[2310],\"yaxis\":\"y\",\"type\":\"bar\"},{\"alignmentgroup\":\"True\",\"hovertemplate\":\"color=201-300<br>x=%{x}<br>y=%{y}<br>text=%{text}<extra></extra>\",\"legendgroup\":\"201-300\",\"marker\":{\"color\":\"#ed6925\",\"pattern\":{\"shape\":\"\"}},\"name\":\"201-300\",\"offsetgroup\":\"201-300\",\"orientation\":\"v\",\"showlegend\":true,\"text\":[2936],\"textposition\":\"auto\",\"x\":[\"201-300\"],\"xaxis\":\"x\",\"y\":[2936],\"yaxis\":\"y\",\"type\":\"bar\"},{\"alignmentgroup\":\"True\",\"hovertemplate\":\"color=301-400<br>x=%{x}<br>y=%{y}<br>text=%{text}<extra></extra>\",\"legendgroup\":\"301-400\",\"marker\":{\"color\":\"#fb9b06\",\"pattern\":{\"shape\":\"\"}},\"name\":\"301-400\",\"offsetgroup\":\"301-400\",\"orientation\":\"v\",\"showlegend\":true,\"text\":[1576],\"textposition\":\"auto\",\"x\":[\"301-400\"],\"xaxis\":\"x\",\"y\":[1576],\"yaxis\":\"y\",\"type\":\"bar\"},{\"alignmentgroup\":\"True\",\"hovertemplate\":\"color=401-500<br>x=%{x}<br>y=%{y}<br>text=%{text}<extra></extra>\",\"legendgroup\":\"401-500\",\"marker\":{\"color\":\"#f7d13d\",\"pattern\":{\"shape\":\"\"}},\"name\":\"401-500\",\"offsetgroup\":\"401-500\",\"orientation\":\"v\",\"showlegend\":true,\"text\":[1023],\"textposition\":\"auto\",\"x\":[\"401-500\"],\"xaxis\":\"x\",\"y\":[1023],\"yaxis\":\"y\",\"type\":\"bar\"},{\"alignmentgroup\":\"True\",\"hovertemplate\":\"color=501-1000<br>x=%{x}<br>y=%{y}<br>text=%{text}<extra></extra>\",\"legendgroup\":\"501-1000\",\"marker\":{\"color\":\"#fcffa4\",\"pattern\":{\"shape\":\"\"}},\"name\":\"501-1000\",\"offsetgroup\":\"501-1000\",\"orientation\":\"v\",\"showlegend\":true,\"text\":[1507],\"textposition\":\"auto\",\"x\":[\"501-1000\"],\"xaxis\":\"x\",\"y\":[1507],\"yaxis\":\"y\",\"type\":\"bar\"},{\"alignmentgroup\":\"True\",\"hovertemplate\":\"color=1001-1500<br>x=%{x}<br>y=%{y}<br>text=%{text}<extra></extra>\",\"legendgroup\":\"1001-1500\",\"marker\":{\"color\":\"#000004\",\"pattern\":{\"shape\":\"\"}},\"name\":\"1001-1500\",\"offsetgroup\":\"1001-1500\",\"orientation\":\"v\",\"showlegend\":true,\"text\":[321],\"textposition\":\"auto\",\"x\":[\"1001-1500\"],\"xaxis\":\"x\",\"y\":[321],\"yaxis\":\"y\",\"type\":\"bar\"},{\"alignmentgroup\":\"True\",\"hovertemplate\":\"color=1501-2000<br>x=%{x}<br>y=%{y}<br>text=%{text}<extra></extra>\",\"legendgroup\":\"1501-2000\",\"marker\":{\"color\":\"#1b0c41\",\"pattern\":{\"shape\":\"\"}},\"name\":\"1501-2000\",\"offsetgroup\":\"1501-2000\",\"orientation\":\"v\",\"showlegend\":true,\"text\":[145],\"textposition\":\"auto\",\"x\":[\"1501-2000\"],\"xaxis\":\"x\",\"y\":[145],\"yaxis\":\"y\",\"type\":\"bar\"},{\"alignmentgroup\":\"True\",\"hovertemplate\":\"color=2001-3000<br>x=%{x}<br>y=%{y}<br>text=%{text}<extra></extra>\",\"legendgroup\":\"2001-3000\",\"marker\":{\"color\":\"#4a0c6b\",\"pattern\":{\"shape\":\"\"}},\"name\":\"2001-3000\",\"offsetgroup\":\"2001-3000\",\"orientation\":\"v\",\"showlegend\":true,\"text\":[105],\"textposition\":\"auto\",\"x\":[\"2001-3000\"],\"xaxis\":\"x\",\"y\":[105],\"yaxis\":\"y\",\"type\":\"bar\"},{\"alignmentgroup\":\"True\",\"hovertemplate\":\"color=3001-5000<br>x=%{x}<br>y=%{y}<br>text=%{text}<extra></extra>\",\"legendgroup\":\"3001-5000\",\"marker\":{\"color\":\"#781c6d\",\"pattern\":{\"shape\":\"\"}},\"name\":\"3001-5000\",\"offsetgroup\":\"3001-5000\",\"orientation\":\"v\",\"showlegend\":true,\"text\":[47],\"textposition\":\"auto\",\"x\":[\"3001-5000\"],\"xaxis\":\"x\",\"y\":[47],\"yaxis\":\"y\",\"type\":\"bar\"},{\"alignmentgroup\":\"True\",\"hovertemplate\":\"color=5001-10000<br>x=%{x}<br>y=%{y}<br>text=%{text}<extra></extra>\",\"legendgroup\":\"5001-10000\",\"marker\":{\"color\":\"#a52c60\",\"pattern\":{\"shape\":\"\"}},\"name\":\"5001-10000\",\"offsetgroup\":\"5001-10000\",\"orientation\":\"v\",\"showlegend\":true,\"text\":[4],\"textposition\":\"auto\",\"x\":[\"5001-10000\"],\"xaxis\":\"x\",\"y\":[4],\"yaxis\":\"y\",\"type\":\"bar\"},{\"alignmentgroup\":\"True\",\"hovertemplate\":\"color=10001-15000<br>x=%{x}<br>y=%{y}<br>text=%{text}<extra></extra>\",\"legendgroup\":\"10001-15000\",\"marker\":{\"color\":\"#cf4446\",\"pattern\":{\"shape\":\"\"}},\"name\":\"10001-15000\",\"offsetgroup\":\"10001-15000\",\"orientation\":\"v\",\"showlegend\":true,\"text\":[0],\"textposition\":\"auto\",\"x\":[\"10001-15000\"],\"xaxis\":\"x\",\"y\":[0],\"yaxis\":\"y\",\"type\":\"bar\"}],                        {\"barmode\":\"relative\",\"height\":500,\"legend\":{\"title\":{\"text\":\"color\",\"font\":{\"color\":\"green\"}},\"tracegroupgap\":0},\"template\":{\"data\":{\"barpolar\":[{\"marker\":{\"line\":{\"color\":\"#E5ECF6\",\"width\":0.5},\"pattern\":{\"fillmode\":\"overlay\",\"size\":10,\"solidity\":0.2}},\"type\":\"barpolar\"}],\"bar\":[{\"error_x\":{\"color\":\"#2a3f5f\"},\"error_y\":{\"color\":\"#2a3f5f\"},\"marker\":{\"line\":{\"color\":\"#E5ECF6\",\"width\":0.5},\"pattern\":{\"fillmode\":\"overlay\",\"size\":10,\"solidity\":0.2}},\"type\":\"bar\"}],\"carpet\":[{\"aaxis\":{\"endlinecolor\":\"#2a3f5f\",\"gridcolor\":\"white\",\"linecolor\":\"white\",\"minorgridcolor\":\"white\",\"startlinecolor\":\"#2a3f5f\"},\"baxis\":{\"endlinecolor\":\"#2a3f5f\",\"gridcolor\":\"white\",\"linecolor\":\"white\",\"minorgridcolor\":\"white\",\"startlinecolor\":\"#2a3f5f\"},\"type\":\"carpet\"}],\"choropleth\":[{\"colorbar\":{\"outlinewidth\":0,\"ticks\":\"\"},\"type\":\"choropleth\"}],\"contourcarpet\":[{\"colorbar\":{\"outlinewidth\":0,\"ticks\":\"\"},\"type\":\"contourcarpet\"}],\"contour\":[{\"colorbar\":{\"outlinewidth\":0,\"ticks\":\"\"},\"colorscale\":[[0.0,\"#0d0887\"],[0.1111111111111111,\"#46039f\"],[0.2222222222222222,\"#7201a8\"],[0.3333333333333333,\"#9c179e\"],[0.4444444444444444,\"#bd3786\"],[0.5555555555555556,\"#d8576b\"],[0.6666666666666666,\"#ed7953\"],[0.7777777777777778,\"#fb9f3a\"],[0.8888888888888888,\"#fdca26\"],[1.0,\"#f0f921\"]],\"type\":\"contour\"}],\"heatmapgl\":[{\"colorbar\":{\"outlinewidth\":0,\"ticks\":\"\"},\"colorscale\":[[0.0,\"#0d0887\"],[0.1111111111111111,\"#46039f\"],[0.2222222222222222,\"#7201a8\"],[0.3333333333333333,\"#9c179e\"],[0.4444444444444444,\"#bd3786\"],[0.5555555555555556,\"#d8576b\"],[0.6666666666666666,\"#ed7953\"],[0.7777777777777778,\"#fb9f3a\"],[0.8888888888888888,\"#fdca26\"],[1.0,\"#f0f921\"]],\"type\":\"heatmapgl\"}],\"heatmap\":[{\"colorbar\":{\"outlinewidth\":0,\"ticks\":\"\"},\"colorscale\":[[0.0,\"#0d0887\"],[0.1111111111111111,\"#46039f\"],[0.2222222222222222,\"#7201a8\"],[0.3333333333333333,\"#9c179e\"],[0.4444444444444444,\"#bd3786\"],[0.5555555555555556,\"#d8576b\"],[0.6666666666666666,\"#ed7953\"],[0.7777777777777778,\"#fb9f3a\"],[0.8888888888888888,\"#fdca26\"],[1.0,\"#f0f921\"]],\"type\":\"heatmap\"}],\"histogram2dcontour\":[{\"colorbar\":{\"outlinewidth\":0,\"ticks\":\"\"},\"colorscale\":[[0.0,\"#0d0887\"],[0.1111111111111111,\"#46039f\"],[0.2222222222222222,\"#7201a8\"],[0.3333333333333333,\"#9c179e\"],[0.4444444444444444,\"#bd3786\"],[0.5555555555555556,\"#d8576b\"],[0.6666666666666666,\"#ed7953\"],[0.7777777777777778,\"#fb9f3a\"],[0.8888888888888888,\"#fdca26\"],[1.0,\"#f0f921\"]],\"type\":\"histogram2dcontour\"}],\"histogram2d\":[{\"colorbar\":{\"outlinewidth\":0,\"ticks\":\"\"},\"colorscale\":[[0.0,\"#0d0887\"],[0.1111111111111111,\"#46039f\"],[0.2222222222222222,\"#7201a8\"],[0.3333333333333333,\"#9c179e\"],[0.4444444444444444,\"#bd3786\"],[0.5555555555555556,\"#d8576b\"],[0.6666666666666666,\"#ed7953\"],[0.7777777777777778,\"#fb9f3a\"],[0.8888888888888888,\"#fdca26\"],[1.0,\"#f0f921\"]],\"type\":\"histogram2d\"}],\"histogram\":[{\"marker\":{\"pattern\":{\"fillmode\":\"overlay\",\"size\":10,\"solidity\":0.2}},\"type\":\"histogram\"}],\"mesh3d\":[{\"colorbar\":{\"outlinewidth\":0,\"ticks\":\"\"},\"type\":\"mesh3d\"}],\"parcoords\":[{\"line\":{\"colorbar\":{\"outlinewidth\":0,\"ticks\":\"\"}},\"type\":\"parcoords\"}],\"pie\":[{\"automargin\":true,\"type\":\"pie\"}],\"scatter3d\":[{\"line\":{\"colorbar\":{\"outlinewidth\":0,\"ticks\":\"\"}},\"marker\":{\"colorbar\":{\"outlinewidth\":0,\"ticks\":\"\"}},\"type\":\"scatter3d\"}],\"scattercarpet\":[{\"marker\":{\"colorbar\":{\"outlinewidth\":0,\"ticks\":\"\"}},\"type\":\"scattercarpet\"}],\"scattergeo\":[{\"marker\":{\"colorbar\":{\"outlinewidth\":0,\"ticks\":\"\"}},\"type\":\"scattergeo\"}],\"scattergl\":[{\"marker\":{\"colorbar\":{\"outlinewidth\":0,\"ticks\":\"\"}},\"type\":\"scattergl\"}],\"scattermapbox\":[{\"marker\":{\"colorbar\":{\"outlinewidth\":0,\"ticks\":\"\"}},\"type\":\"scattermapbox\"}],\"scatterpolargl\":[{\"marker\":{\"colorbar\":{\"outlinewidth\":0,\"ticks\":\"\"}},\"type\":\"scatterpolargl\"}],\"scatterpolar\":[{\"marker\":{\"colorbar\":{\"outlinewidth\":0,\"ticks\":\"\"}},\"type\":\"scatterpolar\"}],\"scatter\":[{\"marker\":{\"colorbar\":{\"outlinewidth\":0,\"ticks\":\"\"}},\"type\":\"scatter\"}],\"scatterternary\":[{\"marker\":{\"colorbar\":{\"outlinewidth\":0,\"ticks\":\"\"}},\"type\":\"scatterternary\"}],\"surface\":[{\"colorbar\":{\"outlinewidth\":0,\"ticks\":\"\"},\"colorscale\":[[0.0,\"#0d0887\"],[0.1111111111111111,\"#46039f\"],[0.2222222222222222,\"#7201a8\"],[0.3333333333333333,\"#9c179e\"],[0.4444444444444444,\"#bd3786\"],[0.5555555555555556,\"#d8576b\"],[0.6666666666666666,\"#ed7953\"],[0.7777777777777778,\"#fb9f3a\"],[0.8888888888888888,\"#fdca26\"],[1.0,\"#f0f921\"]],\"type\":\"surface\"}],\"table\":[{\"cells\":{\"fill\":{\"color\":\"#EBF0F8\"},\"line\":{\"color\":\"white\"}},\"header\":{\"fill\":{\"color\":\"#C8D4E3\"},\"line\":{\"color\":\"white\"}},\"type\":\"table\"}]},\"layout\":{\"annotationdefaults\":{\"arrowcolor\":\"#2a3f5f\",\"arrowhead\":0,\"arrowwidth\":1},\"autotypenumbers\":\"strict\",\"coloraxis\":{\"colorbar\":{\"outlinewidth\":0,\"ticks\":\"\"}},\"colorscale\":{\"diverging\":[[0,\"#8e0152\"],[0.1,\"#c51b7d\"],[0.2,\"#de77ae\"],[0.3,\"#f1b6da\"],[0.4,\"#fde0ef\"],[0.5,\"#f7f7f7\"],[0.6,\"#e6f5d0\"],[0.7,\"#b8e186\"],[0.8,\"#7fbc41\"],[0.9,\"#4d9221\"],[1,\"#276419\"]],\"sequential\":[[0.0,\"#0d0887\"],[0.1111111111111111,\"#46039f\"],[0.2222222222222222,\"#7201a8\"],[0.3333333333333333,\"#9c179e\"],[0.4444444444444444,\"#bd3786\"],[0.5555555555555556,\"#d8576b\"],[0.6666666666666666,\"#ed7953\"],[0.7777777777777778,\"#fb9f3a\"],[0.8888888888888888,\"#fdca26\"],[1.0,\"#f0f921\"]],\"sequentialminus\":[[0.0,\"#0d0887\"],[0.1111111111111111,\"#46039f\"],[0.2222222222222222,\"#7201a8\"],[0.3333333333333333,\"#9c179e\"],[0.4444444444444444,\"#bd3786\"],[0.5555555555555556,\"#d8576b\"],[0.6666666666666666,\"#ed7953\"],[0.7777777777777778,\"#fb9f3a\"],[0.8888888888888888,\"#fdca26\"],[1.0,\"#f0f921\"]]},\"colorway\":[\"#636efa\",\"#EF553B\",\"#00cc96\",\"#ab63fa\",\"#FFA15A\",\"#19d3f3\",\"#FF6692\",\"#B6E880\",\"#FF97FF\",\"#FECB52\"],\"font\":{\"color\":\"#2a3f5f\"},\"geo\":{\"bgcolor\":\"white\",\"lakecolor\":\"white\",\"landcolor\":\"#E5ECF6\",\"showlakes\":true,\"showland\":true,\"subunitcolor\":\"white\"},\"hoverlabel\":{\"align\":\"left\"},\"hovermode\":\"closest\",\"mapbox\":{\"style\":\"light\"},\"paper_bgcolor\":\"white\",\"plot_bgcolor\":\"#E5ECF6\",\"polar\":{\"angularaxis\":{\"gridcolor\":\"white\",\"linecolor\":\"white\",\"ticks\":\"\"},\"bgcolor\":\"#E5ECF6\",\"radialaxis\":{\"gridcolor\":\"white\",\"linecolor\":\"white\",\"ticks\":\"\"}},\"scene\":{\"xaxis\":{\"backgroundcolor\":\"#E5ECF6\",\"gridcolor\":\"white\",\"gridwidth\":2,\"linecolor\":\"white\",\"showbackground\":true,\"ticks\":\"\",\"zerolinecolor\":\"white\"},\"yaxis\":{\"backgroundcolor\":\"#E5ECF6\",\"gridcolor\":\"white\",\"gridwidth\":2,\"linecolor\":\"white\",\"showbackground\":true,\"ticks\":\"\",\"zerolinecolor\":\"white\"},\"zaxis\":{\"backgroundcolor\":\"#E5ECF6\",\"gridcolor\":\"white\",\"gridwidth\":2,\"linecolor\":\"white\",\"showbackground\":true,\"ticks\":\"\",\"zerolinecolor\":\"white\"}},\"shapedefaults\":{\"line\":{\"color\":\"#2a3f5f\"}},\"ternary\":{\"aaxis\":{\"gridcolor\":\"white\",\"linecolor\":\"white\",\"ticks\":\"\"},\"baxis\":{\"gridcolor\":\"white\",\"linecolor\":\"white\",\"ticks\":\"\"},\"bgcolor\":\"#E5ECF6\",\"caxis\":{\"gridcolor\":\"white\",\"linecolor\":\"white\",\"ticks\":\"\"}},\"title\":{\"x\":0.05},\"xaxis\":{\"automargin\":true,\"gridcolor\":\"white\",\"linecolor\":\"white\",\"ticks\":\"\",\"title\":{\"standoff\":15},\"zerolinecolor\":\"white\",\"zerolinewidth\":2},\"yaxis\":{\"automargin\":true,\"gridcolor\":\"white\",\"linecolor\":\"white\",\"ticks\":\"\",\"title\":{\"standoff\":15},\"zerolinecolor\":\"white\",\"zerolinewidth\":2}}},\"title\":{\"text\":\"<b>Sale Price Range of the Products</b>\",\"font\":{\"family\":\"Courier New\",\"color\":\"red\",\"size\":20}},\"xaxis\":{\"anchor\":\"y\",\"domain\":[0.0,1.0],\"title\":{\"text\":\"<b>Price Range</b>\"}},\"yaxis\":{\"anchor\":\"x\",\"domain\":[0.0,1.0],\"title\":{\"text\":\"<b>No. of Products</b>\"}},\"font\":{\"family\":\"Courier New\"}},                        {\"responsive\": true}                    ).then(function(){\n",
              "                            \n",
              "var gd = document.getElementById('6fb6dcd4-1b39-4393-86b6-ac66a33a6b92');\n",
              "var x = new MutationObserver(function (mutations, observer) {{\n",
              "        var display = window.getComputedStyle(gd).display;\n",
              "        if (!display || display === 'none') {{\n",
              "            console.log([gd, 'removed!']);\n",
              "            Plotly.purge(gd);\n",
              "            observer.disconnect();\n",
              "        }}\n",
              "}});\n",
              "\n",
              "// Listen for the removal of the full notebook cells\n",
              "var notebookContainer = gd.closest('#notebook-container');\n",
              "if (notebookContainer) {{\n",
              "    x.observe(notebookContainer, {childList: true});\n",
              "}}\n",
              "\n",
              "// Listen for the clearing of the current output cell\n",
              "var outputEl = gd.closest('.output');\n",
              "if (outputEl) {{\n",
              "    x.observe(outputEl, {childList: true});\n",
              "}}\n",
              "\n",
              "                        })                };                            </script>        </div>\n",
              "</body>\n",
              "</html>"
            ]
          },
          "metadata": {}
        }
      ]
    },
    {
      "cell_type": "markdown",
      "source": [
        "**From the above plot we can observe the following : 28% of the products are under Rs100 53% of the products are covered in price range 1-200 78% of the products are covered in price range 1-400 95% of the products are covered in price range 1-1000**"
      ],
      "metadata": {
        "id": "DCrGS-sw8GNS"
      }
    },
    {
      "cell_type": "code",
      "source": [
        "#boxplot for distribution\n",
        "f = plt.figure()\n",
        "f.set_figwidth(25)\n",
        "f.set_figheight(5)\n",
        "\n",
        "box_df= prod_data[prod_data['sale_price']<=1000]\n",
        "\n",
        "sns.boxplot(y=box_df['sale_price'], x=box_df['category'])\n",
        "plt.title('Boxplot of Sale Price for each of the Category', fontsize=15, color='red', fontweight='bold')\n",
        "plt.ylabel('Sale Price')\n",
        "plt.xlabel('Category');"
      ],
      "metadata": {
        "id": "2oKPzogT7WX1",
        "colab": {
          "base_uri": "https://localhost:8080/",
          "height": 308
        },
        "outputId": "bfe5e403-fca7-4ab8-d2b0-5870448056f3"
      },
      "execution_count": null,
      "outputs": [
        {
          "output_type": "display_data",
          "data": {
            "text/plain": [
              "<Figure size 1800x360 with 1 Axes>"
            ],
            "image/png": "[encoded data removed]"
          },
          "metadata": {
            "needs_background": "light"
          }
        }
      ]
    },
    {
      "cell_type": "markdown",
      "source": [
        "**OBSERVATION: Even though we have very wide range of sale price in each of the categories, all of them are having mean price around 150-300**\n",
        "\n",
        "**ANALYSIS OF RATING**\n",
        "\n",
        "**For this analysis we shall consider only the brands that have minimum of 50 products rating.**"
      ],
      "metadata": {
        "id": "cO9Ngjbv8QJ8"
      }
    },
    {
      "cell_type": "code",
      "source": [
        "#Brand Average Rating Details\n",
        "rating_df=prod_data[prod_data['rating'].notnull()].groupby('brand').agg(rating_count=('rating', 'count'))\\\n",
        "      .reset_index().sort_values('rating_count', ascending=False)\n",
        "rating_df= rating_df[rating_df['rating_count']>=50]\n",
        "\n",
        "brand_avg_rating=prod_data[prod_data['brand'].isin(rating_df['brand'])].groupby(['brand'])\\\n",
        "    .agg(avg_rating=('rating', 'mean')).reset_index().sort_values('avg_rating', ascending=False)\n",
        "brand_avg_rating= brand_avg_rating.round({\"avg_rating\":1})\n",
        "brand_avg_rating=brand_avg_rating.sort_values('avg_rating', ascending=False)\n",
        "\n",
        "# brand_avg_rating\n",
        "\n",
        "print(Back.YELLOW+ Style.BRIGHT+ 'Brand Average Rating Details:' + Style.RESET_ALL)\n",
        "brand_avg_rating['avg_rating'].describe()"
      ],
      "metadata": {
        "id": "1dAtPMFz8PyK",
        "colab": {
          "base_uri": "https://localhost:8080/"
        },
        "outputId": "cd265325-7286-4051-b05d-6d7bb8f5c542"
      },
      "execution_count": null,
      "outputs": [
        {
          "output_type": "stream",
          "name": "stdout",
          "text": [
            "\u001b[43m\u001b[1mBrand Average Rating Details:\u001b[0m\n"
          ]
        },
        {
          "output_type": "execute_result",
          "data": {
            "text/plain": [
              "count    61.000000\n",
              "mean      3.970492\n",
              "std       0.212402\n",
              "min       3.400000\n",
              "25%       3.800000\n",
              "50%       4.000000\n",
              "75%       4.100000\n",
              "max       4.500000\n",
              "Name: avg_rating, dtype: float64"
            ]
          },
          "metadata": {},
          "execution_count": 21
        }
      ]
    },
    {
      "cell_type": "markdown",
      "source": [
        "**OBSERVATION: Brands (that have at least 50 products rating) received rating between 3.4 and 4.5**"
      ],
      "metadata": {
        "id": "emc5LHo28eSm"
      }
    },
    {
      "cell_type": "code",
      "source": [
        "#Brands and their Rating\n",
        "color_scheme=px.colors.sequential.Peach\n",
        "\n",
        "fig = px.treemap(brand_avg_rating, \n",
        "                 path=['avg_rating', 'brand'],\n",
        "                 values='avg_rating', \n",
        "                 title = '<b> Brands and their Rating</b>',\n",
        "                 color_discrete_sequence=px.colors.sequential.Peach,\n",
        "                 width=1000, height=500)\n",
        "fig.update_layout(template = 'ggplot2')\n",
        "fig.show()"
      ],
      "metadata": {
        "id": "LCQbZuYW8Pnj",
        "colab": {
          "base_uri": "https://localhost:8080/",
          "height": 517
        },
        "outputId": "3b55ba88-bb42-49d0-a8df-53360a809dd7"
      },
      "execution_count": null,
      "outputs": [
        {
          "output_type": "display_data",
          "data": {
            "text/html": [
              "<html>\n",
              "<head><meta charset=\"utf-8\" /></head>\n",
              "<body>\n",
              "    <div>            <script src=\"https://cdnjs.cloudflare.com/ajax/libs/mathjax/2.7.5/MathJax.js?config=TeX-AMS-MML_SVG\"></script><script type=\"text/javascript\">if (window.MathJax) {MathJax.Hub.Config({SVG: {font: \"STIX-Web\"}});}</script>                <script type=\"text/javascript\">window.PlotlyConfig = {MathJaxConfig: 'local'};</script>\n",
              "        <script src=\"https://cdn.plot.ly/plotly-2.8.3.min.js\"></script>                <div id=\"aa71997b-7594-43b0-affe-2ba3ac9e57fa\" class=\"plotly-graph-div\" style=\"height:500px; width:1000px;\"></div>            <script type=\"text/javascript\">                                    window.PLOTLYENV=window.PLOTLYENV || {};                                    if (document.getElementById(\"aa71997b-7594-43b0-affe-2ba3ac9e57fa\")) {                    Plotly.newPlot(                        \"aa71997b-7594-43b0-affe-2ba3ac9e57fa\",                        [{\"branchvalues\":\"total\",\"domain\":{\"x\":[0.0,1.0],\"y\":[0.0,1.0]},\"hovertemplate\":\"labels=%{label}<br>avg_rating=%{value}<br>parent=%{parent}<br>id=%{id}<extra></extra>\",\"ids\":[\"4.1/24 Mantra\",\"3.8/Aloe Veda\",\"4.0/Amul\",\"3.7/Anjali\",\"4.0/Aroma Magic \",\"3.6/Asian\",\"4.1/BB Home\",\"4.0/BIOTIQUE\",\"4.4/Bella\",\"4.2/Britannia\",\"3.9/Cello\",\"3.7/Claycraft\",\"4.1/Colgate\",\"4.2/DP\",\"4.1/Dabur\",\"4.2/Dettol\",\"4.1/Eastern\",\"4.0/Engage\",\"3.9/Epigamia \",\"4.0/Fogg \",\"3.7/Gala\",\"4.2/Gillette\",\"4.0/Graminway\",\"4.1/Himalaya\",\"4.0/Himalayan Natives\",\"3.8/INATUR \",\"3.7/Iveo \",\"4.1/Keya\",\"4.1/Khadi Natural\",\"3.5/LaOpala\",\"4.0/Lakme\",\"4.1/Loreal Paris\",\"4.2/Lotus Herbals\",\"4.1/MTR\",\"3.9/Mamaearth\",\"3.8/Mastercook\",\"3.8/MeraKisan\",\"3.6/NUTRIWISH\",\"3.7/Nakoda\",\"3.8/Nike\",\"4.2/Nivea\",\"4.2/Nivea Men\",\"4.0/Nutty Yogi\",\"3.8/Organic Harvest\",\"4.0/Organic Tattva\",\"4.2/Pampers \",\"4.0/Park avenue\",\"3.4/Prestige\",\"3.6/Princeware\",\"3.9/Puramate\",\"4.0/Ratan\",\"4.0/Safe Harvest\",\"3.8/Set Wet\",\"4.0/Soulflower\",\"3.9/StBotanica\",\"4.2/Sunfeast\",\"4.0/True Elements\",\"4.5/VAHDAM\",\"4.1/Veeba\",\"4.1/Vlcc\",\"4.0/bb Royal\",\"3.4\",\"3.5\",\"3.6\",\"3.7\",\"3.8\",\"3.9\",\"4.0\",\"4.1\",\"4.2\",\"4.4\",\"4.5\"],\"labels\":[\"24 Mantra\",\"Aloe Veda\",\"Amul\",\"Anjali\",\"Aroma Magic \",\"Asian\",\"BB Home\",\"BIOTIQUE\",\"Bella\",\"Britannia\",\"Cello\",\"Claycraft\",\"Colgate\",\"DP\",\"Dabur\",\"Dettol\",\"Eastern\",\"Engage\",\"Epigamia \",\"Fogg \",\"Gala\",\"Gillette\",\"Graminway\",\"Himalaya\",\"Himalayan Natives\",\"INATUR \",\"Iveo \",\"Keya\",\"Khadi Natural\",\"LaOpala\",\"Lakme\",\"Loreal Paris\",\"Lotus Herbals\",\"MTR\",\"Mamaearth\",\"Mastercook\",\"MeraKisan\",\"NUTRIWISH\",\"Nakoda\",\"Nike\",\"Nivea\",\"Nivea Men\",\"Nutty Yogi\",\"Organic Harvest\",\"Organic Tattva\",\"Pampers \",\"Park avenue\",\"Prestige\",\"Princeware\",\"Puramate\",\"Ratan\",\"Safe Harvest\",\"Set Wet\",\"Soulflower\",\"StBotanica\",\"Sunfeast\",\"True Elements\",\"VAHDAM\",\"Veeba\",\"Vlcc\",\"bb Royal\",\"3.4\",\"3.5\",\"3.6\",\"3.7\",\"3.8\",\"3.9\",\"4.0\",\"4.1\",\"4.2\",\"4.4\",\"4.5\"],\"name\":\"\",\"parents\":[\"4.1\",\"3.8\",\"4.0\",\"3.7\",\"4.0\",\"3.6\",\"4.1\",\"4.0\",\"4.4\",\"4.2\",\"3.9\",\"3.7\",\"4.1\",\"4.2\",\"4.1\",\"4.2\",\"4.1\",\"4.0\",\"3.9\",\"4.0\",\"3.7\",\"4.2\",\"4.0\",\"4.1\",\"4.0\",\"3.8\",\"3.7\",\"4.1\",\"4.1\",\"3.5\",\"4.0\",\"4.1\",\"4.2\",\"4.1\",\"3.9\",\"3.8\",\"3.8\",\"3.6\",\"3.7\",\"3.8\",\"4.2\",\"4.2\",\"4.0\",\"3.8\",\"4.0\",\"4.2\",\"4.0\",\"3.4\",\"3.6\",\"3.9\",\"4.0\",\"4.0\",\"3.8\",\"4.0\",\"3.9\",\"4.2\",\"4.0\",\"4.5\",\"4.1\",\"4.1\",\"4.0\",\"\",\"\",\"\",\"\",\"\",\"\",\"\",\"\",\"\",\"\",\"\"],\"values\":[4.1,3.8,4.0,3.7,4.0,3.6,4.1,4.0,4.4,4.2,3.9,3.7,4.1,4.2,4.1,4.2,4.1,4.0,3.9,4.0,3.7,4.2,4.0,4.1,4.0,3.8,3.7,4.1,4.1,3.5,4.0,4.1,4.2,4.1,3.9,3.8,3.8,3.6,3.7,3.8,4.2,4.2,4.0,3.8,4.0,4.2,4.0,3.4,3.6,3.9,4.0,4.0,3.8,4.0,3.9,4.2,4.0,4.5,4.1,4.1,4.0,3.4,3.5,10.8,18.5,26.599999999999998,19.5,64.0,49.199999999999996,37.800000000000004,4.4,4.5],\"type\":\"treemap\"}],                        {\"template\":{\"data\":{\"barpolar\":[{\"marker\":{\"line\":{\"color\":\"rgb(237,237,237)\",\"width\":0.5},\"pattern\":{\"fillmode\":\"overlay\",\"size\":10,\"solidity\":0.2}},\"type\":\"barpolar\"}],\"bar\":[{\"error_x\":{\"color\":\"rgb(51,51,51)\"},\"error_y\":{\"color\":\"rgb(51,51,51)\"},\"marker\":{\"line\":{\"color\":\"rgb(237,237,237)\",\"width\":0.5},\"pattern\":{\"fillmode\":\"overlay\",\"size\":10,\"solidity\":0.2}},\"type\":\"bar\"}],\"carpet\":[{\"aaxis\":{\"endlinecolor\":\"rgb(51,51,51)\",\"gridcolor\":\"white\",\"linecolor\":\"white\",\"minorgridcolor\":\"white\",\"startlinecolor\":\"rgb(51,51,51)\"},\"baxis\":{\"endlinecolor\":\"rgb(51,51,51)\",\"gridcolor\":\"white\",\"linecolor\":\"white\",\"minorgridcolor\":\"white\",\"startlinecolor\":\"rgb(51,51,51)\"},\"type\":\"carpet\"}],\"choropleth\":[{\"colorbar\":{\"outlinewidth\":0,\"tickcolor\":\"rgb(237,237,237)\",\"ticklen\":6,\"ticks\":\"inside\"},\"type\":\"choropleth\"}],\"contourcarpet\":[{\"colorbar\":{\"outlinewidth\":0,\"tickcolor\":\"rgb(237,237,237)\",\"ticklen\":6,\"ticks\":\"inside\"},\"type\":\"contourcarpet\"}],\"contour\":[{\"colorbar\":{\"outlinewidth\":0,\"tickcolor\":\"rgb(237,237,237)\",\"ticklen\":6,\"ticks\":\"inside\"},\"colorscale\":[[0,\"rgb(20,44,66)\"],[1,\"rgb(90,179,244)\"]],\"type\":\"contour\"}],\"heatmapgl\":[{\"colorbar\":{\"outlinewidth\":0,\"tickcolor\":\"rgb(237,237,237)\",\"ticklen\":6,\"ticks\":\"inside\"},\"colorscale\":[[0,\"rgb(20,44,66)\"],[1,\"rgb(90,179,244)\"]],\"type\":\"heatmapgl\"}],\"heatmap\":[{\"colorbar\":{\"outlinewidth\":0,\"tickcolor\":\"rgb(237,237,237)\",\"ticklen\":6,\"ticks\":\"inside\"},\"colorscale\":[[0,\"rgb(20,44,66)\"],[1,\"rgb(90,179,244)\"]],\"type\":\"heatmap\"}],\"histogram2dcontour\":[{\"colorbar\":{\"outlinewidth\":0,\"tickcolor\":\"rgb(237,237,237)\",\"ticklen\":6,\"ticks\":\"inside\"},\"colorscale\":[[0,\"rgb(20,44,66)\"],[1,\"rgb(90,179,244)\"]],\"type\":\"histogram2dcontour\"}],\"histogram2d\":[{\"colorbar\":{\"outlinewidth\":0,\"tickcolor\":\"rgb(237,237,237)\",\"ticklen\":6,\"ticks\":\"inside\"},\"colorscale\":[[0,\"rgb(20,44,66)\"],[1,\"rgb(90,179,244)\"]],\"type\":\"histogram2d\"}],\"histogram\":[{\"marker\":{\"pattern\":{\"fillmode\":\"overlay\",\"size\":10,\"solidity\":0.2}},\"type\":\"histogram\"}],\"mesh3d\":[{\"colorbar\":{\"outlinewidth\":0,\"tickcolor\":\"rgb(237,237,237)\",\"ticklen\":6,\"ticks\":\"inside\"},\"type\":\"mesh3d\"}],\"parcoords\":[{\"line\":{\"colorbar\":{\"outlinewidth\":0,\"tickcolor\":\"rgb(237,237,237)\",\"ticklen\":6,\"ticks\":\"inside\"}},\"type\":\"parcoords\"}],\"pie\":[{\"automargin\":true,\"type\":\"pie\"}],\"scatter3d\":[{\"line\":{\"colorbar\":{\"outlinewidth\":0,\"tickcolor\":\"rgb(237,237,237)\",\"ticklen\":6,\"ticks\":\"inside\"}},\"marker\":{\"colorbar\":{\"outlinewidth\":0,\"tickcolor\":\"rgb(237,237,237)\",\"ticklen\":6,\"ticks\":\"inside\"}},\"type\":\"scatter3d\"}],\"scattercarpet\":[{\"marker\":{\"colorbar\":{\"outlinewidth\":0,\"tickcolor\":\"rgb(237,237,237)\",\"ticklen\":6,\"ticks\":\"inside\"}},\"type\":\"scattercarpet\"}],\"scattergeo\":[{\"marker\":{\"colorbar\":{\"outlinewidth\":0,\"tickcolor\":\"rgb(237,237,237)\",\"ticklen\":6,\"ticks\":\"inside\"}},\"type\":\"scattergeo\"}],\"scattergl\":[{\"marker\":{\"colorbar\":{\"outlinewidth\":0,\"tickcolor\":\"rgb(237,237,237)\",\"ticklen\":6,\"ticks\":\"inside\"}},\"type\":\"scattergl\"}],\"scattermapbox\":[{\"marker\":{\"colorbar\":{\"outlinewidth\":0,\"tickcolor\":\"rgb(237,237,237)\",\"ticklen\":6,\"ticks\":\"inside\"}},\"type\":\"scattermapbox\"}],\"scatterpolargl\":[{\"marker\":{\"colorbar\":{\"outlinewidth\":0,\"tickcolor\":\"rgb(237,237,237)\",\"ticklen\":6,\"ticks\":\"inside\"}},\"type\":\"scatterpolargl\"}],\"scatterpolar\":[{\"marker\":{\"colorbar\":{\"outlinewidth\":0,\"tickcolor\":\"rgb(237,237,237)\",\"ticklen\":6,\"ticks\":\"inside\"}},\"type\":\"scatterpolar\"}],\"scatter\":[{\"marker\":{\"colorbar\":{\"outlinewidth\":0,\"tickcolor\":\"rgb(237,237,237)\",\"ticklen\":6,\"ticks\":\"inside\"}},\"type\":\"scatter\"}],\"scatterternary\":[{\"marker\":{\"colorbar\":{\"outlinewidth\":0,\"tickcolor\":\"rgb(237,237,237)\",\"ticklen\":6,\"ticks\":\"inside\"}},\"type\":\"scatterternary\"}],\"surface\":[{\"colorbar\":{\"outlinewidth\":0,\"tickcolor\":\"rgb(237,237,237)\",\"ticklen\":6,\"ticks\":\"inside\"},\"colorscale\":[[0,\"rgb(20,44,66)\"],[1,\"rgb(90,179,244)\"]],\"type\":\"surface\"}],\"table\":[{\"cells\":{\"fill\":{\"color\":\"rgb(237,237,237)\"},\"line\":{\"color\":\"white\"}},\"header\":{\"fill\":{\"color\":\"rgb(217,217,217)\"},\"line\":{\"color\":\"white\"}},\"type\":\"table\"}]},\"layout\":{\"annotationdefaults\":{\"arrowhead\":0,\"arrowwidth\":1},\"autotypenumbers\":\"strict\",\"coloraxis\":{\"colorbar\":{\"outlinewidth\":0,\"tickcolor\":\"rgb(237,237,237)\",\"ticklen\":6,\"ticks\":\"inside\"}},\"colorscale\":{\"sequential\":[[0,\"rgb(20,44,66)\"],[1,\"rgb(90,179,244)\"]],\"sequentialminus\":[[0,\"rgb(20,44,66)\"],[1,\"rgb(90,179,244)\"]]},\"colorway\":[\"#F8766D\",\"#A3A500\",\"#00BF7D\",\"#00B0F6\",\"#E76BF3\"],\"font\":{\"color\":\"rgb(51,51,51)\"},\"geo\":{\"bgcolor\":\"white\",\"lakecolor\":\"white\",\"landcolor\":\"rgb(237,237,237)\",\"showlakes\":true,\"showland\":true,\"subunitcolor\":\"white\"},\"hoverlabel\":{\"align\":\"left\"},\"hovermode\":\"closest\",\"paper_bgcolor\":\"white\",\"plot_bgcolor\":\"rgb(237,237,237)\",\"polar\":{\"angularaxis\":{\"gridcolor\":\"white\",\"linecolor\":\"white\",\"showgrid\":true,\"tickcolor\":\"rgb(51,51,51)\",\"ticks\":\"outside\"},\"bgcolor\":\"rgb(237,237,237)\",\"radialaxis\":{\"gridcolor\":\"white\",\"linecolor\":\"white\",\"showgrid\":true,\"tickcolor\":\"rgb(51,51,51)\",\"ticks\":\"outside\"}},\"scene\":{\"xaxis\":{\"backgroundcolor\":\"rgb(237,237,237)\",\"gridcolor\":\"white\",\"gridwidth\":2,\"linecolor\":\"white\",\"showbackground\":true,\"showgrid\":true,\"tickcolor\":\"rgb(51,51,51)\",\"ticks\":\"outside\",\"zerolinecolor\":\"white\"},\"yaxis\":{\"backgroundcolor\":\"rgb(237,237,237)\",\"gridcolor\":\"white\",\"gridwidth\":2,\"linecolor\":\"white\",\"showbackground\":true,\"showgrid\":true,\"tickcolor\":\"rgb(51,51,51)\",\"ticks\":\"outside\",\"zerolinecolor\":\"white\"},\"zaxis\":{\"backgroundcolor\":\"rgb(237,237,237)\",\"gridcolor\":\"white\",\"gridwidth\":2,\"linecolor\":\"white\",\"showbackground\":true,\"showgrid\":true,\"tickcolor\":\"rgb(51,51,51)\",\"ticks\":\"outside\",\"zerolinecolor\":\"white\"}},\"shapedefaults\":{\"fillcolor\":\"black\",\"line\":{\"width\":0},\"opacity\":0.3},\"ternary\":{\"aaxis\":{\"gridcolor\":\"white\",\"linecolor\":\"white\",\"showgrid\":true,\"tickcolor\":\"rgb(51,51,51)\",\"ticks\":\"outside\"},\"baxis\":{\"gridcolor\":\"white\",\"linecolor\":\"white\",\"showgrid\":true,\"tickcolor\":\"rgb(51,51,51)\",\"ticks\":\"outside\"},\"bgcolor\":\"rgb(237,237,237)\",\"caxis\":{\"gridcolor\":\"white\",\"linecolor\":\"white\",\"showgrid\":true,\"tickcolor\":\"rgb(51,51,51)\",\"ticks\":\"outside\"}},\"xaxis\":{\"automargin\":true,\"gridcolor\":\"white\",\"linecolor\":\"white\",\"showgrid\":true,\"tickcolor\":\"rgb(51,51,51)\",\"ticks\":\"outside\",\"title\":{\"standoff\":15},\"zerolinecolor\":\"white\"},\"yaxis\":{\"automargin\":true,\"gridcolor\":\"white\",\"linecolor\":\"white\",\"showgrid\":true,\"tickcolor\":\"rgb(51,51,51)\",\"ticks\":\"outside\",\"title\":{\"standoff\":15},\"zerolinecolor\":\"white\"}}},\"legend\":{\"tracegroupgap\":0},\"title\":{\"text\":\"<b> Brands and their Rating</b>\"},\"treemapcolorway\":[\"rgb(253, 224, 197)\",\"rgb(250, 203, 166)\",\"rgb(248, 181, 139)\",\"rgb(245, 158, 114)\",\"rgb(242, 133, 93)\",\"rgb(239, 106, 76)\",\"rgb(235, 74, 64)\"],\"height\":500,\"width\":1000},                        {\"responsive\": true}                    ).then(function(){\n",
              "                            \n",
              "var gd = document.getElementById('aa71997b-7594-43b0-affe-2ba3ac9e57fa');\n",
              "var x = new MutationObserver(function (mutations, observer) {{\n",
              "        var display = window.getComputedStyle(gd).display;\n",
              "        if (!display || display === 'none') {{\n",
              "            console.log([gd, 'removed!']);\n",
              "            Plotly.purge(gd);\n",
              "            observer.disconnect();\n",
              "        }}\n",
              "}});\n",
              "\n",
              "// Listen for the removal of the full notebook cells\n",
              "var notebookContainer = gd.closest('#notebook-container');\n",
              "if (notebookContainer) {{\n",
              "    x.observe(notebookContainer, {childList: true});\n",
              "}}\n",
              "\n",
              "// Listen for the clearing of the current output cell\n",
              "var outputEl = gd.closest('.output');\n",
              "if (outputEl) {{\n",
              "    x.observe(outputEl, {childList: true});\n",
              "}}\n",
              "\n",
              "                        })                };                            </script>        </div>\n",
              "</body>\n",
              "</html>"
            ]
          },
          "metadata": {}
        }
      ]
    },
    {
      "cell_type": "markdown",
      "source": [
        "**ANALYSIS OF DISCOUNTS**"
      ],
      "metadata": {
        "id": "HoH_nJhS8lt4"
      }
    },
    {
      "cell_type": "code",
      "source": [
        "print(Back.YELLOW+ Style.BRIGHT+ 'Product with Highest Discount:' + Style.RESET_ALL)\n",
        "prod_data[['product','category','discount']][prod_data['discount']==prod_data['discount'].max()]"
      ],
      "metadata": {
        "id": "itdd2lFY8Pj9",
        "colab": {
          "base_uri": "https://localhost:8080/",
          "height": 98
        },
        "outputId": "6d640706-55d7-425d-f2b0-d87f5e5c4b96"
      },
      "execution_count": null,
      "outputs": [
        {
          "output_type": "stream",
          "name": "stdout",
          "text": [
            "\u001b[43m\u001b[1mProduct with Highest Discount:\u001b[0m\n"
          ]
        },
        {
          "output_type": "execute_result",
          "data": {
            "text/plain": [
              "                              product                category   discount\n",
              "17713  Fruit & Vegetables Hand Juicer  Kitchen, Garden & Pets  82.506266"
            ],
            "text/html": [
              "\n",
              "  <div id=\"df-7e24a919-44be-4f6f-8991-c80b60bf704c\">\n",
              "    <div class=\"colab-df-container\">\n",
              "      <div>\n",
              "<style scoped>\n",
              "    .dataframe tbody tr th:only-of-type {\n",
              "        vertical-align: middle;\n",
              "    }\n",
              "\n",
              "    .dataframe tbody tr th {\n",
              "        vertical-align: top;\n",
              "    }\n",
              "\n",
              "    .dataframe thead th {\n",
              "        text-align: right;\n",
              "    }\n",
              "</style>\n",
              "<table border=\"1\" class=\"dataframe\">\n",
              "  <thead>\n",
              "    <tr style=\"text-align: right;\">\n",
              "      <th></th>\n",
              "      <th>product</th>\n",
              "      <th>category</th>\n",
              "      <th>discount</th>\n",
              "    </tr>\n",
              "  </thead>\n",
              "  <tbody>\n",
              "    <tr>\n",
              "      <th>17713</th>\n",
              "      <td>Fruit &amp; Vegetables Hand Juicer</td>\n",
              "      <td>Kitchen, Garden &amp; Pets</td>\n",
              "      <td>82.506266</td>\n",
              "    </tr>\n",
              "  </tbody>\n",
              "</table>\n",
              "</div>\n",
              "      <button class=\"colab-df-convert\" onclick=\"convertToInteractive('df-7e24a919-44be-4f6f-8991-c80b60bf704c')\"\n",
              "              title=\"Convert this dataframe to an interactive table.\"\n",
              "              style=\"display:none;\">\n",
              "        \n",
              "  <svg xmlns=\"http://www.w3.org/2000/svg\" height=\"24px\"viewBox=\"0 0 24 24\"\n",
              "       width=\"24px\">\n",
              "    <path d=\"M0 0h24v24H0V0z\" fill=\"none\"/>\n",
              "    <path d=\"M18.56 5.44l.94 2.06.94-2.06 2.06-.94-2.06-.94-.94-2.06-.94 2.06-2.06.94zm-11 1L8.5 8.5l.94-2.06 2.06-.94-2.06-.94L8.5 2.5l-.94 2.06-2.06.94zm10 10l.94 2.06.94-2.06 2.06-.94-2.06-.94-.94-2.06-.94 2.06-2.06.94z\"/><path d=\"M17.41 7.96l-1.37-1.37c-.4-.4-.92-.59-1.43-.59-.52 0-1.04.2-1.43.59L10.3 9.45l-7.72 7.72c-.78.78-.78 2.05 0 2.83L4 21.41c.39.39.9.59 1.41.59.51 0 1.02-.2 1.41-.59l7.78-7.78 2.81-2.81c.8-.78.8-2.07 0-2.86zM5.41 20L4 18.59l7.72-7.72 1.47 1.35L5.41 20z\"/>\n",
              "  </svg>\n",
              "      </button>\n",
              "      \n",
              "  <style>\n",
              "    .colab-df-container {\n",
              "      display:flex;\n",
              "      flex-wrap:wrap;\n",
              "      gap: 12px;\n",
              "    }\n",
              "\n",
              "    .colab-df-convert {\n",
              "      background-color: #E8F0FE;\n",
              "      border: none;\n",
              "      border-radius: 50%;\n",
              "      cursor: pointer;\n",
              "      display: none;\n",
              "      fill: #1967D2;\n",
              "      height: 32px;\n",
              "      padding: 0 0 0 0;\n",
              "      width: 32px;\n",
              "    }\n",
              "\n",
              "    .colab-df-convert:hover {\n",
              "      background-color: #E2EBFA;\n",
              "      box-shadow: 0px 1px 2px rgba(60, 64, 67, 0.3), 0px 1px 3px 1px rgba(60, 64, 67, 0.15);\n",
              "      fill: #174EA6;\n",
              "    }\n",
              "\n",
              "    [theme=dark] .colab-df-convert {\n",
              "      background-color: #3B4455;\n",
              "      fill: #D2E3FC;\n",
              "    }\n",
              "\n",
              "    [theme=dark] .colab-df-convert:hover {\n",
              "      background-color: #434B5C;\n",
              "      box-shadow: 0px 1px 3px 1px rgba(0, 0, 0, 0.15);\n",
              "      filter: drop-shadow(0px 1px 2px rgba(0, 0, 0, 0.3));\n",
              "      fill: #FFFFFF;\n",
              "    }\n",
              "  </style>\n",
              "\n",
              "      <script>\n",
              "        const buttonEl =\n",
              "          document.querySelector('#df-7e24a919-44be-4f6f-8991-c80b60bf704c button.colab-df-convert');\n",
              "        buttonEl.style.display =\n",
              "          google.colab.kernel.accessAllowed ? 'block' : 'none';\n",
              "\n",
              "        async function convertToInteractive(key) {\n",
              "          const element = document.querySelector('#df-7e24a919-44be-4f6f-8991-c80b60bf704c');\n",
              "          const dataTable =\n",
              "            await google.colab.kernel.invokeFunction('convertToInteractive',\n",
              "                                                     [key], {});\n",
              "          if (!dataTable) return;\n",
              "\n",
              "          const docLinkHtml = 'Like what you see? Visit the ' +\n",
              "            '<a target=\"_blank\" href=https://colab.research.google.com/notebooks/data_table.ipynb>data table notebook</a>'\n",
              "            + ' to learn more about interactive tables.';\n",
              "          element.innerHTML = '';\n",
              "          dataTable['output_type'] = 'display_data';\n",
              "          await google.colab.output.renderOutput(dataTable, element);\n",
              "          const docLink = document.createElement('div');\n",
              "          docLink.innerHTML = docLinkHtml;\n",
              "          element.appendChild(docLink);\n",
              "        }\n",
              "      </script>\n",
              "    </div>\n",
              "  </div>\n",
              "  "
            ]
          },
          "metadata": {},
          "execution_count": 23
        }
      ]
    },
    {
      "cell_type": "code",
      "source": [
        "#Top 20 Disounts\n",
        "print(Back.YELLOW+ Style.BRIGHT+ 'Top 20 Disounts:' + Style.RESET_ALL)\n",
        "prod_data[['product','category','discount']].sort_values('discount', ascending=False).head(20)"
      ],
      "metadata": {
        "id": "skxHBD7o81LY",
        "colab": {
          "base_uri": "https://localhost:8080/",
          "height": 694
        },
        "outputId": "61d57d4a-0e7d-4196-981f-8abe6d59bf9b"
      },
      "execution_count": null,
      "outputs": [
        {
          "output_type": "stream",
          "name": "stdout",
          "text": [
            "\u001b[43m\u001b[1mTop 20 Disounts:\u001b[0m\n"
          ]
        },
        {
          "output_type": "execute_result",
          "data": {
            "text/plain": [
              "                                                 product  \\\n",
              "17713                     Fruit & Vegetables Hand Juicer   \n",
              "13318  Small Silicone Spatula With Plastic Handle - A...   \n",
              "13740  Decorative Party Light Big Star String LED Lig...   \n",
              "10438  NHS 860 Temperature Control Professional Hair ...   \n",
              "13265  Decorative Party Light Golden Bell String LED ...   \n",
              "11473  Decorative Party Light Golden Bell String LED ...   \n",
              "10092  USB String Fairy Lights 3M 30 LED For Decorati...   \n",
              "398    Steel Belly Shape Storage Dabba/ Container Set...   \n",
              "24292  Steel Belly Shape Storage Dabba/ Container Set...   \n",
              "9792   Decorative Party Light Pine String LED Light 7...   \n",
              "27007  Decorative Party Light Leaves String LED Light...   \n",
              "19042    Big Silicone Spatula With Plastic Handle - Blue   \n",
              "14975  NHS-900 Temperature Control Professional Hair ...   \n",
              "16781  USB Universal Wall/Travel Charger Adapator - W...   \n",
              "9134   Curtain Decoration Lights 138 LED 2.5 M & 8 Fl...   \n",
              "16658           LED Bulb - 9-Watt, Base B22 (SSK-SRL-9W)   \n",
              "9201   Steel Storage Deep Dabba/ Container Set With P...   \n",
              "3156   Steel Storage Deep Dabba/ Container Set With P...   \n",
              "10255    Big Silicone Spoonula With Plastic Handle - Red   \n",
              "17035               NHT 1055 BL Cordless Trimmer For Men   \n",
              "\n",
              "                     category   discount  \n",
              "17713  Kitchen, Garden & Pets  82.506266  \n",
              "13318  Kitchen, Garden & Pets  81.203008  \n",
              "13740  Kitchen, Garden & Pets  80.982712  \n",
              "10438        Beauty & Hygiene  80.499791  \n",
              "13265  Kitchen, Garden & Pets  79.239620  \n",
              "11473  Kitchen, Garden & Pets  79.239620  \n",
              "10092  Kitchen, Garden & Pets  78.696742  \n",
              "398    Kitchen, Garden & Pets  77.989950  \n",
              "24292  Kitchen, Garden & Pets  77.989950  \n",
              "9792   Kitchen, Garden & Pets  77.477477  \n",
              "27007  Kitchen, Garden & Pets  77.477477  \n",
              "19042  Kitchen, Garden & Pets  76.923077  \n",
              "14975        Beauty & Hygiene  76.499800  \n",
              "16781  Kitchen, Garden & Pets  76.190476  \n",
              "9134   Kitchen, Garden & Pets  75.037519  \n",
              "16658  Kitchen, Garden & Pets  74.930362  \n",
              "9201   Kitchen, Garden & Pets  74.820144  \n",
              "3156   Kitchen, Garden & Pets  74.820144  \n",
              "10255  Kitchen, Garden & Pets  74.592075  \n",
              "17035        Beauty & Hygiene  73.500313  "
            ],
            "text/html": [
              "\n",
              "  <div id=\"df-d45627a3-6a7b-46b2-8923-35bb97c1c73a\">\n",
              "    <div class=\"colab-df-container\">\n",
              "      <div>\n",
              "<style scoped>\n",
              "    .dataframe tbody tr th:only-of-type {\n",
              "        vertical-align: middle;\n",
              "    }\n",
              "\n",
              "    .dataframe tbody tr th {\n",
              "        vertical-align: top;\n",
              "    }\n",
              "\n",
              "    .dataframe thead th {\n",
              "        text-align: right;\n",
              "    }\n",
              "</style>\n",
              "<table border=\"1\" class=\"dataframe\">\n",
              "  <thead>\n",
              "    <tr style=\"text-align: right;\">\n",
              "      <th></th>\n",
              "      <th>product</th>\n",
              "      <th>category</th>\n",
              "      <th>discount</th>\n",
              "    </tr>\n",
              "  </thead>\n",
              "  <tbody>\n",
              "    <tr>\n",
              "      <th>17713</th>\n",
              "      <td>Fruit &amp; Vegetables Hand Juicer</td>\n",
              "      <td>Kitchen, Garden &amp; Pets</td>\n",
              "      <td>82.506266</td>\n",
              "    </tr>\n",
              "    <tr>\n",
              "      <th>13318</th>\n",
              "      <td>Small Silicone Spatula With Plastic Handle - A...</td>\n",
              "      <td>Kitchen, Garden &amp; Pets</td>\n",
              "      <td>81.203008</td>\n",
              "    </tr>\n",
              "    <tr>\n",
              "      <th>13740</th>\n",
              "      <td>Decorative Party Light Big Star String LED Lig...</td>\n",
              "      <td>Kitchen, Garden &amp; Pets</td>\n",
              "      <td>80.982712</td>\n",
              "    </tr>\n",
              "    <tr>\n",
              "      <th>10438</th>\n",
              "      <td>NHS 860 Temperature Control Professional Hair ...</td>\n",
              "      <td>Beauty &amp; Hygiene</td>\n",
              "      <td>80.499791</td>\n",
              "    </tr>\n",
              "    <tr>\n",
              "      <th>13265</th>\n",
              "      <td>Decorative Party Light Golden Bell String LED ...</td>\n",
              "      <td>Kitchen, Garden &amp; Pets</td>\n",
              "      <td>79.239620</td>\n",
              "    </tr>\n",
              "    <tr>\n",
              "      <th>11473</th>\n",
              "      <td>Decorative Party Light Golden Bell String LED ...</td>\n",
              "      <td>Kitchen, Garden &amp; Pets</td>\n",
              "      <td>79.239620</td>\n",
              "    </tr>\n",
              "    <tr>\n",
              "      <th>10092</th>\n",
              "      <td>USB String Fairy Lights 3M 30 LED For Decorati...</td>\n",
              "      <td>Kitchen, Garden &amp; Pets</td>\n",
              "      <td>78.696742</td>\n",
              "    </tr>\n",
              "    <tr>\n",
              "      <th>398</th>\n",
              "      <td>Steel Belly Shape Storage Dabba/ Container Set...</td>\n",
              "      <td>Kitchen, Garden &amp; Pets</td>\n",
              "      <td>77.989950</td>\n",
              "    </tr>\n",
              "    <tr>\n",
              "      <th>24292</th>\n",
              "      <td>Steel Belly Shape Storage Dabba/ Container Set...</td>\n",
              "      <td>Kitchen, Garden &amp; Pets</td>\n",
              "      <td>77.989950</td>\n",
              "    </tr>\n",
              "    <tr>\n",
              "      <th>9792</th>\n",
              "      <td>Decorative Party Light Pine String LED Light 7...</td>\n",
              "      <td>Kitchen, Garden &amp; Pets</td>\n",
              "      <td>77.477477</td>\n",
              "    </tr>\n",
              "    <tr>\n",
              "      <th>27007</th>\n",
              "      <td>Decorative Party Light Leaves String LED Light...</td>\n",
              "      <td>Kitchen, Garden &amp; Pets</td>\n",
              "      <td>77.477477</td>\n",
              "    </tr>\n",
              "    <tr>\n",
              "      <th>19042</th>\n",
              "      <td>Big Silicone Spatula With Plastic Handle - Blue</td>\n",
              "      <td>Kitchen, Garden &amp; Pets</td>\n",
              "      <td>76.923077</td>\n",
              "    </tr>\n",
              "    <tr>\n",
              "      <th>14975</th>\n",
              "      <td>NHS-900 Temperature Control Professional Hair ...</td>\n",
              "      <td>Beauty &amp; Hygiene</td>\n",
              "      <td>76.499800</td>\n",
              "    </tr>\n",
              "    <tr>\n",
              "      <th>16781</th>\n",
              "      <td>USB Universal Wall/Travel Charger Adapator - W...</td>\n",
              "      <td>Kitchen, Garden &amp; Pets</td>\n",
              "      <td>76.190476</td>\n",
              "    </tr>\n",
              "    <tr>\n",
              "      <th>9134</th>\n",
              "      <td>Curtain Decoration Lights 138 LED 2.5 M &amp; 8 Fl...</td>\n",
              "      <td>Kitchen, Garden &amp; Pets</td>\n",
              "      <td>75.037519</td>\n",
              "    </tr>\n",
              "    <tr>\n",
              "      <th>16658</th>\n",
              "      <td>LED Bulb - 9-Watt, Base B22 (SSK-SRL-9W)</td>\n",
              "      <td>Kitchen, Garden &amp; Pets</td>\n",
              "      <td>74.930362</td>\n",
              "    </tr>\n",
              "    <tr>\n",
              "      <th>9201</th>\n",
              "      <td>Steel Storage Deep Dabba/ Container Set With P...</td>\n",
              "      <td>Kitchen, Garden &amp; Pets</td>\n",
              "      <td>74.820144</td>\n",
              "    </tr>\n",
              "    <tr>\n",
              "      <th>3156</th>\n",
              "      <td>Steel Storage Deep Dabba/ Container Set With P...</td>\n",
              "      <td>Kitchen, Garden &amp; Pets</td>\n",
              "      <td>74.820144</td>\n",
              "    </tr>\n",
              "    <tr>\n",
              "      <th>10255</th>\n",
              "      <td>Big Silicone Spoonula With Plastic Handle - Red</td>\n",
              "      <td>Kitchen, Garden &amp; Pets</td>\n",
              "      <td>74.592075</td>\n",
              "    </tr>\n",
              "    <tr>\n",
              "      <th>17035</th>\n",
              "      <td>NHT 1055 BL Cordless Trimmer For Men</td>\n",
              "      <td>Beauty &amp; Hygiene</td>\n",
              "      <td>73.500313</td>\n",
              "    </tr>\n",
              "  </tbody>\n",
              "</table>\n",
              "</div>\n",
              "      <button class=\"colab-df-convert\" onclick=\"convertToInteractive('df-d45627a3-6a7b-46b2-8923-35bb97c1c73a')\"\n",
              "              title=\"Convert this dataframe to an interactive table.\"\n",
              "              style=\"display:none;\">\n",
              "        \n",
              "  <svg xmlns=\"http://www.w3.org/2000/svg\" height=\"24px\"viewBox=\"0 0 24 24\"\n",
              "       width=\"24px\">\n",
              "    <path d=\"M0 0h24v24H0V0z\" fill=\"none\"/>\n",
              "    <path d=\"M18.56 5.44l.94 2.06.94-2.06 2.06-.94-2.06-.94-.94-2.06-.94 2.06-2.06.94zm-11 1L8.5 8.5l.94-2.06 2.06-.94-2.06-.94L8.5 2.5l-.94 2.06-2.06.94zm10 10l.94 2.06.94-2.06 2.06-.94-2.06-.94-.94-2.06-.94 2.06-2.06.94z\"/><path d=\"M17.41 7.96l-1.37-1.37c-.4-.4-.92-.59-1.43-.59-.52 0-1.04.2-1.43.59L10.3 9.45l-7.72 7.72c-.78.78-.78 2.05 0 2.83L4 21.41c.39.39.9.59 1.41.59.51 0 1.02-.2 1.41-.59l7.78-7.78 2.81-2.81c.8-.78.8-2.07 0-2.86zM5.41 20L4 18.59l7.72-7.72 1.47 1.35L5.41 20z\"/>\n",
              "  </svg>\n",
              "      </button>\n",
              "      \n",
              "  <style>\n",
              "    .colab-df-container {\n",
              "      display:flex;\n",
              "      flex-wrap:wrap;\n",
              "      gap: 12px;\n",
              "    }\n",
              "\n",
              "    .colab-df-convert {\n",
              "      background-color: #E8F0FE;\n",
              "      border: none;\n",
              "      border-radius: 50%;\n",
              "      cursor: pointer;\n",
              "      display: none;\n",
              "      fill: #1967D2;\n",
              "      height: 32px;\n",
              "      padding: 0 0 0 0;\n",
              "      width: 32px;\n",
              "    }\n",
              "\n",
              "    .colab-df-convert:hover {\n",
              "      background-color: #E2EBFA;\n",
              "      box-shadow: 0px 1px 2px rgba(60, 64, 67, 0.3), 0px 1px 3px 1px rgba(60, 64, 67, 0.15);\n",
              "      fill: #174EA6;\n",
              "    }\n",
              "\n",
              "    [theme=dark] .colab-df-convert {\n",
              "      background-color: #3B4455;\n",
              "      fill: #D2E3FC;\n",
              "    }\n",
              "\n",
              "    [theme=dark] .colab-df-convert:hover {\n",
              "      background-color: #434B5C;\n",
              "      box-shadow: 0px 1px 3px 1px rgba(0, 0, 0, 0.15);\n",
              "      filter: drop-shadow(0px 1px 2px rgba(0, 0, 0, 0.3));\n",
              "      fill: #FFFFFF;\n",
              "    }\n",
              "  </style>\n",
              "\n",
              "      <script>\n",
              "        const buttonEl =\n",
              "          document.querySelector('#df-d45627a3-6a7b-46b2-8923-35bb97c1c73a button.colab-df-convert');\n",
              "        buttonEl.style.display =\n",
              "          google.colab.kernel.accessAllowed ? 'block' : 'none';\n",
              "\n",
              "        async function convertToInteractive(key) {\n",
              "          const element = document.querySelector('#df-d45627a3-6a7b-46b2-8923-35bb97c1c73a');\n",
              "          const dataTable =\n",
              "            await google.colab.kernel.invokeFunction('convertToInteractive',\n",
              "                                                     [key], {});\n",
              "          if (!dataTable) return;\n",
              "\n",
              "          const docLinkHtml = 'Like what you see? Visit the ' +\n",
              "            '<a target=\"_blank\" href=https://colab.research.google.com/notebooks/data_table.ipynb>data table notebook</a>'\n",
              "            + ' to learn more about interactive tables.';\n",
              "          element.innerHTML = '';\n",
              "          dataTable['output_type'] = 'display_data';\n",
              "          await google.colab.output.renderOutput(dataTable, element);\n",
              "          const docLink = document.createElement('div');\n",
              "          docLink.innerHTML = docLinkHtml;\n",
              "          element.appendChild(docLink);\n",
              "        }\n",
              "      </script>\n",
              "    </div>\n",
              "  </div>\n",
              "  "
            ]
          },
          "metadata": {},
          "execution_count": 24
        }
      ]
    },
    {
      "cell_type": "code",
      "source": [
        "#Category wise Average Discount Offered\n",
        "catg_disc=prod_data[prod_data['discount']!=0].groupby('category').agg(avg_discount=('discount','mean')).reset_index()\n",
        "catg_disc=catg_disc.sort_values('avg_discount', ascending=False)\n",
        "catg_disc= catg_disc.round({\"avg_discount\":2})\n",
        "\n",
        "# catg_disc\n",
        "\n",
        "fig = go.Figure(data=px.bar(x=catg_disc.category, \n",
        "                            y=catg_disc.avg_discount,\n",
        "                            color = catg_disc.category,\n",
        "                            color_discrete_sequence=px.colors.sequential.Viridis,\n",
        "                            title='<b>Category wise Average Discount Offered</b>',\n",
        "                            text = catg_disc.avg_discount,\n",
        "                            height=500))\n",
        "fig.update_layout(\n",
        "    font_family=\"Courier New\",\n",
        "    title_font_family=\"Courier New\",\n",
        "    title_font_color=\"Red\",\n",
        "    title_font_size=10,\n",
        "    xaxis_title=\"<b>Category</b>\",\n",
        "    yaxis_title=\"<b>Average Discount</b>\",\n",
        "    legend_title_font_color=\"green\"\n",
        ")\n",
        "fig.show()"
      ],
      "metadata": {
        "id": "hpkDD1Ro8PhY",
        "colab": {
          "base_uri": "https://localhost:8080/",
          "height": 517
        },
        "outputId": "37d2a8f4-777f-412f-a2b6-e0b918d0080f"
      },
      "execution_count": null,
      "outputs": [
        {
          "output_type": "display_data",
          "data": {
            "text/html": [
              "<html>\n",
              "<head><meta charset=\"utf-8\" /></head>\n",
              "<body>\n",
              "    <div>            <script src=\"https://cdnjs.cloudflare.com/ajax/libs/mathjax/2.7.5/MathJax.js?config=TeX-AMS-MML_SVG\"></script><script type=\"text/javascript\">if (window.MathJax) {MathJax.Hub.Config({SVG: {font: \"STIX-Web\"}});}</script>                <script type=\"text/javascript\">window.PlotlyConfig = {MathJaxConfig: 'local'};</script>\n",
              "        <script src=\"https://cdn.plot.ly/plotly-2.8.3.min.js\"></script>                <div id=\"0e718d96-0f34-4260-9428-1c6dbce08729\" class=\"plotly-graph-div\" style=\"height:500px; width:100%;\"></div>            <script type=\"text/javascript\">                                    window.PLOTLYENV=window.PLOTLYENV || {};                                    if (document.getElementById(\"0e718d96-0f34-4260-9428-1c6dbce08729\")) {                    Plotly.newPlot(                        \"0e718d96-0f34-4260-9428-1c6dbce08729\",                        [{\"alignmentgroup\":\"True\",\"hovertemplate\":\"color=Kitchen, Garden & Pets<br>x=%{x}<br>y=%{y}<br>text=%{text}<extra></extra>\",\"legendgroup\":\"Kitchen, Garden & Pets\",\"marker\":{\"color\":\"#440154\",\"pattern\":{\"shape\":\"\"}},\"name\":\"Kitchen, Garden & Pets\",\"offsetgroup\":\"Kitchen, Garden & Pets\",\"orientation\":\"v\",\"showlegend\":true,\"text\":[28.12],\"textposition\":\"auto\",\"x\":[\"Kitchen, Garden & Pets\"],\"xaxis\":\"x\",\"y\":[28.12],\"yaxis\":\"y\",\"type\":\"bar\"},{\"alignmentgroup\":\"True\",\"hovertemplate\":\"color=Beauty & Hygiene<br>x=%{x}<br>y=%{y}<br>text=%{text}<extra></extra>\",\"legendgroup\":\"Beauty & Hygiene\",\"marker\":{\"color\":\"#482878\",\"pattern\":{\"shape\":\"\"}},\"name\":\"Beauty & Hygiene\",\"offsetgroup\":\"Beauty & Hygiene\",\"orientation\":\"v\",\"showlegend\":true,\"text\":[20.8],\"textposition\":\"auto\",\"x\":[\"Beauty & Hygiene\"],\"xaxis\":\"x\",\"y\":[20.8],\"yaxis\":\"y\",\"type\":\"bar\"},{\"alignmentgroup\":\"True\",\"hovertemplate\":\"color=Beverages<br>x=%{x}<br>y=%{y}<br>text=%{text}<extra></extra>\",\"legendgroup\":\"Beverages\",\"marker\":{\"color\":\"#3e4989\",\"pattern\":{\"shape\":\"\"}},\"name\":\"Beverages\",\"offsetgroup\":\"Beverages\",\"orientation\":\"v\",\"showlegend\":true,\"text\":[20.38],\"textposition\":\"auto\",\"x\":[\"Beverages\"],\"xaxis\":\"x\",\"y\":[20.38],\"yaxis\":\"y\",\"type\":\"bar\"},{\"alignmentgroup\":\"True\",\"hovertemplate\":\"color=Cleaning & Household<br>x=%{x}<br>y=%{y}<br>text=%{text}<extra></extra>\",\"legendgroup\":\"Cleaning & Household\",\"marker\":{\"color\":\"#31688e\",\"pattern\":{\"shape\":\"\"}},\"name\":\"Cleaning & Household\",\"offsetgroup\":\"Cleaning & Household\",\"orientation\":\"v\",\"showlegend\":true,\"text\":[18.89],\"textposition\":\"auto\",\"x\":[\"Cleaning & Household\"],\"xaxis\":\"x\",\"y\":[18.89],\"yaxis\":\"y\",\"type\":\"bar\"},{\"alignmentgroup\":\"True\",\"hovertemplate\":\"color=Foodgrains, Oil & Masala<br>x=%{x}<br>y=%{y}<br>text=%{text}<extra></extra>\",\"legendgroup\":\"Foodgrains, Oil & Masala\",\"marker\":{\"color\":\"#26828e\",\"pattern\":{\"shape\":\"\"}},\"name\":\"Foodgrains, Oil & Masala\",\"offsetgroup\":\"Foodgrains, Oil & Masala\",\"orientation\":\"v\",\"showlegend\":true,\"text\":[18.25],\"textposition\":\"auto\",\"x\":[\"Foodgrains, Oil & Masala\"],\"xaxis\":\"x\",\"y\":[18.25],\"yaxis\":\"y\",\"type\":\"bar\"},{\"alignmentgroup\":\"True\",\"hovertemplate\":\"color=Baby Care<br>x=%{x}<br>y=%{y}<br>text=%{text}<extra></extra>\",\"legendgroup\":\"Baby Care\",\"marker\":{\"color\":\"#1f9e89\",\"pattern\":{\"shape\":\"\"}},\"name\":\"Baby Care\",\"offsetgroup\":\"Baby Care\",\"orientation\":\"v\",\"showlegend\":true,\"text\":[16.62],\"textposition\":\"auto\",\"x\":[\"Baby Care\"],\"xaxis\":\"x\",\"y\":[16.62],\"yaxis\":\"y\",\"type\":\"bar\"},{\"alignmentgroup\":\"True\",\"hovertemplate\":\"color=Snacks & Branded Foods<br>x=%{x}<br>y=%{y}<br>text=%{text}<extra></extra>\",\"legendgroup\":\"Snacks & Branded Foods\",\"marker\":{\"color\":\"#35b779\",\"pattern\":{\"shape\":\"\"}},\"name\":\"Snacks & Branded Foods\",\"offsetgroup\":\"Snacks & Branded Foods\",\"orientation\":\"v\",\"showlegend\":true,\"text\":[16.46],\"textposition\":\"auto\",\"x\":[\"Snacks & Branded Foods\"],\"xaxis\":\"x\",\"y\":[16.46],\"yaxis\":\"y\",\"type\":\"bar\"},{\"alignmentgroup\":\"True\",\"hovertemplate\":\"color=Gourmet & World Food<br>x=%{x}<br>y=%{y}<br>text=%{text}<extra></extra>\",\"legendgroup\":\"Gourmet & World Food\",\"marker\":{\"color\":\"#6ece58\",\"pattern\":{\"shape\":\"\"}},\"name\":\"Gourmet & World Food\",\"offsetgroup\":\"Gourmet & World Food\",\"orientation\":\"v\",\"showlegend\":true,\"text\":[16.31],\"textposition\":\"auto\",\"x\":[\"Gourmet & World Food\"],\"xaxis\":\"x\",\"y\":[16.31],\"yaxis\":\"y\",\"type\":\"bar\"},{\"alignmentgroup\":\"True\",\"hovertemplate\":\"color=Bakery, Cakes & Dairy<br>x=%{x}<br>y=%{y}<br>text=%{text}<extra></extra>\",\"legendgroup\":\"Bakery, Cakes & Dairy\",\"marker\":{\"color\":\"#b5de2b\",\"pattern\":{\"shape\":\"\"}},\"name\":\"Bakery, Cakes & Dairy\",\"offsetgroup\":\"Bakery, Cakes & Dairy\",\"orientation\":\"v\",\"showlegend\":true,\"text\":[14.11],\"textposition\":\"auto\",\"x\":[\"Bakery, Cakes & Dairy\"],\"xaxis\":\"x\",\"y\":[14.11],\"yaxis\":\"y\",\"type\":\"bar\"}],                        {\"barmode\":\"relative\",\"height\":500,\"legend\":{\"title\":{\"text\":\"color\",\"font\":{\"color\":\"green\"}},\"tracegroupgap\":0},\"template\":{\"data\":{\"barpolar\":[{\"marker\":{\"line\":{\"color\":\"#E5ECF6\",\"width\":0.5},\"pattern\":{\"fillmode\":\"overlay\",\"size\":10,\"solidity\":0.2}},\"type\":\"barpolar\"}],\"bar\":[{\"error_x\":{\"color\":\"#2a3f5f\"},\"error_y\":{\"color\":\"#2a3f5f\"},\"marker\":{\"line\":{\"color\":\"#E5ECF6\",\"width\":0.5},\"pattern\":{\"fillmode\":\"overlay\",\"size\":10,\"solidity\":0.2}},\"type\":\"bar\"}],\"carpet\":[{\"aaxis\":{\"endlinecolor\":\"#2a3f5f\",\"gridcolor\":\"white\",\"linecolor\":\"white\",\"minorgridcolor\":\"white\",\"startlinecolor\":\"#2a3f5f\"},\"baxis\":{\"endlinecolor\":\"#2a3f5f\",\"gridcolor\":\"white\",\"linecolor\":\"white\",\"minorgridcolor\":\"white\",\"startlinecolor\":\"#2a3f5f\"},\"type\":\"carpet\"}],\"choropleth\":[{\"colorbar\":{\"outlinewidth\":0,\"ticks\":\"\"},\"type\":\"choropleth\"}],\"contourcarpet\":[{\"colorbar\":{\"outlinewidth\":0,\"ticks\":\"\"},\"type\":\"contourcarpet\"}],\"contour\":[{\"colorbar\":{\"outlinewidth\":0,\"ticks\":\"\"},\"colorscale\":[[0.0,\"#0d0887\"],[0.1111111111111111,\"#46039f\"],[0.2222222222222222,\"#7201a8\"],[0.3333333333333333,\"#9c179e\"],[0.4444444444444444,\"#bd3786\"],[0.5555555555555556,\"#d8576b\"],[0.6666666666666666,\"#ed7953\"],[0.7777777777777778,\"#fb9f3a\"],[0.8888888888888888,\"#fdca26\"],[1.0,\"#f0f921\"]],\"type\":\"contour\"}],\"heatmapgl\":[{\"colorbar\":{\"outlinewidth\":0,\"ticks\":\"\"},\"colorscale\":[[0.0,\"#0d0887\"],[0.1111111111111111,\"#46039f\"],[0.2222222222222222,\"#7201a8\"],[0.3333333333333333,\"#9c179e\"],[0.4444444444444444,\"#bd3786\"],[0.5555555555555556,\"#d8576b\"],[0.6666666666666666,\"#ed7953\"],[0.7777777777777778,\"#fb9f3a\"],[0.8888888888888888,\"#fdca26\"],[1.0,\"#f0f921\"]],\"type\":\"heatmapgl\"}],\"heatmap\":[{\"colorbar\":{\"outlinewidth\":0,\"ticks\":\"\"},\"colorscale\":[[0.0,\"#0d0887\"],[0.1111111111111111,\"#46039f\"],[0.2222222222222222,\"#7201a8\"],[0.3333333333333333,\"#9c179e\"],[0.4444444444444444,\"#bd3786\"],[0.5555555555555556,\"#d8576b\"],[0.6666666666666666,\"#ed7953\"],[0.7777777777777778,\"#fb9f3a\"],[0.8888888888888888,\"#fdca26\"],[1.0,\"#f0f921\"]],\"type\":\"heatmap\"}],\"histogram2dcontour\":[{\"colorbar\":{\"outlinewidth\":0,\"ticks\":\"\"},\"colorscale\":[[0.0,\"#0d0887\"],[0.1111111111111111,\"#46039f\"],[0.2222222222222222,\"#7201a8\"],[0.3333333333333333,\"#9c179e\"],[0.4444444444444444,\"#bd3786\"],[0.5555555555555556,\"#d8576b\"],[0.6666666666666666,\"#ed7953\"],[0.7777777777777778,\"#fb9f3a\"],[0.8888888888888888,\"#fdca26\"],[1.0,\"#f0f921\"]],\"type\":\"histogram2dcontour\"}],\"histogram2d\":[{\"colorbar\":{\"outlinewidth\":0,\"ticks\":\"\"},\"colorscale\":[[0.0,\"#0d0887\"],[0.1111111111111111,\"#46039f\"],[0.2222222222222222,\"#7201a8\"],[0.3333333333333333,\"#9c179e\"],[0.4444444444444444,\"#bd3786\"],[0.5555555555555556,\"#d8576b\"],[0.6666666666666666,\"#ed7953\"],[0.7777777777777778,\"#fb9f3a\"],[0.8888888888888888,\"#fdca26\"],[1.0,\"#f0f921\"]],\"type\":\"histogram2d\"}],\"histogram\":[{\"marker\":{\"pattern\":{\"fillmode\":\"overlay\",\"size\":10,\"solidity\":0.2}},\"type\":\"histogram\"}],\"mesh3d\":[{\"colorbar\":{\"outlinewidth\":0,\"ticks\":\"\"},\"type\":\"mesh3d\"}],\"parcoords\":[{\"line\":{\"colorbar\":{\"outlinewidth\":0,\"ticks\":\"\"}},\"type\":\"parcoords\"}],\"pie\":[{\"automargin\":true,\"type\":\"pie\"}],\"scatter3d\":[{\"line\":{\"colorbar\":{\"outlinewidth\":0,\"ticks\":\"\"}},\"marker\":{\"colorbar\":{\"outlinewidth\":0,\"ticks\":\"\"}},\"type\":\"scatter3d\"}],\"scattercarpet\":[{\"marker\":{\"colorbar\":{\"outlinewidth\":0,\"ticks\":\"\"}},\"type\":\"scattercarpet\"}],\"scattergeo\":[{\"marker\":{\"colorbar\":{\"outlinewidth\":0,\"ticks\":\"\"}},\"type\":\"scattergeo\"}],\"scattergl\":[{\"marker\":{\"colorbar\":{\"outlinewidth\":0,\"ticks\":\"\"}},\"type\":\"scattergl\"}],\"scattermapbox\":[{\"marker\":{\"colorbar\":{\"outlinewidth\":0,\"ticks\":\"\"}},\"type\":\"scattermapbox\"}],\"scatterpolargl\":[{\"marker\":{\"colorbar\":{\"outlinewidth\":0,\"ticks\":\"\"}},\"type\":\"scatterpolargl\"}],\"scatterpolar\":[{\"marker\":{\"colorbar\":{\"outlinewidth\":0,\"ticks\":\"\"}},\"type\":\"scatterpolar\"}],\"scatter\":[{\"marker\":{\"colorbar\":{\"outlinewidth\":0,\"ticks\":\"\"}},\"type\":\"scatter\"}],\"scatterternary\":[{\"marker\":{\"colorbar\":{\"outlinewidth\":0,\"ticks\":\"\"}},\"type\":\"scatterternary\"}],\"surface\":[{\"colorbar\":{\"outlinewidth\":0,\"ticks\":\"\"},\"colorscale\":[[0.0,\"#0d0887\"],[0.1111111111111111,\"#46039f\"],[0.2222222222222222,\"#7201a8\"],[0.3333333333333333,\"#9c179e\"],[0.4444444444444444,\"#bd3786\"],[0.5555555555555556,\"#d8576b\"],[0.6666666666666666,\"#ed7953\"],[0.7777777777777778,\"#fb9f3a\"],[0.8888888888888888,\"#fdca26\"],[1.0,\"#f0f921\"]],\"type\":\"surface\"}],\"table\":[{\"cells\":{\"fill\":{\"color\":\"#EBF0F8\"},\"line\":{\"color\":\"white\"}},\"header\":{\"fill\":{\"color\":\"#C8D4E3\"},\"line\":{\"color\":\"white\"}},\"type\":\"table\"}]},\"layout\":{\"annotationdefaults\":{\"arrowcolor\":\"#2a3f5f\",\"arrowhead\":0,\"arrowwidth\":1},\"autotypenumbers\":\"strict\",\"coloraxis\":{\"colorbar\":{\"outlinewidth\":0,\"ticks\":\"\"}},\"colorscale\":{\"diverging\":[[0,\"#8e0152\"],[0.1,\"#c51b7d\"],[0.2,\"#de77ae\"],[0.3,\"#f1b6da\"],[0.4,\"#fde0ef\"],[0.5,\"#f7f7f7\"],[0.6,\"#e6f5d0\"],[0.7,\"#b8e186\"],[0.8,\"#7fbc41\"],[0.9,\"#4d9221\"],[1,\"#276419\"]],\"sequential\":[[0.0,\"#0d0887\"],[0.1111111111111111,\"#46039f\"],[0.2222222222222222,\"#7201a8\"],[0.3333333333333333,\"#9c179e\"],[0.4444444444444444,\"#bd3786\"],[0.5555555555555556,\"#d8576b\"],[0.6666666666666666,\"#ed7953\"],[0.7777777777777778,\"#fb9f3a\"],[0.8888888888888888,\"#fdca26\"],[1.0,\"#f0f921\"]],\"sequentialminus\":[[0.0,\"#0d0887\"],[0.1111111111111111,\"#46039f\"],[0.2222222222222222,\"#7201a8\"],[0.3333333333333333,\"#9c179e\"],[0.4444444444444444,\"#bd3786\"],[0.5555555555555556,\"#d8576b\"],[0.6666666666666666,\"#ed7953\"],[0.7777777777777778,\"#fb9f3a\"],[0.8888888888888888,\"#fdca26\"],[1.0,\"#f0f921\"]]},\"colorway\":[\"#636efa\",\"#EF553B\",\"#00cc96\",\"#ab63fa\",\"#FFA15A\",\"#19d3f3\",\"#FF6692\",\"#B6E880\",\"#FF97FF\",\"#FECB52\"],\"font\":{\"color\":\"#2a3f5f\"},\"geo\":{\"bgcolor\":\"white\",\"lakecolor\":\"white\",\"landcolor\":\"#E5ECF6\",\"showlakes\":true,\"showland\":true,\"subunitcolor\":\"white\"},\"hoverlabel\":{\"align\":\"left\"},\"hovermode\":\"closest\",\"mapbox\":{\"style\":\"light\"},\"paper_bgcolor\":\"white\",\"plot_bgcolor\":\"#E5ECF6\",\"polar\":{\"angularaxis\":{\"gridcolor\":\"white\",\"linecolor\":\"white\",\"ticks\":\"\"},\"bgcolor\":\"#E5ECF6\",\"radialaxis\":{\"gridcolor\":\"white\",\"linecolor\":\"white\",\"ticks\":\"\"}},\"scene\":{\"xaxis\":{\"backgroundcolor\":\"#E5ECF6\",\"gridcolor\":\"white\",\"gridwidth\":2,\"linecolor\":\"white\",\"showbackground\":true,\"ticks\":\"\",\"zerolinecolor\":\"white\"},\"yaxis\":{\"backgroundcolor\":\"#E5ECF6\",\"gridcolor\":\"white\",\"gridwidth\":2,\"linecolor\":\"white\",\"showbackground\":true,\"ticks\":\"\",\"zerolinecolor\":\"white\"},\"zaxis\":{\"backgroundcolor\":\"#E5ECF6\",\"gridcolor\":\"white\",\"gridwidth\":2,\"linecolor\":\"white\",\"showbackground\":true,\"ticks\":\"\",\"zerolinecolor\":\"white\"}},\"shapedefaults\":{\"line\":{\"color\":\"#2a3f5f\"}},\"ternary\":{\"aaxis\":{\"gridcolor\":\"white\",\"linecolor\":\"white\",\"ticks\":\"\"},\"baxis\":{\"gridcolor\":\"white\",\"linecolor\":\"white\",\"ticks\":\"\"},\"bgcolor\":\"#E5ECF6\",\"caxis\":{\"gridcolor\":\"white\",\"linecolor\":\"white\",\"ticks\":\"\"}},\"title\":{\"x\":0.05},\"xaxis\":{\"automargin\":true,\"gridcolor\":\"white\",\"linecolor\":\"white\",\"ticks\":\"\",\"title\":{\"standoff\":15},\"zerolinecolor\":\"white\",\"zerolinewidth\":2},\"yaxis\":{\"automargin\":true,\"gridcolor\":\"white\",\"linecolor\":\"white\",\"ticks\":\"\",\"title\":{\"standoff\":15},\"zerolinecolor\":\"white\",\"zerolinewidth\":2}}},\"title\":{\"text\":\"<b>Category wise Average Discount Offered</b>\",\"font\":{\"family\":\"Courier New\",\"color\":\"Red\",\"size\":10}},\"xaxis\":{\"anchor\":\"y\",\"domain\":[0.0,1.0],\"title\":{\"text\":\"<b>Category</b>\"}},\"yaxis\":{\"anchor\":\"x\",\"domain\":[0.0,1.0],\"title\":{\"text\":\"<b>Average Discount</b>\"}},\"font\":{\"family\":\"Courier New\"}},                        {\"responsive\": true}                    ).then(function(){\n",
              "                            \n",
              "var gd = document.getElementById('0e718d96-0f34-4260-9428-1c6dbce08729');\n",
              "var x = new MutationObserver(function (mutations, observer) {{\n",
              "        var display = window.getComputedStyle(gd).display;\n",
              "        if (!display || display === 'none') {{\n",
              "            console.log([gd, 'removed!']);\n",
              "            Plotly.purge(gd);\n",
              "            observer.disconnect();\n",
              "        }}\n",
              "}});\n",
              "\n",
              "// Listen for the removal of the full notebook cells\n",
              "var notebookContainer = gd.closest('#notebook-container');\n",
              "if (notebookContainer) {{\n",
              "    x.observe(notebookContainer, {childList: true});\n",
              "}}\n",
              "\n",
              "// Listen for the clearing of the current output cell\n",
              "var outputEl = gd.closest('.output');\n",
              "if (outputEl) {{\n",
              "    x.observe(outputEl, {childList: true});\n",
              "}}\n",
              "\n",
              "                        })                };                            </script>        </div>\n",
              "</body>\n",
              "</html>"
            ]
          },
          "metadata": {}
        }
      ]
    },
    {
      "cell_type": "markdown",
      "source": [
        "**OBSERVATION:**\n",
        "\n",
        "**Highest average discount is observed in Kitchen, Garden & Pets category, followed by Fruits & Vegetables and Beverages Categories**\n"
      ],
      "metadata": {
        "id": "xX20k1jv9Bi_"
      }
    },
    {
      "cell_type": "markdown",
      "source": [
        "**ANALYSIS OF BIGBASKET'S OWN BRANDS**\n",
        "\n",
        "Analysis on Big Basket's own brands : Bigbasket is popular for its own brands which are sold in its online store along with other brands. These brands occupy significant share of Bigbasket Online Store business. From the names of the brands we can consider the following brands as Bigbasket brands : 'Fresho','bb Royal','BB Home','Fresho Signature','bb Combo','bb Popular','BB Home Herbal','BB Royal Organic','bigbasket','Fresho Organic''"
      ],
      "metadata": {
        "id": "AfFirfLZ9Xvg"
      }
    },
    {
      "cell_type": "code",
      "source": [
        "#Category wise BB & Non-BB Products Count\n",
        "bb_brands = ['Fresho','bb Royal','BB Home','Fresho Signature','bb Combo','bb Popular',\n",
        "             'BB Home Herbal','BB Royal Organic','bigbasket','Fresho Organic']\n",
        "prod_data['is_bb_brand'] = prod_data.apply(lambda x: 'BigBasket' if x['brand'] in(bb_brands) else 'Non-BB', axis=1)\n",
        "# prod_data\n",
        "\n",
        "ctg_brand_split = prod_data[['product','category', 'is_bb_brand']].groupby(['category', 'is_bb_brand'])\\\n",
        "                  .agg(prod_count=('product', 'count')).reset_index()\n",
        "\n",
        "\n",
        "ctg_brand_split['brand_count'] = ctg_brand_split.apply(lambda row: row['is_bb_brand']+ '-' + str(row['prod_count']), axis=1)\n",
        "\n",
        "# ctg_brand_split\n",
        "\n",
        "\n",
        "fig=px.sunburst(data_frame=ctg_brand_split, path=['category','brand_count'], width=1000, height=700)\n",
        "fig.update_layout(title_text=\"<b>Category wise BB & Non-BB Products Count </b>\",\n",
        "                  title_font_family=\"Times New Roman\",\n",
        "                  title_font_color=\"red\",\n",
        "                  title_font_size=20)\n",
        "fig.show()"
      ],
      "metadata": {
        "id": "2iNxagyy8Peu",
        "colab": {
          "base_uri": "https://localhost:8080/",
          "height": 717
        },
        "outputId": "ba514463-51b6-4b36-c9eb-3e03de776cac"
      },
      "execution_count": null,
      "outputs": [
        {
          "output_type": "display_data",
          "data": {
            "text/html": [
              "<html>\n",
              "<head><meta charset=\"utf-8\" /></head>\n",
              "<body>\n",
              "    <div>            <script src=\"https://cdnjs.cloudflare.com/ajax/libs/mathjax/2.7.5/MathJax.js?config=TeX-AMS-MML_SVG\"></script><script type=\"text/javascript\">if (window.MathJax) {MathJax.Hub.Config({SVG: {font: \"STIX-Web\"}});}</script>                <script type=\"text/javascript\">window.PlotlyConfig = {MathJaxConfig: 'local'};</script>\n",
              "        <script src=\"https://cdn.plot.ly/plotly-2.8.3.min.js\"></script>                <div id=\"0ebed921-cbee-49f0-8648-7b58e97a543f\" class=\"plotly-graph-div\" style=\"height:700px; width:1000px;\"></div>            <script type=\"text/javascript\">                                    window.PLOTLYENV=window.PLOTLYENV || {};                                    if (document.getElementById(\"0ebed921-cbee-49f0-8648-7b58e97a543f\")) {                    Plotly.newPlot(                        \"0ebed921-cbee-49f0-8648-7b58e97a543f\",                        [{\"branchvalues\":\"total\",\"domain\":{\"x\":[0.0,1.0],\"y\":[0.0,1.0]},\"hovertemplate\":\"labels=%{label}<br>count=%{value}<br>parent=%{parent}<br>id=%{id}<extra></extra>\",\"ids\":[\"Gourmet & World Food/BigBasket-1\",\"Snacks & Branded Foods/BigBasket-10\",\"Beauty & Hygiene/BigBasket-26\",\"Baby Care/BigBasket-3\",\"Foodgrains, Oil & Masala/BigBasket-310\",\"Cleaning & Household/BigBasket-64\",\"Bakery, Cakes & Dairy/BigBasket-8\",\"Kitchen, Garden & Pets/BigBasket-98\",\"Foodgrains, Oil & Masala/Non-BB-1863\",\"Cleaning & Household/Non-BB-2027\",\"Gourmet & World Food/Non-BB-2363\",\"Kitchen, Garden & Pets/Non-BB-2396\",\"Snacks & Branded Foods/Non-BB-2458\",\"Baby Care/Non-BB-492\",\"Beauty & Hygiene/Non-BB-5434\",\"Beverages/Non-BB-630\",\"Bakery, Cakes & Dairy/Non-BB-657\",\"Baby Care\",\"Bakery, Cakes & Dairy\",\"Beauty & Hygiene\",\"Beverages\",\"Cleaning & Household\",\"Foodgrains, Oil & Masala\",\"Gourmet & World Food\",\"Kitchen, Garden & Pets\",\"Snacks & Branded Foods\"],\"labels\":[\"BigBasket-1\",\"BigBasket-10\",\"BigBasket-26\",\"BigBasket-3\",\"BigBasket-310\",\"BigBasket-64\",\"BigBasket-8\",\"BigBasket-98\",\"Non-BB-1863\",\"Non-BB-2027\",\"Non-BB-2363\",\"Non-BB-2396\",\"Non-BB-2458\",\"Non-BB-492\",\"Non-BB-5434\",\"Non-BB-630\",\"Non-BB-657\",\"Baby Care\",\"Bakery, Cakes & Dairy\",\"Beauty & Hygiene\",\"Beverages\",\"Cleaning & Household\",\"Foodgrains, Oil & Masala\",\"Gourmet & World Food\",\"Kitchen, Garden & Pets\",\"Snacks & Branded Foods\"],\"name\":\"\",\"parents\":[\"Gourmet & World Food\",\"Snacks & Branded Foods\",\"Beauty & Hygiene\",\"Baby Care\",\"Foodgrains, Oil & Masala\",\"Cleaning & Household\",\"Bakery, Cakes & Dairy\",\"Kitchen, Garden & Pets\",\"Foodgrains, Oil & Masala\",\"Cleaning & Household\",\"Gourmet & World Food\",\"Kitchen, Garden & Pets\",\"Snacks & Branded Foods\",\"Baby Care\",\"Beauty & Hygiene\",\"Beverages\",\"Bakery, Cakes & Dairy\",\"\",\"\",\"\",\"\",\"\",\"\",\"\",\"\",\"\"],\"values\":[1,1,1,1,1,1,1,1,1,1,1,1,1,1,1,1,1,2,2,2,1,2,2,2,2,2],\"type\":\"sunburst\"}],                        {\"template\":{\"data\":{\"bar\":[{\"error_x\":{\"color\":\"#2a3f5f\"},\"error_y\":{\"color\":\"#2a3f5f\"},\"marker\":{\"line\":{\"color\":\"#E5ECF6\",\"width\":0.5},\"pattern\":{\"fillmode\":\"overlay\",\"size\":10,\"solidity\":0.2}},\"type\":\"bar\"}],\"barpolar\":[{\"marker\":{\"line\":{\"color\":\"#E5ECF6\",\"width\":0.5},\"pattern\":{\"fillmode\":\"overlay\",\"size\":10,\"solidity\":0.2}},\"type\":\"barpolar\"}],\"carpet\":[{\"aaxis\":{\"endlinecolor\":\"#2a3f5f\",\"gridcolor\":\"white\",\"linecolor\":\"white\",\"minorgridcolor\":\"white\",\"startlinecolor\":\"#2a3f5f\"},\"baxis\":{\"endlinecolor\":\"#2a3f5f\",\"gridcolor\":\"white\",\"linecolor\":\"white\",\"minorgridcolor\":\"white\",\"startlinecolor\":\"#2a3f5f\"},\"type\":\"carpet\"}],\"choropleth\":[{\"colorbar\":{\"outlinewidth\":0,\"ticks\":\"\"},\"type\":\"choropleth\"}],\"contour\":[{\"colorbar\":{\"outlinewidth\":0,\"ticks\":\"\"},\"colorscale\":[[0.0,\"#0d0887\"],[0.1111111111111111,\"#46039f\"],[0.2222222222222222,\"#7201a8\"],[0.3333333333333333,\"#9c179e\"],[0.4444444444444444,\"#bd3786\"],[0.5555555555555556,\"#d8576b\"],[0.6666666666666666,\"#ed7953\"],[0.7777777777777778,\"#fb9f3a\"],[0.8888888888888888,\"#fdca26\"],[1.0,\"#f0f921\"]],\"type\":\"contour\"}],\"contourcarpet\":[{\"colorbar\":{\"outlinewidth\":0,\"ticks\":\"\"},\"type\":\"contourcarpet\"}],\"heatmap\":[{\"colorbar\":{\"outlinewidth\":0,\"ticks\":\"\"},\"colorscale\":[[0.0,\"#0d0887\"],[0.1111111111111111,\"#46039f\"],[0.2222222222222222,\"#7201a8\"],[0.3333333333333333,\"#9c179e\"],[0.4444444444444444,\"#bd3786\"],[0.5555555555555556,\"#d8576b\"],[0.6666666666666666,\"#ed7953\"],[0.7777777777777778,\"#fb9f3a\"],[0.8888888888888888,\"#fdca26\"],[1.0,\"#f0f921\"]],\"type\":\"heatmap\"}],\"heatmapgl\":[{\"colorbar\":{\"outlinewidth\":0,\"ticks\":\"\"},\"colorscale\":[[0.0,\"#0d0887\"],[0.1111111111111111,\"#46039f\"],[0.2222222222222222,\"#7201a8\"],[0.3333333333333333,\"#9c179e\"],[0.4444444444444444,\"#bd3786\"],[0.5555555555555556,\"#d8576b\"],[0.6666666666666666,\"#ed7953\"],[0.7777777777777778,\"#fb9f3a\"],[0.8888888888888888,\"#fdca26\"],[1.0,\"#f0f921\"]],\"type\":\"heatmapgl\"}],\"histogram\":[{\"marker\":{\"pattern\":{\"fillmode\":\"overlay\",\"size\":10,\"solidity\":0.2}},\"type\":\"histogram\"}],\"histogram2d\":[{\"colorbar\":{\"outlinewidth\":0,\"ticks\":\"\"},\"colorscale\":[[0.0,\"#0d0887\"],[0.1111111111111111,\"#46039f\"],[0.2222222222222222,\"#7201a8\"],[0.3333333333333333,\"#9c179e\"],[0.4444444444444444,\"#bd3786\"],[0.5555555555555556,\"#d8576b\"],[0.6666666666666666,\"#ed7953\"],[0.7777777777777778,\"#fb9f3a\"],[0.8888888888888888,\"#fdca26\"],[1.0,\"#f0f921\"]],\"type\":\"histogram2d\"}],\"histogram2dcontour\":[{\"colorbar\":{\"outlinewidth\":0,\"ticks\":\"\"},\"colorscale\":[[0.0,\"#0d0887\"],[0.1111111111111111,\"#46039f\"],[0.2222222222222222,\"#7201a8\"],[0.3333333333333333,\"#9c179e\"],[0.4444444444444444,\"#bd3786\"],[0.5555555555555556,\"#d8576b\"],[0.6666666666666666,\"#ed7953\"],[0.7777777777777778,\"#fb9f3a\"],[0.8888888888888888,\"#fdca26\"],[1.0,\"#f0f921\"]],\"type\":\"histogram2dcontour\"}],\"mesh3d\":[{\"colorbar\":{\"outlinewidth\":0,\"ticks\":\"\"},\"type\":\"mesh3d\"}],\"parcoords\":[{\"line\":{\"colorbar\":{\"outlinewidth\":0,\"ticks\":\"\"}},\"type\":\"parcoords\"}],\"pie\":[{\"automargin\":true,\"type\":\"pie\"}],\"scatter\":[{\"marker\":{\"colorbar\":{\"outlinewidth\":0,\"ticks\":\"\"}},\"type\":\"scatter\"}],\"scatter3d\":[{\"line\":{\"colorbar\":{\"outlinewidth\":0,\"ticks\":\"\"}},\"marker\":{\"colorbar\":{\"outlinewidth\":0,\"ticks\":\"\"}},\"type\":\"scatter3d\"}],\"scattercarpet\":[{\"marker\":{\"colorbar\":{\"outlinewidth\":0,\"ticks\":\"\"}},\"type\":\"scattercarpet\"}],\"scattergeo\":[{\"marker\":{\"colorbar\":{\"outlinewidth\":0,\"ticks\":\"\"}},\"type\":\"scattergeo\"}],\"scattergl\":[{\"marker\":{\"colorbar\":{\"outlinewidth\":0,\"ticks\":\"\"}},\"type\":\"scattergl\"}],\"scattermapbox\":[{\"marker\":{\"colorbar\":{\"outlinewidth\":0,\"ticks\":\"\"}},\"type\":\"scattermapbox\"}],\"scatterpolar\":[{\"marker\":{\"colorbar\":{\"outlinewidth\":0,\"ticks\":\"\"}},\"type\":\"scatterpolar\"}],\"scatterpolargl\":[{\"marker\":{\"colorbar\":{\"outlinewidth\":0,\"ticks\":\"\"}},\"type\":\"scatterpolargl\"}],\"scatterternary\":[{\"marker\":{\"colorbar\":{\"outlinewidth\":0,\"ticks\":\"\"}},\"type\":\"scatterternary\"}],\"surface\":[{\"colorbar\":{\"outlinewidth\":0,\"ticks\":\"\"},\"colorscale\":[[0.0,\"#0d0887\"],[0.1111111111111111,\"#46039f\"],[0.2222222222222222,\"#7201a8\"],[0.3333333333333333,\"#9c179e\"],[0.4444444444444444,\"#bd3786\"],[0.5555555555555556,\"#d8576b\"],[0.6666666666666666,\"#ed7953\"],[0.7777777777777778,\"#fb9f3a\"],[0.8888888888888888,\"#fdca26\"],[1.0,\"#f0f921\"]],\"type\":\"surface\"}],\"table\":[{\"cells\":{\"fill\":{\"color\":\"#EBF0F8\"},\"line\":{\"color\":\"white\"}},\"header\":{\"fill\":{\"color\":\"#C8D4E3\"},\"line\":{\"color\":\"white\"}},\"type\":\"table\"}]},\"layout\":{\"annotationdefaults\":{\"arrowcolor\":\"#2a3f5f\",\"arrowhead\":0,\"arrowwidth\":1},\"autotypenumbers\":\"strict\",\"coloraxis\":{\"colorbar\":{\"outlinewidth\":0,\"ticks\":\"\"}},\"colorscale\":{\"diverging\":[[0,\"#8e0152\"],[0.1,\"#c51b7d\"],[0.2,\"#de77ae\"],[0.3,\"#f1b6da\"],[0.4,\"#fde0ef\"],[0.5,\"#f7f7f7\"],[0.6,\"#e6f5d0\"],[0.7,\"#b8e186\"],[0.8,\"#7fbc41\"],[0.9,\"#4d9221\"],[1,\"#276419\"]],\"sequential\":[[0.0,\"#0d0887\"],[0.1111111111111111,\"#46039f\"],[0.2222222222222222,\"#7201a8\"],[0.3333333333333333,\"#9c179e\"],[0.4444444444444444,\"#bd3786\"],[0.5555555555555556,\"#d8576b\"],[0.6666666666666666,\"#ed7953\"],[0.7777777777777778,\"#fb9f3a\"],[0.8888888888888888,\"#fdca26\"],[1.0,\"#f0f921\"]],\"sequentialminus\":[[0.0,\"#0d0887\"],[0.1111111111111111,\"#46039f\"],[0.2222222222222222,\"#7201a8\"],[0.3333333333333333,\"#9c179e\"],[0.4444444444444444,\"#bd3786\"],[0.5555555555555556,\"#d8576b\"],[0.6666666666666666,\"#ed7953\"],[0.7777777777777778,\"#fb9f3a\"],[0.8888888888888888,\"#fdca26\"],[1.0,\"#f0f921\"]]},\"colorway\":[\"#636efa\",\"#EF553B\",\"#00cc96\",\"#ab63fa\",\"#FFA15A\",\"#19d3f3\",\"#FF6692\",\"#B6E880\",\"#FF97FF\",\"#FECB52\"],\"font\":{\"color\":\"#2a3f5f\"},\"geo\":{\"bgcolor\":\"white\",\"lakecolor\":\"white\",\"landcolor\":\"#E5ECF6\",\"showlakes\":true,\"showland\":true,\"subunitcolor\":\"white\"},\"hoverlabel\":{\"align\":\"left\"},\"hovermode\":\"closest\",\"mapbox\":{\"style\":\"light\"},\"paper_bgcolor\":\"white\",\"plot_bgcolor\":\"#E5ECF6\",\"polar\":{\"angularaxis\":{\"gridcolor\":\"white\",\"linecolor\":\"white\",\"ticks\":\"\"},\"bgcolor\":\"#E5ECF6\",\"radialaxis\":{\"gridcolor\":\"white\",\"linecolor\":\"white\",\"ticks\":\"\"}},\"scene\":{\"xaxis\":{\"backgroundcolor\":\"#E5ECF6\",\"gridcolor\":\"white\",\"gridwidth\":2,\"linecolor\":\"white\",\"showbackground\":true,\"ticks\":\"\",\"zerolinecolor\":\"white\"},\"yaxis\":{\"backgroundcolor\":\"#E5ECF6\",\"gridcolor\":\"white\",\"gridwidth\":2,\"linecolor\":\"white\",\"showbackground\":true,\"ticks\":\"\",\"zerolinecolor\":\"white\"},\"zaxis\":{\"backgroundcolor\":\"#E5ECF6\",\"gridcolor\":\"white\",\"gridwidth\":2,\"linecolor\":\"white\",\"showbackground\":true,\"ticks\":\"\",\"zerolinecolor\":\"white\"}},\"shapedefaults\":{\"line\":{\"color\":\"#2a3f5f\"}},\"ternary\":{\"aaxis\":{\"gridcolor\":\"white\",\"linecolor\":\"white\",\"ticks\":\"\"},\"baxis\":{\"gridcolor\":\"white\",\"linecolor\":\"white\",\"ticks\":\"\"},\"bgcolor\":\"#E5ECF6\",\"caxis\":{\"gridcolor\":\"white\",\"linecolor\":\"white\",\"ticks\":\"\"}},\"title\":{\"x\":0.05},\"xaxis\":{\"automargin\":true,\"gridcolor\":\"white\",\"linecolor\":\"white\",\"ticks\":\"\",\"title\":{\"standoff\":15},\"zerolinecolor\":\"white\",\"zerolinewidth\":2},\"yaxis\":{\"automargin\":true,\"gridcolor\":\"white\",\"linecolor\":\"white\",\"ticks\":\"\",\"title\":{\"standoff\":15},\"zerolinecolor\":\"white\",\"zerolinewidth\":2}}},\"legend\":{\"tracegroupgap\":0},\"margin\":{\"t\":60},\"height\":700,\"width\":1000,\"title\":{\"font\":{\"family\":\"Times New Roman\",\"color\":\"red\",\"size\":20},\"text\":\"<b>Category wise BB & Non-BB Products Count </b>\"}},                        {\"responsive\": true}                    ).then(function(){\n",
              "                            \n",
              "var gd = document.getElementById('0ebed921-cbee-49f0-8648-7b58e97a543f');\n",
              "var x = new MutationObserver(function (mutations, observer) {{\n",
              "        var display = window.getComputedStyle(gd).display;\n",
              "        if (!display || display === 'none') {{\n",
              "            console.log([gd, 'removed!']);\n",
              "            Plotly.purge(gd);\n",
              "            observer.disconnect();\n",
              "        }}\n",
              "}});\n",
              "\n",
              "// Listen for the removal of the full notebook cells\n",
              "var notebookContainer = gd.closest('#notebook-container');\n",
              "if (notebookContainer) {{\n",
              "    x.observe(notebookContainer, {childList: true});\n",
              "}}\n",
              "\n",
              "// Listen for the clearing of the current output cell\n",
              "var outputEl = gd.closest('.output');\n",
              "if (outputEl) {{\n",
              "    x.observe(outputEl, {childList: true});\n",
              "}}\n",
              "\n",
              "                        })                };                            </script>        </div>\n",
              "</body>\n",
              "</html>"
            ]
          },
          "metadata": {}
        }
      ]
    },
    {
      "cell_type": "markdown",
      "source": [
        "**OBSERVATION :**\n",
        "\n",
        "In Fruits & Vegetables catergory Bigbasket sells 97% of the products under it's own brands. In Eggs, Meat & Fish and Foodgrains, Oil & Masala categories, Bigbasket brands occupy 31% and 23% respectively. This shows Bigbasket brands have very significant share in the sales of household daily cooking/food products. Bigbasket brands Fresho, bb Royal and BB Home has the highest number of Product Types. Bigbasket brands have very little presence (less than 1%) in Baby Care, Beauty & Hygiene and Snacks & Branded Foods categories\n"
      ],
      "metadata": {
        "id": "zz8Zbf699hqn"
      }
    },
    {
      "cell_type": "markdown",
      "source": [
        "**DEMOGRAPHIC FILTER RECOMMENDATION**\n",
        "\n",
        "Demographic Filtering is like recommeding items based on a feature. Like the top 10 rated items or the top 10 items in a particular category."
      ],
      "metadata": {
        "id": "cA0lBUu-9oT5"
      }
    },
    {
      "cell_type": "code",
      "source": [
        "#define\n",
        "def sort_recommendor(col='rating',sort_type = False):\n",
        "    \"\"\"\n",
        "    A recommendor based on sorting products on the column passed.\n",
        "    Arguments to be passed:\n",
        "    \n",
        "    col: The Feature to be used for recommendation.\n",
        "    sort_type: True for Ascending Order\n",
        "    \"\"\"\n",
        "    rated_recommend = prod_data.copy()\n",
        "    if rated_recommend[col].dtype == 'O':\n",
        "        col='rating'\n",
        "    rated_recommend = rated_recommend.sort_values(by=col,ascending = sort_type)\n",
        "    return rated_recommend[['product','brand','sale_price','rating']].head(10)"
      ],
      "metadata": {
        "id": "_Z7A0gB58Pao"
      },
      "execution_count": null,
      "outputs": []
    },
    {
      "cell_type": "code",
      "source": [
        "help(sort_recommendor)"
      ],
      "metadata": {
        "id": "yW7YCmxe8PYd",
        "colab": {
          "base_uri": "https://localhost:8080/"
        },
        "outputId": "619a122f-cd37-4ab4-9a8e-36a934811a1c"
      },
      "execution_count": null,
      "outputs": [
        {
          "output_type": "stream",
          "name": "stdout",
          "text": [
            "Help on function sort_recommendor in module __main__:\n",
            "\n",
            "sort_recommendor(col='rating', sort_type=False)\n",
            "    A recommendor based on sorting products on the column passed.\n",
            "    Arguments to be passed:\n",
            "    \n",
            "    col: The Feature to be used for recommendation.\n",
            "    sort_type: True for Ascending Order\n",
            "\n"
          ]
        }
      ]
    },
    {
      "cell_type": "code",
      "source": [
        "sort_recommendor(col='sale_price',sort_type=True)"
      ],
      "metadata": {
        "id": "rS-b7T5w92jD",
        "colab": {
          "base_uri": "https://localhost:8080/",
          "height": 363
        },
        "outputId": "8073c960-16bf-4821-b9c0-5cb3d0cdec8c"
      },
      "execution_count": null,
      "outputs": [
        {
          "output_type": "execute_result",
          "data": {
            "text/plain": [
              "                                    product         brand  sale_price  rating\n",
              "21312                                 Serum         Livon         3.0     2.5\n",
              "18290                Sugar Coated Chocolate  Cadbury Gems         5.0     4.2\n",
              "21228                        Dish Shine Bar           Exo         5.0     4.2\n",
              "14538          Cadbury Perk - Chocolate Bar       Cadbury         5.0     4.2\n",
              "19538                Layer Cake - Chocolate       Winkies         5.0     4.2\n",
              "2978   Sugar Free Chewing Gum - Mixed Fruit         Orbit         5.0     4.2\n",
              "15926               Dreams Cup Cake - Choco         Elite         5.0     3.9\n",
              "6014                Good Day Butter Cookies     Britannia         5.0     4.1\n",
              "27413                   Layer Cake - Orange       Winkies         5.0     4.1\n",
              "11306        Happy Happy Choco-Chip Cookies         Parle         5.0     4.2"
            ],
            "text/html": [
              "\n",
              "  <div id=\"df-7efb466c-759d-488d-9116-3c2d1d39a902\">\n",
              "    <div class=\"colab-df-container\">\n",
              "      <div>\n",
              "<style scoped>\n",
              "    .dataframe tbody tr th:only-of-type {\n",
              "        vertical-align: middle;\n",
              "    }\n",
              "\n",
              "    .dataframe tbody tr th {\n",
              "        vertical-align: top;\n",
              "    }\n",
              "\n",
              "    .dataframe thead th {\n",
              "        text-align: right;\n",
              "    }\n",
              "</style>\n",
              "<table border=\"1\" class=\"dataframe\">\n",
              "  <thead>\n",
              "    <tr style=\"text-align: right;\">\n",
              "      <th></th>\n",
              "      <th>product</th>\n",
              "      <th>brand</th>\n",
              "      <th>sale_price</th>\n",
              "      <th>rating</th>\n",
              "    </tr>\n",
              "  </thead>\n",
              "  <tbody>\n",
              "    <tr>\n",
              "      <th>21312</th>\n",
              "      <td>Serum</td>\n",
              "      <td>Livon</td>\n",
              "      <td>3.0</td>\n",
              "      <td>2.5</td>\n",
              "    </tr>\n",
              "    <tr>\n",
              "      <th>18290</th>\n",
              "      <td>Sugar Coated Chocolate</td>\n",
              "      <td>Cadbury Gems</td>\n",
              "      <td>5.0</td>\n",
              "      <td>4.2</td>\n",
              "    </tr>\n",
              "    <tr>\n",
              "      <th>21228</th>\n",
              "      <td>Dish Shine Bar</td>\n",
              "      <td>Exo</td>\n",
              "      <td>5.0</td>\n",
              "      <td>4.2</td>\n",
              "    </tr>\n",
              "    <tr>\n",
              "      <th>14538</th>\n",
              "      <td>Cadbury Perk - Chocolate Bar</td>\n",
              "      <td>Cadbury</td>\n",
              "      <td>5.0</td>\n",
              "      <td>4.2</td>\n",
              "    </tr>\n",
              "    <tr>\n",
              "      <th>19538</th>\n",
              "      <td>Layer Cake - Chocolate</td>\n",
              "      <td>Winkies</td>\n",
              "      <td>5.0</td>\n",
              "      <td>4.2</td>\n",
              "    </tr>\n",
              "    <tr>\n",
              "      <th>2978</th>\n",
              "      <td>Sugar Free Chewing Gum - Mixed Fruit</td>\n",
              "      <td>Orbit</td>\n",
              "      <td>5.0</td>\n",
              "      <td>4.2</td>\n",
              "    </tr>\n",
              "    <tr>\n",
              "      <th>15926</th>\n",
              "      <td>Dreams Cup Cake - Choco</td>\n",
              "      <td>Elite</td>\n",
              "      <td>5.0</td>\n",
              "      <td>3.9</td>\n",
              "    </tr>\n",
              "    <tr>\n",
              "      <th>6014</th>\n",
              "      <td>Good Day Butter Cookies</td>\n",
              "      <td>Britannia</td>\n",
              "      <td>5.0</td>\n",
              "      <td>4.1</td>\n",
              "    </tr>\n",
              "    <tr>\n",
              "      <th>27413</th>\n",
              "      <td>Layer Cake - Orange</td>\n",
              "      <td>Winkies</td>\n",
              "      <td>5.0</td>\n",
              "      <td>4.1</td>\n",
              "    </tr>\n",
              "    <tr>\n",
              "      <th>11306</th>\n",
              "      <td>Happy Happy Choco-Chip Cookies</td>\n",
              "      <td>Parle</td>\n",
              "      <td>5.0</td>\n",
              "      <td>4.2</td>\n",
              "    </tr>\n",
              "  </tbody>\n",
              "</table>\n",
              "</div>\n",
              "      <button class=\"colab-df-convert\" onclick=\"convertToInteractive('df-7efb466c-759d-488d-9116-3c2d1d39a902')\"\n",
              "              title=\"Convert this dataframe to an interactive table.\"\n",
              "              style=\"display:none;\">\n",
              "        \n",
              "  <svg xmlns=\"http://www.w3.org/2000/svg\" height=\"24px\"viewBox=\"0 0 24 24\"\n",
              "       width=\"24px\">\n",
              "    <path d=\"M0 0h24v24H0V0z\" fill=\"none\"/>\n",
              "    <path d=\"M18.56 5.44l.94 2.06.94-2.06 2.06-.94-2.06-.94-.94-2.06-.94 2.06-2.06.94zm-11 1L8.5 8.5l.94-2.06 2.06-.94-2.06-.94L8.5 2.5l-.94 2.06-2.06.94zm10 10l.94 2.06.94-2.06 2.06-.94-2.06-.94-.94-2.06-.94 2.06-2.06.94z\"/><path d=\"M17.41 7.96l-1.37-1.37c-.4-.4-.92-.59-1.43-.59-.52 0-1.04.2-1.43.59L10.3 9.45l-7.72 7.72c-.78.78-.78 2.05 0 2.83L4 21.41c.39.39.9.59 1.41.59.51 0 1.02-.2 1.41-.59l7.78-7.78 2.81-2.81c.8-.78.8-2.07 0-2.86zM5.41 20L4 18.59l7.72-7.72 1.47 1.35L5.41 20z\"/>\n",
              "  </svg>\n",
              "      </button>\n",
              "      \n",
              "  <style>\n",
              "    .colab-df-container {\n",
              "      display:flex;\n",
              "      flex-wrap:wrap;\n",
              "      gap: 12px;\n",
              "    }\n",
              "\n",
              "    .colab-df-convert {\n",
              "      background-color: #E8F0FE;\n",
              "      border: none;\n",
              "      border-radius: 50%;\n",
              "      cursor: pointer;\n",
              "      display: none;\n",
              "      fill: #1967D2;\n",
              "      height: 32px;\n",
              "      padding: 0 0 0 0;\n",
              "      width: 32px;\n",
              "    }\n",
              "\n",
              "    .colab-df-convert:hover {\n",
              "      background-color: #E2EBFA;\n",
              "      box-shadow: 0px 1px 2px rgba(60, 64, 67, 0.3), 0px 1px 3px 1px rgba(60, 64, 67, 0.15);\n",
              "      fill: #174EA6;\n",
              "    }\n",
              "\n",
              "    [theme=dark] .colab-df-convert {\n",
              "      background-color: #3B4455;\n",
              "      fill: #D2E3FC;\n",
              "    }\n",
              "\n",
              "    [theme=dark] .colab-df-convert:hover {\n",
              "      background-color: #434B5C;\n",
              "      box-shadow: 0px 1px 3px 1px rgba(0, 0, 0, 0.15);\n",
              "      filter: drop-shadow(0px 1px 2px rgba(0, 0, 0, 0.3));\n",
              "      fill: #FFFFFF;\n",
              "    }\n",
              "  </style>\n",
              "\n",
              "      <script>\n",
              "        const buttonEl =\n",
              "          document.querySelector('#df-7efb466c-759d-488d-9116-3c2d1d39a902 button.colab-df-convert');\n",
              "        buttonEl.style.display =\n",
              "          google.colab.kernel.accessAllowed ? 'block' : 'none';\n",
              "\n",
              "        async function convertToInteractive(key) {\n",
              "          const element = document.querySelector('#df-7efb466c-759d-488d-9116-3c2d1d39a902');\n",
              "          const dataTable =\n",
              "            await google.colab.kernel.invokeFunction('convertToInteractive',\n",
              "                                                     [key], {});\n",
              "          if (!dataTable) return;\n",
              "\n",
              "          const docLinkHtml = 'Like what you see? Visit the ' +\n",
              "            '<a target=\"_blank\" href=https://colab.research.google.com/notebooks/data_table.ipynb>data table notebook</a>'\n",
              "            + ' to learn more about interactive tables.';\n",
              "          element.innerHTML = '';\n",
              "          dataTable['output_type'] = 'display_data';\n",
              "          await google.colab.output.renderOutput(dataTable, element);\n",
              "          const docLink = document.createElement('div');\n",
              "          docLink.innerHTML = docLinkHtml;\n",
              "          element.appendChild(docLink);\n",
              "        }\n",
              "      </script>\n",
              "    </div>\n",
              "  </div>\n",
              "  "
            ]
          },
          "metadata": {},
          "execution_count": 29
        }
      ]
    },
    {
      "cell_type": "markdown",
      "source": [
        "**OBSERVATION: Notice that our top product has rating of 2.5 which is quite bad so let's filter down by setting a threshold rating**"
      ],
      "metadata": {
        "id": "056wpya297eE"
      }
    },
    {
      "cell_type": "code",
      "source": [
        "C= prod_data['rating'].mean()\n",
        "C"
      ],
      "metadata": {
        "id": "ZfYBIUGp92fo",
        "colab": {
          "base_uri": "https://localhost:8080/"
        },
        "outputId": "1232a273-be76-45ac-b367-328b8ed5acab"
      },
      "execution_count": null,
      "outputs": [
        {
          "output_type": "execute_result",
          "data": {
            "text/plain": [
              "3.9430626326963902"
            ]
          },
          "metadata": {},
          "execution_count": 30
        }
      ]
    },
    {
      "cell_type": "code",
      "source": [
        "#define\n",
        "def sort_recommendor(col='rating',sort_type = False):\n",
        "    \"\"\"\n",
        "    A recommendor based on sorting products on the column passed.\n",
        "    Arguments to be passed:\n",
        "    \n",
        "    col: The Feature to be used for recommendation.\n",
        "    sort_type: True for Ascending Order\n",
        "    \"\"\"\n",
        "    rated_recommend = prod_data.copy().loc[prod_data['rating'] >= 3.5]\n",
        "    if rated_recommend[col].dtype == 'O':\n",
        "        col='rating'\n",
        "    rated_recommend = rated_recommend.sort_values(by=col,ascending = sort_type)\n",
        "    return rated_recommend[['product','brand','sale_price','rating']].head(10)"
      ],
      "metadata": {
        "id": "X8lOEEjU92dU"
      },
      "execution_count": null,
      "outputs": []
    },
    {
      "cell_type": "code",
      "source": [
        "sort_recommendor(col='sale_price',sort_type=True)"
      ],
      "metadata": {
        "id": "c1CPGz9k92bH",
        "colab": {
          "base_uri": "https://localhost:8080/",
          "height": 363
        },
        "outputId": "9fb95e09-a593-4441-a8b2-a7a751a72f70"
      },
      "execution_count": null,
      "outputs": [
        {
          "output_type": "execute_result",
          "data": {
            "text/plain": [
              "                                           product      brand  sale_price  \\\n",
              "2761   Orbit Sugar-Free Chewing Gum - Lemon & Lime   Wrigleys         5.0   \n",
              "3445                 Marie Light Biscuits - Active   Sunfeast         5.0   \n",
              "14603                      50-50 Timepass Biscuits  Britannia         5.0   \n",
              "17640                  Hand Wash - Moisture Shield     Savlon         5.0   \n",
              "27490               50-50 Timepass Salted Biscuits  Britannia         5.0   \n",
              "26584                Polo - The Mint With The Hole    Nestle          5.0   \n",
              "2978          Sugar Free Chewing Gum - Mixed Fruit      Orbit         5.0   \n",
              "19538                       Layer Cake - Chocolate    Winkies         5.0   \n",
              "19202                Bounce Biscuits - Choco Creme   Sunfeast         5.0   \n",
              "14538                 Cadbury Perk - Chocolate Bar    Cadbury         5.0   \n",
              "\n",
              "       rating  \n",
              "2761      4.2  \n",
              "3445      4.5  \n",
              "14603     3.9  \n",
              "17640     4.4  \n",
              "27490     4.2  \n",
              "26584     4.4  \n",
              "2978      4.2  \n",
              "19538     4.2  \n",
              "19202     4.2  \n",
              "14538     4.2  "
            ],
            "text/html": [
              "\n",
              "  <div id=\"df-0d895f3e-8c2e-4d18-822f-6f86a350d446\">\n",
              "    <div class=\"colab-df-container\">\n",
              "      <div>\n",
              "<style scoped>\n",
              "    .dataframe tbody tr th:only-of-type {\n",
              "        vertical-align: middle;\n",
              "    }\n",
              "\n",
              "    .dataframe tbody tr th {\n",
              "        vertical-align: top;\n",
              "    }\n",
              "\n",
              "    .dataframe thead th {\n",
              "        text-align: right;\n",
              "    }\n",
              "</style>\n",
              "<table border=\"1\" class=\"dataframe\">\n",
              "  <thead>\n",
              "    <tr style=\"text-align: right;\">\n",
              "      <th></th>\n",
              "      <th>product</th>\n",
              "      <th>brand</th>\n",
              "      <th>sale_price</th>\n",
              "      <th>rating</th>\n",
              "    </tr>\n",
              "  </thead>\n",
              "  <tbody>\n",
              "    <tr>\n",
              "      <th>2761</th>\n",
              "      <td>Orbit Sugar-Free Chewing Gum - Lemon &amp; Lime</td>\n",
              "      <td>Wrigleys</td>\n",
              "      <td>5.0</td>\n",
              "      <td>4.2</td>\n",
              "    </tr>\n",
              "    <tr>\n",
              "      <th>3445</th>\n",
              "      <td>Marie Light Biscuits - Active</td>\n",
              "      <td>Sunfeast</td>\n",
              "      <td>5.0</td>\n",
              "      <td>4.5</td>\n",
              "    </tr>\n",
              "    <tr>\n",
              "      <th>14603</th>\n",
              "      <td>50-50 Timepass Biscuits</td>\n",
              "      <td>Britannia</td>\n",
              "      <td>5.0</td>\n",
              "      <td>3.9</td>\n",
              "    </tr>\n",
              "    <tr>\n",
              "      <th>17640</th>\n",
              "      <td>Hand Wash - Moisture Shield</td>\n",
              "      <td>Savlon</td>\n",
              "      <td>5.0</td>\n",
              "      <td>4.4</td>\n",
              "    </tr>\n",
              "    <tr>\n",
              "      <th>27490</th>\n",
              "      <td>50-50 Timepass Salted Biscuits</td>\n",
              "      <td>Britannia</td>\n",
              "      <td>5.0</td>\n",
              "      <td>4.2</td>\n",
              "    </tr>\n",
              "    <tr>\n",
              "      <th>26584</th>\n",
              "      <td>Polo - The Mint With The Hole</td>\n",
              "      <td>Nestle</td>\n",
              "      <td>5.0</td>\n",
              "      <td>4.4</td>\n",
              "    </tr>\n",
              "    <tr>\n",
              "      <th>2978</th>\n",
              "      <td>Sugar Free Chewing Gum - Mixed Fruit</td>\n",
              "      <td>Orbit</td>\n",
              "      <td>5.0</td>\n",
              "      <td>4.2</td>\n",
              "    </tr>\n",
              "    <tr>\n",
              "      <th>19538</th>\n",
              "      <td>Layer Cake - Chocolate</td>\n",
              "      <td>Winkies</td>\n",
              "      <td>5.0</td>\n",
              "      <td>4.2</td>\n",
              "    </tr>\n",
              "    <tr>\n",
              "      <th>19202</th>\n",
              "      <td>Bounce Biscuits - Choco Creme</td>\n",
              "      <td>Sunfeast</td>\n",
              "      <td>5.0</td>\n",
              "      <td>4.2</td>\n",
              "    </tr>\n",
              "    <tr>\n",
              "      <th>14538</th>\n",
              "      <td>Cadbury Perk - Chocolate Bar</td>\n",
              "      <td>Cadbury</td>\n",
              "      <td>5.0</td>\n",
              "      <td>4.2</td>\n",
              "    </tr>\n",
              "  </tbody>\n",
              "</table>\n",
              "</div>\n",
              "      <button class=\"colab-df-convert\" onclick=\"convertToInteractive('df-0d895f3e-8c2e-4d18-822f-6f86a350d446')\"\n",
              "              title=\"Convert this dataframe to an interactive table.\"\n",
              "              style=\"display:none;\">\n",
              "        \n",
              "  <svg xmlns=\"http://www.w3.org/2000/svg\" height=\"24px\"viewBox=\"0 0 24 24\"\n",
              "       width=\"24px\">\n",
              "    <path d=\"M0 0h24v24H0V0z\" fill=\"none\"/>\n",
              "    <path d=\"M18.56 5.44l.94 2.06.94-2.06 2.06-.94-2.06-.94-.94-2.06-.94 2.06-2.06.94zm-11 1L8.5 8.5l.94-2.06 2.06-.94-2.06-.94L8.5 2.5l-.94 2.06-2.06.94zm10 10l.94 2.06.94-2.06 2.06-.94-2.06-.94-.94-2.06-.94 2.06-2.06.94z\"/><path d=\"M17.41 7.96l-1.37-1.37c-.4-.4-.92-.59-1.43-.59-.52 0-1.04.2-1.43.59L10.3 9.45l-7.72 7.72c-.78.78-.78 2.05 0 2.83L4 21.41c.39.39.9.59 1.41.59.51 0 1.02-.2 1.41-.59l7.78-7.78 2.81-2.81c.8-.78.8-2.07 0-2.86zM5.41 20L4 18.59l7.72-7.72 1.47 1.35L5.41 20z\"/>\n",
              "  </svg>\n",
              "      </button>\n",
              "      \n",
              "  <style>\n",
              "    .colab-df-container {\n",
              "      display:flex;\n",
              "      flex-wrap:wrap;\n",
              "      gap: 12px;\n",
              "    }\n",
              "\n",
              "    .colab-df-convert {\n",
              "      background-color: #E8F0FE;\n",
              "      border: none;\n",
              "      border-radius: 50%;\n",
              "      cursor: pointer;\n",
              "      display: none;\n",
              "      fill: #1967D2;\n",
              "      height: 32px;\n",
              "      padding: 0 0 0 0;\n",
              "      width: 32px;\n",
              "    }\n",
              "\n",
              "    .colab-df-convert:hover {\n",
              "      background-color: #E2EBFA;\n",
              "      box-shadow: 0px 1px 2px rgba(60, 64, 67, 0.3), 0px 1px 3px 1px rgba(60, 64, 67, 0.15);\n",
              "      fill: #174EA6;\n",
              "    }\n",
              "\n",
              "    [theme=dark] .colab-df-convert {\n",
              "      background-color: #3B4455;\n",
              "      fill: #D2E3FC;\n",
              "    }\n",
              "\n",
              "    [theme=dark] .colab-df-convert:hover {\n",
              "      background-color: #434B5C;\n",
              "      box-shadow: 0px 1px 3px 1px rgba(0, 0, 0, 0.15);\n",
              "      filter: drop-shadow(0px 1px 2px rgba(0, 0, 0, 0.3));\n",
              "      fill: #FFFFFF;\n",
              "    }\n",
              "  </style>\n",
              "\n",
              "      <script>\n",
              "        const buttonEl =\n",
              "          document.querySelector('#df-0d895f3e-8c2e-4d18-822f-6f86a350d446 button.colab-df-convert');\n",
              "        buttonEl.style.display =\n",
              "          google.colab.kernel.accessAllowed ? 'block' : 'none';\n",
              "\n",
              "        async function convertToInteractive(key) {\n",
              "          const element = document.querySelector('#df-0d895f3e-8c2e-4d18-822f-6f86a350d446');\n",
              "          const dataTable =\n",
              "            await google.colab.kernel.invokeFunction('convertToInteractive',\n",
              "                                                     [key], {});\n",
              "          if (!dataTable) return;\n",
              "\n",
              "          const docLinkHtml = 'Like what you see? Visit the ' +\n",
              "            '<a target=\"_blank\" href=https://colab.research.google.com/notebooks/data_table.ipynb>data table notebook</a>'\n",
              "            + ' to learn more about interactive tables.';\n",
              "          element.innerHTML = '';\n",
              "          dataTable['output_type'] = 'display_data';\n",
              "          await google.colab.output.renderOutput(dataTable, element);\n",
              "          const docLink = document.createElement('div');\n",
              "          docLink.innerHTML = docLinkHtml;\n",
              "          element.appendChild(docLink);\n",
              "        }\n",
              "      </script>\n",
              "    </div>\n",
              "  </div>\n",
              "  "
            ]
          },
          "metadata": {},
          "execution_count": 32
        }
      ]
    },
    {
      "cell_type": "markdown",
      "source": [
        "**Notice that the 2.5 rated product is not recommended now!! This was our first recommendor. Quite easy yet effective and used a lot !!**\n",
        "\n",
        "**Content Based Recommendor**"
      ],
      "metadata": {
        "id": "XWXb5MfM-g07"
      }
    },
    {
      "cell_type": "code",
      "source": [
        "#Text Handling Libraries\n",
        "import re\n",
        "from sklearn.feature_extraction.text import TfidfVectorizer, CountVectorizer\n",
        "from sklearn.metrics.pairwise import linear_kernel, cosine_similarity"
      ],
      "metadata": {
        "id": "XKZBkMuR92Yg"
      },
      "execution_count": null,
      "outputs": []
    },
    {
      "cell_type": "code",
      "source": [
        "tfidf = TfidfVectorizer(stop_words='english')\n",
        "tfidf_matrix = tfidf.fit_transform(prod_data['description'])\n",
        "tfidf_matrix.shape"
      ],
      "metadata": {
        "id": "0nt-gDP592WR",
        "colab": {
          "base_uri": "https://localhost:8080/"
        },
        "outputId": "6dd9353f-bac3-4098-f8cb-b02f980d42b8"
      },
      "execution_count": null,
      "outputs": [
        {
          "output_type": "execute_result",
          "data": {
            "text/plain": [
              "(18840, 23342)"
            ]
          },
          "metadata": {},
          "execution_count": 34
        }
      ]
    },
    {
      "cell_type": "markdown",
      "source": [
        "**Now to compute the similarity score, let's use Linear_Kernel. Linear Kernel which Calculates the Dot Product of the tfidf_matrix and returns an aggreate value depicting the Similarity score.**"
      ],
      "metadata": {
        "id": "Gfj6Lczg-sb1"
      }
    },
    {
      "cell_type": "code",
      "source": [
        "cosine_sim = linear_kernel(tfidf_matrix, tfidf_matrix)\n",
        "cosine_sim"
      ],
      "metadata": {
        "id": "ULXdul1C92Ts",
        "colab": {
          "base_uri": "https://localhost:8080/"
        },
        "outputId": "b6bb1d01-6d97-4cab-f2e9-0ec5eec194c3"
      },
      "execution_count": null,
      "outputs": [
        {
          "output_type": "execute_result",
          "data": {
            "text/plain": [
              "array([[1.        , 0.01632718, 0.00999603, ..., 0.01056047, 0.01133156,\n",
              "        0.        ],\n",
              "       [0.01632718, 1.        , 0.00719713, ..., 0.        , 0.        ,\n",
              "        0.        ],\n",
              "       [0.00999603, 0.00719713, 1.        , ..., 0.00635776, 0.        ,\n",
              "        0.        ],\n",
              "       ...,\n",
              "       [0.01056047, 0.        , 0.00635776, ..., 1.        , 0.        ,\n",
              "        0.        ],\n",
              "       [0.01133156, 0.        , 0.        , ..., 0.        , 1.        ,\n",
              "        0.        ],\n",
              "       [0.        , 0.        , 0.        , ..., 0.        , 0.        ,\n",
              "        1.        ]])"
            ]
          },
          "metadata": {},
          "execution_count": 35
        }
      ]
    },
    {
      "cell_type": "markdown",
      "source": [
        "**So we will be recommending items based on similarity score. But our problem is that we will be getting back the similarity scores so we will be sorting the scores. Now we need a reverse-map to get the title and that is what indices is for.**"
      ],
      "metadata": {
        "id": "oE2vLFvt-3Ob"
      }
    },
    {
      "cell_type": "code",
      "source": [
        "indices = pd.Series(prod_data.index, index=prod_data['product']).drop_duplicates()\n",
        "\n",
        "def get_recommendations_1(title, cosine_sim=cosine_sim):\n",
        "    \n",
        "    idx = indices[title]\n",
        "    sim_scores = list(enumerate(cosine_sim[idx]))\n",
        "    sim_scores = sorted(sim_scores, key=lambda x: x[1], reverse=True)\n",
        "    sim_scores = sim_scores[1:11]\n",
        "    movie_indices = [i[0] for i in sim_scores]\n",
        "    return prod_data['product'].iloc[movie_indices]"
      ],
      "metadata": {
        "id": "mWiQzw_G92RZ"
      },
      "execution_count": null,
      "outputs": []
    },
    {
      "cell_type": "code",
      "source": [
        "get_recommendations_1('Water Bottle - Orange')"
      ],
      "metadata": {
        "id": "dfuc4O1b92Ov",
        "colab": {
          "base_uri": "https://localhost:8080/"
        },
        "outputId": "2c0a18a3-7beb-47f6-b0c1-3454196fdd00"
      },
      "execution_count": null,
      "outputs": [
        {
          "output_type": "execute_result",
          "data": {
            "text/plain": [
              "11320    Rectangular Plastic Container - With Lid, Mult...\n",
              "11642                               Jar - With Lid, Yellow\n",
              "26451     Round & Flat Storage Container - With lid, Green\n",
              "6163     Premium Rectangular Plastic Container With Lid...\n",
              "9546     Premium Round Plastic Container With Lid - Yellow\n",
              "13959    Premium Rectangular Plastic Container With Lid...\n",
              "19381    Premium Round & Flat Storage Container With Li...\n",
              "24255      Premium Round Plastic Container With Lid - Blue\n",
              "26067    Premium Round Plastic Container With Lid - Mul...\n",
              "26074      Premium Round Plastic Container With Lid - Pink\n",
              "Name: product, dtype: object"
            ]
          },
          "metadata": {},
          "execution_count": 37
        }
      ]
    },
    {
      "cell_type": "code",
      "source": [
        "get_recommendations_1('Cadbury Perk - Chocolate Bar')"
      ],
      "metadata": {
        "id": "92mhBH5s92Mn",
        "colab": {
          "base_uri": "https://localhost:8080/"
        },
        "outputId": "57ec58a9-590a-438f-d3cd-49e4e6c7cc76"
      },
      "execution_count": null,
      "outputs": [
        {
          "output_type": "execute_result",
          "data": {
            "text/plain": [
              "17385                                Cashew Nuts - Salted\n",
              "23126                        Nutrione - Baked Cashew Nuts\n",
              "11962    Signature Roasted & Salted Cashew/Godambi - W240\n",
              "23600                                             Cashews\n",
              "11947                               Sunflower Seeds - Raw\n",
              "8765                                     Chilli Nut Chaat\n",
              "1986                         Whole Cashew/Godambi - Jumbo\n",
              "2907                                      Cashew - Salted\n",
              "21538            Salted Party Mix - Premium International\n",
              "25887                               Broken Cashew/Godambi\n",
              "Name: product, dtype: object"
            ]
          },
          "metadata": {},
          "execution_count": 38
        }
      ]
    },
    {
      "cell_type": "markdown",
      "source": [
        "**Our search was chocolate yet we got Cashews and Nuts recommended. We need to optimize this based on category, sub_category and brand.**"
      ],
      "metadata": {
        "id": "bjI4NeeY_M-0"
      }
    },
    {
      "cell_type": "code",
      "source": [
        "prod_data1 = prod_data.copy()\n",
        "prod_data1.head()"
      ],
      "metadata": {
        "id": "R7zQ3-tP8PV2",
        "colab": {
          "base_uri": "https://localhost:8080/",
          "height": 424
        },
        "outputId": "0b38e826-40ba-47ed-e99e-ce0f1c42e590"
      },
      "execution_count": null,
      "outputs": [
        {
          "output_type": "execute_result",
          "data": {
            "text/plain": [
              "   index                                            product  \\\n",
              "0      1             Garlic Oil - Vegetarian Capsule 500 mg   \n",
              "1      2                              Water Bottle - Orange   \n",
              "2      3                     Brass Angle Deep - Plain, No.2   \n",
              "3      4  Cereal Flip Lid Container/Storage Jar - Assort...   \n",
              "4      5                 Creme Soft Soap - For Hands & Body   \n",
              "\n",
              "                 category           sub_category              brand  \\\n",
              "0        Beauty & Hygiene              Hair Care  Sri Sri Ayurveda    \n",
              "1  Kitchen, Garden & Pets  Storage & Accessories         Mastercook   \n",
              "2    Cleaning & Household            Pooja Needs                Trm   \n",
              "3    Cleaning & Household   Bins & Bathroom Ware             Nakoda   \n",
              "4        Beauty & Hygiene       Bath & Hand Wash              Nivea   \n",
              "\n",
              "   sale_price  market_price                      type  rating  \\\n",
              "0       220.0         220.0          Hair Oil & Serum     4.1   \n",
              "1       180.0         180.0    Water & Fridge Bottles     2.3   \n",
              "2       119.0         250.0           Lamp & Lamp Oil     3.4   \n",
              "3       149.0         176.0  Laundry, Storage Baskets     3.7   \n",
              "4       162.0         162.0      Bathing Bars & Soaps     4.4   \n",
              "\n",
              "                                         description   discount is_bb_brand  \n",
              "0  This Product contains Garlic Oil that is known...   0.000000      Non-BB  \n",
              "1  Each product is microwave safe (without lid), ...   0.000000      Non-BB  \n",
              "2  A perfect gift for all occasions, be it your m...  52.400000      Non-BB  \n",
              "3  Multipurpose container with an attractive desi...  15.340909      Non-BB  \n",
              "4  Nivea Creme Soft Soap gives your skin the best...   0.000000      Non-BB  "
            ],
            "text/html": [
              "\n",
              "  <div id=\"df-83179c6d-3c77-4a9f-a7b5-2f5dc8d892b2\">\n",
              "    <div class=\"colab-df-container\">\n",
              "      <div>\n",
              "<style scoped>\n",
              "    .dataframe tbody tr th:only-of-type {\n",
              "        vertical-align: middle;\n",
              "    }\n",
              "\n",
              "    .dataframe tbody tr th {\n",
              "        vertical-align: top;\n",
              "    }\n",
              "\n",
              "    .dataframe thead th {\n",
              "        text-align: right;\n",
              "    }\n",
              "</style>\n",
              "<table border=\"1\" class=\"dataframe\">\n",
              "  <thead>\n",
              "    <tr style=\"text-align: right;\">\n",
              "      <th></th>\n",
              "      <th>index</th>\n",
              "      <th>product</th>\n",
              "      <th>category</th>\n",
              "      <th>sub_category</th>\n",
              "      <th>brand</th>\n",
              "      <th>sale_price</th>\n",
              "      <th>market_price</th>\n",
              "      <th>type</th>\n",
              "      <th>rating</th>\n",
              "      <th>description</th>\n",
              "      <th>discount</th>\n",
              "      <th>is_bb_brand</th>\n",
              "    </tr>\n",
              "  </thead>\n",
              "  <tbody>\n",
              "    <tr>\n",
              "      <th>0</th>\n",
              "      <td>1</td>\n",
              "      <td>Garlic Oil - Vegetarian Capsule 500 mg</td>\n",
              "      <td>Beauty &amp; Hygiene</td>\n",
              "      <td>Hair Care</td>\n",
              "      <td>Sri Sri Ayurveda</td>\n",
              "      <td>220.0</td>\n",
              "      <td>220.0</td>\n",
              "      <td>Hair Oil &amp; Serum</td>\n",
              "      <td>4.1</td>\n",
              "      <td>This Product contains Garlic Oil that is known...</td>\n",
              "      <td>0.000000</td>\n",
              "      <td>Non-BB</td>\n",
              "    </tr>\n",
              "    <tr>\n",
              "      <th>1</th>\n",
              "      <td>2</td>\n",
              "      <td>Water Bottle - Orange</td>\n",
              "      <td>Kitchen, Garden &amp; Pets</td>\n",
              "      <td>Storage &amp; Accessories</td>\n",
              "      <td>Mastercook</td>\n",
              "      <td>180.0</td>\n",
              "      <td>180.0</td>\n",
              "      <td>Water &amp; Fridge Bottles</td>\n",
              "      <td>2.3</td>\n",
              "      <td>Each product is microwave safe (without lid), ...</td>\n",
              "      <td>0.000000</td>\n",
              "      <td>Non-BB</td>\n",
              "    </tr>\n",
              "    <tr>\n",
              "      <th>2</th>\n",
              "      <td>3</td>\n",
              "      <td>Brass Angle Deep - Plain, No.2</td>\n",
              "      <td>Cleaning &amp; Household</td>\n",
              "      <td>Pooja Needs</td>\n",
              "      <td>Trm</td>\n",
              "      <td>119.0</td>\n",
              "      <td>250.0</td>\n",
              "      <td>Lamp &amp; Lamp Oil</td>\n",
              "      <td>3.4</td>\n",
              "      <td>A perfect gift for all occasions, be it your m...</td>\n",
              "      <td>52.400000</td>\n",
              "      <td>Non-BB</td>\n",
              "    </tr>\n",
              "    <tr>\n",
              "      <th>3</th>\n",
              "      <td>4</td>\n",
              "      <td>Cereal Flip Lid Container/Storage Jar - Assort...</td>\n",
              "      <td>Cleaning &amp; Household</td>\n",
              "      <td>Bins &amp; Bathroom Ware</td>\n",
              "      <td>Nakoda</td>\n",
              "      <td>149.0</td>\n",
              "      <td>176.0</td>\n",
              "      <td>Laundry, Storage Baskets</td>\n",
              "      <td>3.7</td>\n",
              "      <td>Multipurpose container with an attractive desi...</td>\n",
              "      <td>15.340909</td>\n",
              "      <td>Non-BB</td>\n",
              "    </tr>\n",
              "    <tr>\n",
              "      <th>4</th>\n",
              "      <td>5</td>\n",
              "      <td>Creme Soft Soap - For Hands &amp; Body</td>\n",
              "      <td>Beauty &amp; Hygiene</td>\n",
              "      <td>Bath &amp; Hand Wash</td>\n",
              "      <td>Nivea</td>\n",
              "      <td>162.0</td>\n",
              "      <td>162.0</td>\n",
              "      <td>Bathing Bars &amp; Soaps</td>\n",
              "      <td>4.4</td>\n",
              "      <td>Nivea Creme Soft Soap gives your skin the best...</td>\n",
              "      <td>0.000000</td>\n",
              "      <td>Non-BB</td>\n",
              "    </tr>\n",
              "  </tbody>\n",
              "</table>\n",
              "</div>\n",
              "      <button class=\"colab-df-convert\" onclick=\"convertToInteractive('df-83179c6d-3c77-4a9f-a7b5-2f5dc8d892b2')\"\n",
              "              title=\"Convert this dataframe to an interactive table.\"\n",
              "              style=\"display:none;\">\n",
              "        \n",
              "  <svg xmlns=\"http://www.w3.org/2000/svg\" height=\"24px\"viewBox=\"0 0 24 24\"\n",
              "       width=\"24px\">\n",
              "    <path d=\"M0 0h24v24H0V0z\" fill=\"none\"/>\n",
              "    <path d=\"M18.56 5.44l.94 2.06.94-2.06 2.06-.94-2.06-.94-.94-2.06-.94 2.06-2.06.94zm-11 1L8.5 8.5l.94-2.06 2.06-.94-2.06-.94L8.5 2.5l-.94 2.06-2.06.94zm10 10l.94 2.06.94-2.06 2.06-.94-2.06-.94-.94-2.06-.94 2.06-2.06.94z\"/><path d=\"M17.41 7.96l-1.37-1.37c-.4-.4-.92-.59-1.43-.59-.52 0-1.04.2-1.43.59L10.3 9.45l-7.72 7.72c-.78.78-.78 2.05 0 2.83L4 21.41c.39.39.9.59 1.41.59.51 0 1.02-.2 1.41-.59l7.78-7.78 2.81-2.81c.8-.78.8-2.07 0-2.86zM5.41 20L4 18.59l7.72-7.72 1.47 1.35L5.41 20z\"/>\n",
              "  </svg>\n",
              "      </button>\n",
              "      \n",
              "  <style>\n",
              "    .colab-df-container {\n",
              "      display:flex;\n",
              "      flex-wrap:wrap;\n",
              "      gap: 12px;\n",
              "    }\n",
              "\n",
              "    .colab-df-convert {\n",
              "      background-color: #E8F0FE;\n",
              "      border: none;\n",
              "      border-radius: 50%;\n",
              "      cursor: pointer;\n",
              "      display: none;\n",
              "      fill: #1967D2;\n",
              "      height: 32px;\n",
              "      padding: 0 0 0 0;\n",
              "      width: 32px;\n",
              "    }\n",
              "\n",
              "    .colab-df-convert:hover {\n",
              "      background-color: #E2EBFA;\n",
              "      box-shadow: 0px 1px 2px rgba(60, 64, 67, 0.3), 0px 1px 3px 1px rgba(60, 64, 67, 0.15);\n",
              "      fill: #174EA6;\n",
              "    }\n",
              "\n",
              "    [theme=dark] .colab-df-convert {\n",
              "      background-color: #3B4455;\n",
              "      fill: #D2E3FC;\n",
              "    }\n",
              "\n",
              "    [theme=dark] .colab-df-convert:hover {\n",
              "      background-color: #434B5C;\n",
              "      box-shadow: 0px 1px 3px 1px rgba(0, 0, 0, 0.15);\n",
              "      filter: drop-shadow(0px 1px 2px rgba(0, 0, 0, 0.3));\n",
              "      fill: #FFFFFF;\n",
              "    }\n",
              "  </style>\n",
              "\n",
              "      <script>\n",
              "        const buttonEl =\n",
              "          document.querySelector('#df-83179c6d-3c77-4a9f-a7b5-2f5dc8d892b2 button.colab-df-convert');\n",
              "        buttonEl.style.display =\n",
              "          google.colab.kernel.accessAllowed ? 'block' : 'none';\n",
              "\n",
              "        async function convertToInteractive(key) {\n",
              "          const element = document.querySelector('#df-83179c6d-3c77-4a9f-a7b5-2f5dc8d892b2');\n",
              "          const dataTable =\n",
              "            await google.colab.kernel.invokeFunction('convertToInteractive',\n",
              "                                                     [key], {});\n",
              "          if (!dataTable) return;\n",
              "\n",
              "          const docLinkHtml = 'Like what you see? Visit the ' +\n",
              "            '<a target=\"_blank\" href=https://colab.research.google.com/notebooks/data_table.ipynb>data table notebook</a>'\n",
              "            + ' to learn more about interactive tables.';\n",
              "          element.innerHTML = '';\n",
              "          dataTable['output_type'] = 'display_data';\n",
              "          await google.colab.output.renderOutput(dataTable, element);\n",
              "          const docLink = document.createElement('div');\n",
              "          docLink.innerHTML = docLinkHtml;\n",
              "          element.appendChild(docLink);\n",
              "        }\n",
              "      </script>\n",
              "    </div>\n",
              "  </div>\n",
              "  "
            ]
          },
          "metadata": {},
          "execution_count": 39
        }
      ]
    },
    {
      "cell_type": "code",
      "source": [
        "prod_data1.shape"
      ],
      "metadata": {
        "id": "VkDJNs8o8PTh",
        "colab": {
          "base_uri": "https://localhost:8080/"
        },
        "outputId": "107f72f8-5cf8-4ac9-b36d-d77dc3a74019"
      },
      "execution_count": null,
      "outputs": [
        {
          "output_type": "execute_result",
          "data": {
            "text/plain": [
              "(18840, 12)"
            ]
          },
          "metadata": {},
          "execution_count": 40
        }
      ]
    },
    {
      "cell_type": "markdown",
      "source": [
        "**Notice that a product can be in multiple catergories and sub_categories and they are separated with a &. Let's split them into a list for futher processes.**"
      ],
      "metadata": {
        "id": "viZHAiSG_WHc"
      }
    },
    {
      "cell_type": "code",
      "source": [
        "rmv_spc = lambda a:a.strip()\n",
        "get_list = lambda a:list(map(rmv_spc,re.split('& |, |\\*|\\n', a)))"
      ],
      "metadata": {
        "id": "ytHT-kUm6fAY"
      },
      "execution_count": null,
      "outputs": []
    },
    {
      "cell_type": "code",
      "source": [
        "get_list('A & B, C')"
      ],
      "metadata": {
        "id": "wy5LuN8r_d5Y",
        "colab": {
          "base_uri": "https://localhost:8080/"
        },
        "outputId": "4eaf79e6-3aa7-451b-abea-4535e74a070f"
      },
      "execution_count": null,
      "outputs": [
        {
          "output_type": "execute_result",
          "data": {
            "text/plain": [
              "['A', 'B', 'C']"
            ]
          },
          "metadata": {},
          "execution_count": 42
        }
      ]
    },
    {
      "cell_type": "code",
      "source": [
        "for col in ['category', 'sub_category', 'type']:\n",
        "    prod_data1[col] = prod_data1[col].apply(get_list)"
      ],
      "metadata": {
        "id": "FDNFqnk2_d15"
      },
      "execution_count": null,
      "outputs": []
    },
    {
      "cell_type": "code",
      "source": [
        "prod_data1.head()"
      ],
      "metadata": {
        "id": "gH9FkuJ5_dzu",
        "colab": {
          "base_uri": "https://localhost:8080/",
          "height": 424
        },
        "outputId": "033874b1-9657-47dd-c07c-fc4b8e53b1e4"
      },
      "execution_count": null,
      "outputs": [
        {
          "output_type": "execute_result",
          "data": {
            "text/plain": [
              "   index                                            product  \\\n",
              "0      1             Garlic Oil - Vegetarian Capsule 500 mg   \n",
              "1      2                              Water Bottle - Orange   \n",
              "2      3                     Brass Angle Deep - Plain, No.2   \n",
              "3      4  Cereal Flip Lid Container/Storage Jar - Assort...   \n",
              "4      5                 Creme Soft Soap - For Hands & Body   \n",
              "\n",
              "                  category            sub_category              brand  \\\n",
              "0        [Beauty, Hygiene]             [Hair Care]  Sri Sri Ayurveda    \n",
              "1  [Kitchen, Garden, Pets]  [Storage, Accessories]         Mastercook   \n",
              "2    [Cleaning, Household]           [Pooja Needs]                Trm   \n",
              "3    [Cleaning, Household]   [Bins, Bathroom Ware]             Nakoda   \n",
              "4        [Beauty, Hygiene]       [Bath, Hand Wash]              Nivea   \n",
              "\n",
              "   sale_price  market_price                        type  rating  \\\n",
              "0       220.0         220.0           [Hair Oil, Serum]     4.1   \n",
              "1       180.0         180.0     [Water, Fridge Bottles]     2.3   \n",
              "2       119.0         250.0            [Lamp, Lamp Oil]     3.4   \n",
              "3       149.0         176.0  [Laundry, Storage Baskets]     3.7   \n",
              "4       162.0         162.0       [Bathing Bars, Soaps]     4.4   \n",
              "\n",
              "                                         description   discount is_bb_brand  \n",
              "0  This Product contains Garlic Oil that is known...   0.000000      Non-BB  \n",
              "1  Each product is microwave safe (without lid), ...   0.000000      Non-BB  \n",
              "2  A perfect gift for all occasions, be it your m...  52.400000      Non-BB  \n",
              "3  Multipurpose container with an attractive desi...  15.340909      Non-BB  \n",
              "4  Nivea Creme Soft Soap gives your skin the best...   0.000000      Non-BB  "
            ],
            "text/html": [
              "\n",
              "  <div id=\"df-e23f3a44-d4e2-4deb-878e-bdf89ecfeb0e\">\n",
              "    <div class=\"colab-df-container\">\n",
              "      <div>\n",
              "<style scoped>\n",
              "    .dataframe tbody tr th:only-of-type {\n",
              "        vertical-align: middle;\n",
              "    }\n",
              "\n",
              "    .dataframe tbody tr th {\n",
              "        vertical-align: top;\n",
              "    }\n",
              "\n",
              "    .dataframe thead th {\n",
              "        text-align: right;\n",
              "    }\n",
              "</style>\n",
              "<table border=\"1\" class=\"dataframe\">\n",
              "  <thead>\n",
              "    <tr style=\"text-align: right;\">\n",
              "      <th></th>\n",
              "      <th>index</th>\n",
              "      <th>product</th>\n",
              "      <th>category</th>\n",
              "      <th>sub_category</th>\n",
              "      <th>brand</th>\n",
              "      <th>sale_price</th>\n",
              "      <th>market_price</th>\n",
              "      <th>type</th>\n",
              "      <th>rating</th>\n",
              "      <th>description</th>\n",
              "      <th>discount</th>\n",
              "      <th>is_bb_brand</th>\n",
              "    </tr>\n",
              "  </thead>\n",
              "  <tbody>\n",
              "    <tr>\n",
              "      <th>0</th>\n",
              "      <td>1</td>\n",
              "      <td>Garlic Oil - Vegetarian Capsule 500 mg</td>\n",
              "      <td>[Beauty, Hygiene]</td>\n",
              "      <td>[Hair Care]</td>\n",
              "      <td>Sri Sri Ayurveda</td>\n",
              "      <td>220.0</td>\n",
              "      <td>220.0</td>\n",
              "      <td>[Hair Oil, Serum]</td>\n",
              "      <td>4.1</td>\n",
              "      <td>This Product contains Garlic Oil that is known...</td>\n",
              "      <td>0.000000</td>\n",
              "      <td>Non-BB</td>\n",
              "    </tr>\n",
              "    <tr>\n",
              "      <th>1</th>\n",
              "      <td>2</td>\n",
              "      <td>Water Bottle - Orange</td>\n",
              "      <td>[Kitchen, Garden, Pets]</td>\n",
              "      <td>[Storage, Accessories]</td>\n",
              "      <td>Mastercook</td>\n",
              "      <td>180.0</td>\n",
              "      <td>180.0</td>\n",
              "      <td>[Water, Fridge Bottles]</td>\n",
              "      <td>2.3</td>\n",
              "      <td>Each product is microwave safe (without lid), ...</td>\n",
              "      <td>0.000000</td>\n",
              "      <td>Non-BB</td>\n",
              "    </tr>\n",
              "    <tr>\n",
              "      <th>2</th>\n",
              "      <td>3</td>\n",
              "      <td>Brass Angle Deep - Plain, No.2</td>\n",
              "      <td>[Cleaning, Household]</td>\n",
              "      <td>[Pooja Needs]</td>\n",
              "      <td>Trm</td>\n",
              "      <td>119.0</td>\n",
              "      <td>250.0</td>\n",
              "      <td>[Lamp, Lamp Oil]</td>\n",
              "      <td>3.4</td>\n",
              "      <td>A perfect gift for all occasions, be it your m...</td>\n",
              "      <td>52.400000</td>\n",
              "      <td>Non-BB</td>\n",
              "    </tr>\n",
              "    <tr>\n",
              "      <th>3</th>\n",
              "      <td>4</td>\n",
              "      <td>Cereal Flip Lid Container/Storage Jar - Assort...</td>\n",
              "      <td>[Cleaning, Household]</td>\n",
              "      <td>[Bins, Bathroom Ware]</td>\n",
              "      <td>Nakoda</td>\n",
              "      <td>149.0</td>\n",
              "      <td>176.0</td>\n",
              "      <td>[Laundry, Storage Baskets]</td>\n",
              "      <td>3.7</td>\n",
              "      <td>Multipurpose container with an attractive desi...</td>\n",
              "      <td>15.340909</td>\n",
              "      <td>Non-BB</td>\n",
              "    </tr>\n",
              "    <tr>\n",
              "      <th>4</th>\n",
              "      <td>5</td>\n",
              "      <td>Creme Soft Soap - For Hands &amp; Body</td>\n",
              "      <td>[Beauty, Hygiene]</td>\n",
              "      <td>[Bath, Hand Wash]</td>\n",
              "      <td>Nivea</td>\n",
              "      <td>162.0</td>\n",
              "      <td>162.0</td>\n",
              "      <td>[Bathing Bars, Soaps]</td>\n",
              "      <td>4.4</td>\n",
              "      <td>Nivea Creme Soft Soap gives your skin the best...</td>\n",
              "      <td>0.000000</td>\n",
              "      <td>Non-BB</td>\n",
              "    </tr>\n",
              "  </tbody>\n",
              "</table>\n",
              "</div>\n",
              "      <button class=\"colab-df-convert\" onclick=\"convertToInteractive('df-e23f3a44-d4e2-4deb-878e-bdf89ecfeb0e')\"\n",
              "              title=\"Convert this dataframe to an interactive table.\"\n",
              "              style=\"display:none;\">\n",
              "        \n",
              "  <svg xmlns=\"http://www.w3.org/2000/svg\" height=\"24px\"viewBox=\"0 0 24 24\"\n",
              "       width=\"24px\">\n",
              "    <path d=\"M0 0h24v24H0V0z\" fill=\"none\"/>\n",
              "    <path d=\"M18.56 5.44l.94 2.06.94-2.06 2.06-.94-2.06-.94-.94-2.06-.94 2.06-2.06.94zm-11 1L8.5 8.5l.94-2.06 2.06-.94-2.06-.94L8.5 2.5l-.94 2.06-2.06.94zm10 10l.94 2.06.94-2.06 2.06-.94-2.06-.94-.94-2.06-.94 2.06-2.06.94z\"/><path d=\"M17.41 7.96l-1.37-1.37c-.4-.4-.92-.59-1.43-.59-.52 0-1.04.2-1.43.59L10.3 9.45l-7.72 7.72c-.78.78-.78 2.05 0 2.83L4 21.41c.39.39.9.59 1.41.59.51 0 1.02-.2 1.41-.59l7.78-7.78 2.81-2.81c.8-.78.8-2.07 0-2.86zM5.41 20L4 18.59l7.72-7.72 1.47 1.35L5.41 20z\"/>\n",
              "  </svg>\n",
              "      </button>\n",
              "      \n",
              "  <style>\n",
              "    .colab-df-container {\n",
              "      display:flex;\n",
              "      flex-wrap:wrap;\n",
              "      gap: 12px;\n",
              "    }\n",
              "\n",
              "    .colab-df-convert {\n",
              "      background-color: #E8F0FE;\n",
              "      border: none;\n",
              "      border-radius: 50%;\n",
              "      cursor: pointer;\n",
              "      display: none;\n",
              "      fill: #1967D2;\n",
              "      height: 32px;\n",
              "      padding: 0 0 0 0;\n",
              "      width: 32px;\n",
              "    }\n",
              "\n",
              "    .colab-df-convert:hover {\n",
              "      background-color: #E2EBFA;\n",
              "      box-shadow: 0px 1px 2px rgba(60, 64, 67, 0.3), 0px 1px 3px 1px rgba(60, 64, 67, 0.15);\n",
              "      fill: #174EA6;\n",
              "    }\n",
              "\n",
              "    [theme=dark] .colab-df-convert {\n",
              "      background-color: #3B4455;\n",
              "      fill: #D2E3FC;\n",
              "    }\n",
              "\n",
              "    [theme=dark] .colab-df-convert:hover {\n",
              "      background-color: #434B5C;\n",
              "      box-shadow: 0px 1px 3px 1px rgba(0, 0, 0, 0.15);\n",
              "      filter: drop-shadow(0px 1px 2px rgba(0, 0, 0, 0.3));\n",
              "      fill: #FFFFFF;\n",
              "    }\n",
              "  </style>\n",
              "\n",
              "      <script>\n",
              "        const buttonEl =\n",
              "          document.querySelector('#df-e23f3a44-d4e2-4deb-878e-bdf89ecfeb0e button.colab-df-convert');\n",
              "        buttonEl.style.display =\n",
              "          google.colab.kernel.accessAllowed ? 'block' : 'none';\n",
              "\n",
              "        async function convertToInteractive(key) {\n",
              "          const element = document.querySelector('#df-e23f3a44-d4e2-4deb-878e-bdf89ecfeb0e');\n",
              "          const dataTable =\n",
              "            await google.colab.kernel.invokeFunction('convertToInteractive',\n",
              "                                                     [key], {});\n",
              "          if (!dataTable) return;\n",
              "\n",
              "          const docLinkHtml = 'Like what you see? Visit the ' +\n",
              "            '<a target=\"_blank\" href=https://colab.research.google.com/notebooks/data_table.ipynb>data table notebook</a>'\n",
              "            + ' to learn more about interactive tables.';\n",
              "          element.innerHTML = '';\n",
              "          dataTable['output_type'] = 'display_data';\n",
              "          await google.colab.output.renderOutput(dataTable, element);\n",
              "          const docLink = document.createElement('div');\n",
              "          docLink.innerHTML = docLinkHtml;\n",
              "          element.appendChild(docLink);\n",
              "        }\n",
              "      </script>\n",
              "    </div>\n",
              "  </div>\n",
              "  "
            ]
          },
          "metadata": {},
          "execution_count": 44
        }
      ]
    },
    {
      "cell_type": "markdown",
      "source": [
        "**To avoid duplicacy, we will be converting everything to lowercase and also removing spaces between words. This will ensure that our recommendor doesn't consider Chocolate of Cholocate IceCream and Chocolate Bar as the same.**"
      ],
      "metadata": {
        "id": "fPLMpw_O_qR_"
      }
    },
    {
      "cell_type": "code",
      "source": [
        "def cleaner(x):\n",
        "    if isinstance(x, list):\n",
        "        return [str.lower(i.replace(\" \", \"\")) for i in x]\n",
        "    else:\n",
        "        if isinstance(x, str):\n",
        "            return str.lower(x.replace(\" \", \"\"))\n",
        "        else:\n",
        "            return ''"
      ],
      "metadata": {
        "id": "IlQ4qxWc_dxD"
      },
      "execution_count": null,
      "outputs": []
    },
    {
      "cell_type": "code",
      "source": [
        "for col in ['category', 'sub_category', 'type','brand']:\n",
        "    prod_data1[col] = prod_data1[col].apply(cleaner)"
      ],
      "metadata": {
        "id": "MTlQur4X_dub"
      },
      "execution_count": null,
      "outputs": []
    },
    {
      "cell_type": "code",
      "source": [
        "def couple(x):\n",
        "    return ' '.join(x['category']) + ' ' + ' '.join(x['sub_category']) + ' '+x['brand']+' ' +' '.join( x['type'])\n",
        "prod_data1['soup'] = prod_data1.apply(couple, axis=1)"
      ],
      "metadata": {
        "id": "7CRsgLUp_dsH"
      },
      "execution_count": null,
      "outputs": []
    },
    {
      "cell_type": "code",
      "source": [
        "prod_data1['soup'].head()"
      ],
      "metadata": {
        "id": "Hv4queKU_dp8",
        "colab": {
          "base_uri": "https://localhost:8080/"
        },
        "outputId": "d8f50e19-7bbd-4e73-845f-1cb578df7f63"
      },
      "execution_count": null,
      "outputs": [
        {
          "output_type": "execute_result",
          "data": {
            "text/plain": [
              "0    beauty hygiene haircare srisriayurveda hairoil...\n",
              "1    kitchen garden pets storage accessories master...\n",
              "2       cleaning household poojaneeds trm lamp lampoil\n",
              "3    cleaning household bins bathroomware nakoda la...\n",
              "4    beauty hygiene bath handwash nivea bathingbars...\n",
              "Name: soup, dtype: object"
            ]
          },
          "metadata": {},
          "execution_count": 48
        }
      ]
    },
    {
      "cell_type": "code",
      "source": [
        "prod_data1.to_csv('data_cleaned_1.csv')"
      ],
      "metadata": {
        "id": "P5eykNTn_72D"
      },
      "execution_count": null,
      "outputs": []
    },
    {
      "cell_type": "code",
      "source": [
        "count = CountVectorizer(stop_words='english')\n",
        "count_matrix = count.fit_transform(prod_data1['soup'])"
      ],
      "metadata": {
        "id": "7mBjUHOl_7yi"
      },
      "execution_count": null,
      "outputs": []
    },
    {
      "cell_type": "markdown",
      "source": [
        "**We need to Count the String Vectors and then compute the Cosine Similarity Score**"
      ],
      "metadata": {
        "id": "NXDvcjDPAB8h"
      }
    },
    {
      "cell_type": "code",
      "source": [
        "cosine_sim2 = cosine_similarity(count_matrix, count_matrix)\n",
        "cosine_sim2"
      ],
      "metadata": {
        "id": "09TOWCpXABU_",
        "colab": {
          "base_uri": "https://localhost:8080/"
        },
        "outputId": "213873b7-d381-4e46-9f8e-c57bf9dc4ab7"
      },
      "execution_count": null,
      "outputs": [
        {
          "output_type": "execute_result",
          "data": {
            "text/plain": [
              "array([[1.        , 0.        , 0.        , ..., 0.        , 0.        ,\n",
              "        0.27216553],\n",
              "       [0.        , 1.        , 0.        , ..., 0.        , 0.        ,\n",
              "        0.        ],\n",
              "       [0.        , 0.        , 1.        , ..., 0.        , 0.        ,\n",
              "        0.        ],\n",
              "       ...,\n",
              "       [0.        , 0.        , 0.        , ..., 1.        , 0.        ,\n",
              "        0.        ],\n",
              "       [0.        , 0.        , 0.        , ..., 0.        , 1.        ,\n",
              "        0.        ],\n",
              "       [0.27216553, 0.        , 0.        , ..., 0.        , 0.        ,\n",
              "        1.        ]])"
            ]
          },
          "metadata": {},
          "execution_count": 51
        }
      ]
    },
    {
      "cell_type": "markdown",
      "source": [
        "**Cosine Similarity Documentation**"
      ],
      "metadata": {
        "id": "iTqxxEXpAV2l"
      }
    },
    {
      "cell_type": "code",
      "source": [
        "def get_recommendations_2(title, cosine_sim=cosine_sim):\n",
        "    idx = indices[title]\n",
        "\n",
        "    sim_scores = list(enumerate(cosine_sim[idx]))\n",
        "\n",
        "    sim_scores = sorted(sim_scores, key=lambda x: x[1], reverse=True)\n",
        "\n",
        "    sim_scores = sim_scores[1:11]\n",
        "\n",
        "    movie_indices = [i[0] for i in sim_scores]\n",
        "\n",
        "    return prod_data['product'].iloc[movie_indices]"
      ],
      "metadata": {
        "id": "MS-y-B4rABRZ"
      },
      "execution_count": null,
      "outputs": []
    },
    {
      "cell_type": "markdown",
      "source": [
        "**Comparing Old and New Recommedations**"
      ],
      "metadata": {
        "id": "W8kJu6w7Ad8A"
      }
    },
    {
      "cell_type": "code",
      "source": [
        "old_rec = get_recommendations_1('Cadbury Perk - Chocolate Bar').values\n",
        "new_rec = get_recommendations_2('Cadbury Perk - Chocolate Bar', cosine_sim2).values\n",
        "\n",
        "pd.DataFrame({'Old Recommendor': old_rec,'New Recommendor':new_rec})"
      ],
      "metadata": {
        "id": "VHZc0JZRABPM",
        "colab": {
          "base_uri": "https://localhost:8080/",
          "height": 363
        },
        "outputId": "e66d1107-5053-4eba-dc59-2b78e86c5cb3"
      },
      "execution_count": null,
      "outputs": [
        {
          "output_type": "execute_result",
          "data": {
            "text/plain": [
              "                                    Old Recommendor          New Recommendor\n",
              "0                              Cashew Nuts - Salted               Bhujia Sev\n",
              "1                      Nutrione - Baked Cashew Nuts     Namkeen - Bhujia Sev\n",
              "2  Signature Roasted & Salted Cashew/Godambi - W240   Namkeen - Chatpata Dal\n",
              "3                                           Cashews                 Moorkulu\n",
              "4                             Sunflower Seeds - Raw  Namkeen - Masala Peanut\n",
              "5                                  Chilli Nut Chaat              Soya Sticks\n",
              "6                      Whole Cashew/Godambi - Jumbo     Namkeen - Tasty Nuts\n",
              "7                                   Cashew - Salted     Mixture - Cornflakes\n",
              "8          Salted Party Mix - Premium International    Namkeen - Aloo Bhujia\n",
              "9                             Broken Cashew/Godambi     Namkeen - Bhujia Sev"
            ],
            "text/html": [
              "\n",
              "  <div id=\"df-0ea35370-611a-487a-9e6a-b72e22deb131\">\n",
              "    <div class=\"colab-df-container\">\n",
              "      <div>\n",
              "<style scoped>\n",
              "    .dataframe tbody tr th:only-of-type {\n",
              "        vertical-align: middle;\n",
              "    }\n",
              "\n",
              "    .dataframe tbody tr th {\n",
              "        vertical-align: top;\n",
              "    }\n",
              "\n",
              "    .dataframe thead th {\n",
              "        text-align: right;\n",
              "    }\n",
              "</style>\n",
              "<table border=\"1\" class=\"dataframe\">\n",
              "  <thead>\n",
              "    <tr style=\"text-align: right;\">\n",
              "      <th></th>\n",
              "      <th>Old Recommendor</th>\n",
              "      <th>New Recommendor</th>\n",
              "    </tr>\n",
              "  </thead>\n",
              "  <tbody>\n",
              "    <tr>\n",
              "      <th>0</th>\n",
              "      <td>Cashew Nuts - Salted</td>\n",
              "      <td>Bhujia Sev</td>\n",
              "    </tr>\n",
              "    <tr>\n",
              "      <th>1</th>\n",
              "      <td>Nutrione - Baked Cashew Nuts</td>\n",
              "      <td>Namkeen - Bhujia Sev</td>\n",
              "    </tr>\n",
              "    <tr>\n",
              "      <th>2</th>\n",
              "      <td>Signature Roasted &amp; Salted Cashew/Godambi - W240</td>\n",
              "      <td>Namkeen - Chatpata Dal</td>\n",
              "    </tr>\n",
              "    <tr>\n",
              "      <th>3</th>\n",
              "      <td>Cashews</td>\n",
              "      <td>Moorkulu</td>\n",
              "    </tr>\n",
              "    <tr>\n",
              "      <th>4</th>\n",
              "      <td>Sunflower Seeds - Raw</td>\n",
              "      <td>Namkeen - Masala Peanut</td>\n",
              "    </tr>\n",
              "    <tr>\n",
              "      <th>5</th>\n",
              "      <td>Chilli Nut Chaat</td>\n",
              "      <td>Soya Sticks</td>\n",
              "    </tr>\n",
              "    <tr>\n",
              "      <th>6</th>\n",
              "      <td>Whole Cashew/Godambi - Jumbo</td>\n",
              "      <td>Namkeen - Tasty Nuts</td>\n",
              "    </tr>\n",
              "    <tr>\n",
              "      <th>7</th>\n",
              "      <td>Cashew - Salted</td>\n",
              "      <td>Mixture - Cornflakes</td>\n",
              "    </tr>\n",
              "    <tr>\n",
              "      <th>8</th>\n",
              "      <td>Salted Party Mix - Premium International</td>\n",
              "      <td>Namkeen - Aloo Bhujia</td>\n",
              "    </tr>\n",
              "    <tr>\n",
              "      <th>9</th>\n",
              "      <td>Broken Cashew/Godambi</td>\n",
              "      <td>Namkeen - Bhujia Sev</td>\n",
              "    </tr>\n",
              "  </tbody>\n",
              "</table>\n",
              "</div>\n",
              "      <button class=\"colab-df-convert\" onclick=\"convertToInteractive('df-0ea35370-611a-487a-9e6a-b72e22deb131')\"\n",
              "              title=\"Convert this dataframe to an interactive table.\"\n",
              "              style=\"display:none;\">\n",
              "        \n",
              "  <svg xmlns=\"http://www.w3.org/2000/svg\" height=\"24px\"viewBox=\"0 0 24 24\"\n",
              "       width=\"24px\">\n",
              "    <path d=\"M0 0h24v24H0V0z\" fill=\"none\"/>\n",
              "    <path d=\"M18.56 5.44l.94 2.06.94-2.06 2.06-.94-2.06-.94-.94-2.06-.94 2.06-2.06.94zm-11 1L8.5 8.5l.94-2.06 2.06-.94-2.06-.94L8.5 2.5l-.94 2.06-2.06.94zm10 10l.94 2.06.94-2.06 2.06-.94-2.06-.94-.94-2.06-.94 2.06-2.06.94z\"/><path d=\"M17.41 7.96l-1.37-1.37c-.4-.4-.92-.59-1.43-.59-.52 0-1.04.2-1.43.59L10.3 9.45l-7.72 7.72c-.78.78-.78 2.05 0 2.83L4 21.41c.39.39.9.59 1.41.59.51 0 1.02-.2 1.41-.59l7.78-7.78 2.81-2.81c.8-.78.8-2.07 0-2.86zM5.41 20L4 18.59l7.72-7.72 1.47 1.35L5.41 20z\"/>\n",
              "  </svg>\n",
              "      </button>\n",
              "      \n",
              "  <style>\n",
              "    .colab-df-container {\n",
              "      display:flex;\n",
              "      flex-wrap:wrap;\n",
              "      gap: 12px;\n",
              "    }\n",
              "\n",
              "    .colab-df-convert {\n",
              "      background-color: #E8F0FE;\n",
              "      border: none;\n",
              "      border-radius: 50%;\n",
              "      cursor: pointer;\n",
              "      display: none;\n",
              "      fill: #1967D2;\n",
              "      height: 32px;\n",
              "      padding: 0 0 0 0;\n",
              "      width: 32px;\n",
              "    }\n",
              "\n",
              "    .colab-df-convert:hover {\n",
              "      background-color: #E2EBFA;\n",
              "      box-shadow: 0px 1px 2px rgba(60, 64, 67, 0.3), 0px 1px 3px 1px rgba(60, 64, 67, 0.15);\n",
              "      fill: #174EA6;\n",
              "    }\n",
              "\n",
              "    [theme=dark] .colab-df-convert {\n",
              "      background-color: #3B4455;\n",
              "      fill: #D2E3FC;\n",
              "    }\n",
              "\n",
              "    [theme=dark] .colab-df-convert:hover {\n",
              "      background-color: #434B5C;\n",
              "      box-shadow: 0px 1px 3px 1px rgba(0, 0, 0, 0.15);\n",
              "      filter: drop-shadow(0px 1px 2px rgba(0, 0, 0, 0.3));\n",
              "      fill: #FFFFFF;\n",
              "    }\n",
              "  </style>\n",
              "\n",
              "      <script>\n",
              "        const buttonEl =\n",
              "          document.querySelector('#df-0ea35370-611a-487a-9e6a-b72e22deb131 button.colab-df-convert');\n",
              "        buttonEl.style.display =\n",
              "          google.colab.kernel.accessAllowed ? 'block' : 'none';\n",
              "\n",
              "        async function convertToInteractive(key) {\n",
              "          const element = document.querySelector('#df-0ea35370-611a-487a-9e6a-b72e22deb131');\n",
              "          const dataTable =\n",
              "            await google.colab.kernel.invokeFunction('convertToInteractive',\n",
              "                                                     [key], {});\n",
              "          if (!dataTable) return;\n",
              "\n",
              "          const docLinkHtml = 'Like what you see? Visit the ' +\n",
              "            '<a target=\"_blank\" href=https://colab.research.google.com/notebooks/data_table.ipynb>data table notebook</a>'\n",
              "            + ' to learn more about interactive tables.';\n",
              "          element.innerHTML = '';\n",
              "          dataTable['output_type'] = 'display_data';\n",
              "          await google.colab.output.renderOutput(dataTable, element);\n",
              "          const docLink = document.createElement('div');\n",
              "          docLink.innerHTML = docLinkHtml;\n",
              "          element.appendChild(docLink);\n",
              "        }\n",
              "      </script>\n",
              "    </div>\n",
              "  </div>\n",
              "  "
            ]
          },
          "metadata": {},
          "execution_count": 53
        }
      ]
    },
    {
      "cell_type": "code",
      "source": [
        "#water bottle\n",
        "old_rec = get_recommendations_1('Water Bottle - Orange').values\n",
        "new_rec = get_recommendations_2('Water Bottle - Orange', cosine_sim2).values\n",
        "\n",
        "pd.DataFrame({'Old Recommendor': old_rec,'New Recommendor':new_rec})"
      ],
      "metadata": {
        "colab": {
          "base_uri": "https://localhost:8080/",
          "height": 363
        },
        "id": "taGdTtH4BVIr",
        "outputId": "af1c0025-07fd-4b5d-91a5-2b245595c89c"
      },
      "execution_count": null,
      "outputs": [
        {
          "output_type": "execute_result",
          "data": {
            "text/plain": [
              "                                     Old Recommendor  \\\n",
              "0  Rectangular Plastic Container - With Lid, Mult...   \n",
              "1                             Jar - With Lid, Yellow   \n",
              "2   Round & Flat Storage Container - With lid, Green   \n",
              "3  Premium Rectangular Plastic Container With Lid...   \n",
              "4  Premium Round Plastic Container With Lid - Yellow   \n",
              "5  Premium Rectangular Plastic Container With Lid...   \n",
              "6  Premium Round & Flat Storage Container With Li...   \n",
              "7    Premium Round Plastic Container With Lid - Blue   \n",
              "8  Premium Round Plastic Container With Lid - Mul...   \n",
              "9    Premium Round Plastic Container With Lid - Pink   \n",
              "\n",
              "                                     New Recommendor  \n",
              "0        Glass Water Bottle - Aquaria Organic Purple  \n",
              "1  Glass Water Bottle With Round Base - Transpare...  \n",
              "2                H2O Unbreakable Water Bottle - Pink  \n",
              "3                            Water Bottle H2O Purple  \n",
              "4               H2O Unbreakable Water Bottle - Green  \n",
              "5   Regel Tritan Plastic Sports Water Bottle - Black  \n",
              "6            Apsara 1 Water Bottle - Assorted Colour  \n",
              "7  Glass Water Bottle With Round Base - Yellow, B...  \n",
              "8  Trendy Stainless Steel Bottle With Steel Cap -...  \n",
              "9  Penta Plastic Pet Water Bottle - Violet, Wide ...  "
            ],
            "text/html": [
              "\n",
              "  <div id=\"df-05d655d9-7794-4d8e-a10f-1d2c687afb67\">\n",
              "    <div class=\"colab-df-container\">\n",
              "      <div>\n",
              "<style scoped>\n",
              "    .dataframe tbody tr th:only-of-type {\n",
              "        vertical-align: middle;\n",
              "    }\n",
              "\n",
              "    .dataframe tbody tr th {\n",
              "        vertical-align: top;\n",
              "    }\n",
              "\n",
              "    .dataframe thead th {\n",
              "        text-align: right;\n",
              "    }\n",
              "</style>\n",
              "<table border=\"1\" class=\"dataframe\">\n",
              "  <thead>\n",
              "    <tr style=\"text-align: right;\">\n",
              "      <th></th>\n",
              "      <th>Old Recommendor</th>\n",
              "      <th>New Recommendor</th>\n",
              "    </tr>\n",
              "  </thead>\n",
              "  <tbody>\n",
              "    <tr>\n",
              "      <th>0</th>\n",
              "      <td>Rectangular Plastic Container - With Lid, Mult...</td>\n",
              "      <td>Glass Water Bottle - Aquaria Organic Purple</td>\n",
              "    </tr>\n",
              "    <tr>\n",
              "      <th>1</th>\n",
              "      <td>Jar - With Lid, Yellow</td>\n",
              "      <td>Glass Water Bottle With Round Base - Transpare...</td>\n",
              "    </tr>\n",
              "    <tr>\n",
              "      <th>2</th>\n",
              "      <td>Round &amp; Flat Storage Container - With lid, Green</td>\n",
              "      <td>H2O Unbreakable Water Bottle - Pink</td>\n",
              "    </tr>\n",
              "    <tr>\n",
              "      <th>3</th>\n",
              "      <td>Premium Rectangular Plastic Container With Lid...</td>\n",
              "      <td>Water Bottle H2O Purple</td>\n",
              "    </tr>\n",
              "    <tr>\n",
              "      <th>4</th>\n",
              "      <td>Premium Round Plastic Container With Lid - Yellow</td>\n",
              "      <td>H2O Unbreakable Water Bottle - Green</td>\n",
              "    </tr>\n",
              "    <tr>\n",
              "      <th>5</th>\n",
              "      <td>Premium Rectangular Plastic Container With Lid...</td>\n",
              "      <td>Regel Tritan Plastic Sports Water Bottle - Black</td>\n",
              "    </tr>\n",
              "    <tr>\n",
              "      <th>6</th>\n",
              "      <td>Premium Round &amp; Flat Storage Container With Li...</td>\n",
              "      <td>Apsara 1 Water Bottle - Assorted Colour</td>\n",
              "    </tr>\n",
              "    <tr>\n",
              "      <th>7</th>\n",
              "      <td>Premium Round Plastic Container With Lid - Blue</td>\n",
              "      <td>Glass Water Bottle With Round Base - Yellow, B...</td>\n",
              "    </tr>\n",
              "    <tr>\n",
              "      <th>8</th>\n",
              "      <td>Premium Round Plastic Container With Lid - Mul...</td>\n",
              "      <td>Trendy Stainless Steel Bottle With Steel Cap -...</td>\n",
              "    </tr>\n",
              "    <tr>\n",
              "      <th>9</th>\n",
              "      <td>Premium Round Plastic Container With Lid - Pink</td>\n",
              "      <td>Penta Plastic Pet Water Bottle - Violet, Wide ...</td>\n",
              "    </tr>\n",
              "  </tbody>\n",
              "</table>\n",
              "</div>\n",
              "      <button class=\"colab-df-convert\" onclick=\"convertToInteractive('df-05d655d9-7794-4d8e-a10f-1d2c687afb67')\"\n",
              "              title=\"Convert this dataframe to an interactive table.\"\n",
              "              style=\"display:none;\">\n",
              "        \n",
              "  <svg xmlns=\"http://www.w3.org/2000/svg\" height=\"24px\"viewBox=\"0 0 24 24\"\n",
              "       width=\"24px\">\n",
              "    <path d=\"M0 0h24v24H0V0z\" fill=\"none\"/>\n",
              "    <path d=\"M18.56 5.44l.94 2.06.94-2.06 2.06-.94-2.06-.94-.94-2.06-.94 2.06-2.06.94zm-11 1L8.5 8.5l.94-2.06 2.06-.94-2.06-.94L8.5 2.5l-.94 2.06-2.06.94zm10 10l.94 2.06.94-2.06 2.06-.94-2.06-.94-.94-2.06-.94 2.06-2.06.94z\"/><path d=\"M17.41 7.96l-1.37-1.37c-.4-.4-.92-.59-1.43-.59-.52 0-1.04.2-1.43.59L10.3 9.45l-7.72 7.72c-.78.78-.78 2.05 0 2.83L4 21.41c.39.39.9.59 1.41.59.51 0 1.02-.2 1.41-.59l7.78-7.78 2.81-2.81c.8-.78.8-2.07 0-2.86zM5.41 20L4 18.59l7.72-7.72 1.47 1.35L5.41 20z\"/>\n",
              "  </svg>\n",
              "      </button>\n",
              "      \n",
              "  <style>\n",
              "    .colab-df-container {\n",
              "      display:flex;\n",
              "      flex-wrap:wrap;\n",
              "      gap: 12px;\n",
              "    }\n",
              "\n",
              "    .colab-df-convert {\n",
              "      background-color: #E8F0FE;\n",
              "      border: none;\n",
              "      border-radius: 50%;\n",
              "      cursor: pointer;\n",
              "      display: none;\n",
              "      fill: #1967D2;\n",
              "      height: 32px;\n",
              "      padding: 0 0 0 0;\n",
              "      width: 32px;\n",
              "    }\n",
              "\n",
              "    .colab-df-convert:hover {\n",
              "      background-color: #E2EBFA;\n",
              "      box-shadow: 0px 1px 2px rgba(60, 64, 67, 0.3), 0px 1px 3px 1px rgba(60, 64, 67, 0.15);\n",
              "      fill: #174EA6;\n",
              "    }\n",
              "\n",
              "    [theme=dark] .colab-df-convert {\n",
              "      background-color: #3B4455;\n",
              "      fill: #D2E3FC;\n",
              "    }\n",
              "\n",
              "    [theme=dark] .colab-df-convert:hover {\n",
              "      background-color: #434B5C;\n",
              "      box-shadow: 0px 1px 3px 1px rgba(0, 0, 0, 0.15);\n",
              "      filter: drop-shadow(0px 1px 2px rgba(0, 0, 0, 0.3));\n",
              "      fill: #FFFFFF;\n",
              "    }\n",
              "  </style>\n",
              "\n",
              "      <script>\n",
              "        const buttonEl =\n",
              "          document.querySelector('#df-05d655d9-7794-4d8e-a10f-1d2c687afb67 button.colab-df-convert');\n",
              "        buttonEl.style.display =\n",
              "          google.colab.kernel.accessAllowed ? 'block' : 'none';\n",
              "\n",
              "        async function convertToInteractive(key) {\n",
              "          const element = document.querySelector('#df-05d655d9-7794-4d8e-a10f-1d2c687afb67');\n",
              "          const dataTable =\n",
              "            await google.colab.kernel.invokeFunction('convertToInteractive',\n",
              "                                                     [key], {});\n",
              "          if (!dataTable) return;\n",
              "\n",
              "          const docLinkHtml = 'Like what you see? Visit the ' +\n",
              "            '<a target=\"_blank\" href=https://colab.research.google.com/notebooks/data_table.ipynb>data table notebook</a>'\n",
              "            + ' to learn more about interactive tables.';\n",
              "          element.innerHTML = '';\n",
              "          dataTable['output_type'] = 'display_data';\n",
              "          await google.colab.output.renderOutput(dataTable, element);\n",
              "          const docLink = document.createElement('div');\n",
              "          docLink.innerHTML = docLinkHtml;\n",
              "          element.appendChild(docLink);\n",
              "        }\n",
              "      </script>\n",
              "    </div>\n",
              "  </div>\n",
              "  "
            ]
          },
          "metadata": {},
          "execution_count": 54
        }
      ]
    },
    {
      "cell_type": "markdown",
      "metadata": {
        "id": "_bDH2ZOUawsW"
      },
      "source": [
        "missing layer"
      ]
    },
    {
      "cell_type": "code",
      "execution_count": null,
      "metadata": {
        "id": "cQTkmXlLazMk",
        "colab": {
          "base_uri": "https://localhost:8080/"
        },
        "outputId": "40a39644-fb42-4b1c-8ba0-d4ca59b84dcc"
      },
      "outputs": [
        {
          "output_type": "execute_result",
          "data": {
            "text/plain": [
              "index           0\n",
              "product         0\n",
              "category        0\n",
              "sub_category    0\n",
              "brand           0\n",
              "sale_price      0\n",
              "market_price    0\n",
              "type            0\n",
              "rating          0\n",
              "description     0\n",
              "discount        0\n",
              "is_bb_brand     0\n",
              "dtype: int64"
            ]
          },
          "metadata": {},
          "execution_count": 55
        }
      ],
      "source": [
        "prod_data.isnull().sum()"
      ]
    },
    {
      "cell_type": "code",
      "execution_count": null,
      "metadata": {
        "id": "5J_JHPYhehIg"
      },
      "outputs": [],
      "source": [
        "a = np.log(prod_data.sale_price)\n",
        "prod_data[\"a\"] = a"
      ]
    },
    {
      "cell_type": "code",
      "execution_count": null,
      "metadata": {
        "id": "vqbxMJPXeDO4"
      },
      "outputs": [],
      "source": [
        "prod_data.drop([\"description\",\"a\"],axis = 1,inplace=True)"
      ]
    },
    {
      "cell_type": "code",
      "execution_count": null,
      "metadata": {
        "id": "JZLLN-lGeDI5"
      },
      "outputs": [],
      "source": [
        "logSale = np.log(prod_data.sale_price)"
      ]
    },
    {
      "cell_type": "code",
      "execution_count": null,
      "metadata": {
        "id": "ewJcIzhbeDAP"
      },
      "outputs": [],
      "source": [
        "prod_data.sale_price = logSale"
      ]
    },
    {
      "cell_type": "code",
      "execution_count": null,
      "metadata": {
        "id": "3yb2SwtWeHdq",
        "colab": {
          "base_uri": "https://localhost:8080/",
          "height": 525
        },
        "outputId": "b7313596-430a-41e4-fb94-4abcd56ae84a"
      },
      "outputs": [
        {
          "output_type": "execute_result",
          "data": {
            "text/plain": [
              "<AxesSubplot:xlabel='sale_price', ylabel='Count'>"
            ]
          },
          "metadata": {},
          "execution_count": 60
        },
        {
          "output_type": "display_data",
          "data": {
            "text/plain": [
              "<Figure size 864x576 with 1 Axes>"
            ],
            "image/png": "[encoded data removed]"
          },
          "metadata": {
            "needs_background": "light"
          }
        }
      ],
      "source": [
        "plt.figure(figsize=(12,8))\n",
        "sns.histplot(data=prod_data,x = \"sale_price\",palette = \"rocket\",kde=True)"
      ]
    },
    {
      "cell_type": "code",
      "execution_count": null,
      "metadata": {
        "id": "AUqJvxGdbV8M",
        "colab": {
          "base_uri": "https://localhost:8080/"
        },
        "outputId": "889f540c-6197-45d3-902a-7eb493e064ee"
      },
      "outputs": [
        {
          "output_type": "stream",
          "name": "stdout",
          "text": [
            "Median:  4.1 \n",
            "Mode:  4.2 \n",
            "Mean :  3.9430626326963902\n"
          ]
        }
      ],
      "source": [
        "print(\"Median: \",prod_data.rating.median(),\"\\nMode: \",prod_data.rating.mode()[0],\"\\nMean : \",prod_data.rating.mean())"
      ]
    },
    {
      "cell_type": "code",
      "execution_count": null,
      "metadata": {
        "id": "LTKIyyd3bf8a"
      },
      "outputs": [],
      "source": [
        "prod_data[\"rating\"].fillna(prod_data.rating.median(),inplace=True)"
      ]
    },
    {
      "cell_type": "code",
      "execution_count": null,
      "metadata": {
        "id": "HeYpWk7Rbl6o",
        "colab": {
          "base_uri": "https://localhost:8080/"
        },
        "outputId": "f5ca4d51-4388-49b4-cebf-1d96fd97e23a"
      },
      "outputs": [
        {
          "output_type": "execute_result",
          "data": {
            "text/plain": [
              "18840"
            ]
          },
          "metadata": {},
          "execution_count": 63
        }
      ],
      "source": [
        "prod_data[\"product\"].count()"
      ]
    },
    {
      "cell_type": "code",
      "source": [],
      "metadata": {
        "id": "OvRUK7KKnoPs"
      },
      "execution_count": null,
      "outputs": []
    },
    {
      "cell_type": "code",
      "execution_count": null,
      "metadata": {
        "id": "LB35bT_1bl3P",
        "colab": {
          "base_uri": "https://localhost:8080/"
        },
        "outputId": "79451245-861b-4968-9b3c-900be169c07c"
      },
      "outputs": [
        {
          "output_type": "execute_result",
          "data": {
            "text/plain": [
              "Turmeric Powder/Arisina Pudi                                                                   23\n",
              "Soft Drink                                                                                     12\n",
              "Cow Ghee/Tuppa                                                                                 11\n",
              "Ghee/Tuppa                                                                                     11\n",
              "Powder - Coriander                                                                             10\n",
              "                                                                                               ..\n",
              "Bio Sandalwood Lotion - 50 Spf Sunscreen For All Skin Types In The Sun Very Water Resistant     1\n",
              "Tortoise Plate                                                                                  1\n",
              "Moroccan Argan Oil Ultra Nourishing Body Lotion                                                 1\n",
              "Ultimate Desire For Women                                                                       1\n",
              "Green Tea - Pure Original                                                                       1\n",
              "Name: product, Length: 16217, dtype: int64"
            ]
          },
          "metadata": {},
          "execution_count": 64
        }
      ],
      "source": [
        "prod_data[\"product\"].value_counts()"
      ]
    },
    {
      "cell_type": "code",
      "execution_count": null,
      "metadata": {
        "id": "s1LkVdAxbl1c"
      },
      "outputs": [],
      "source": [
        "prod_data[\"product\"].value_counts()\n",
        "\n",
        "a = prod_data[\"product\"].value_counts().apply(lambda x : x == 1)"
      ]
    },
    {
      "cell_type": "code",
      "execution_count": null,
      "metadata": {
        "id": "8WMJiwu3blzZ"
      },
      "outputs": [],
      "source": [
        "count = 0\n",
        "for i in a:\n",
        "    if i == True:\n",
        "        count += 1"
      ]
    },
    {
      "cell_type": "code",
      "execution_count": null,
      "metadata": {
        "id": "nP17002qcAlB",
        "colab": {
          "base_uri": "https://localhost:8080/"
        },
        "outputId": "dc11ef3b-06b1-4b34-f622-bb6f5fae23bc"
      },
      "outputs": [
        {
          "output_type": "execute_result",
          "data": {
            "text/plain": [
              "14293"
            ]
          },
          "metadata": {},
          "execution_count": 67
        }
      ],
      "source": [
        "count"
      ]
    },
    {
      "cell_type": "code",
      "execution_count": null,
      "metadata": {
        "id": "DNG9V2H3cAiD"
      },
      "outputs": [],
      "source": [
        "prod_data.drop(\"product\",axis = 1,inplace = True)"
      ]
    },
    {
      "cell_type": "code",
      "execution_count": null,
      "metadata": {
        "id": "aSiNNnUQcyj0",
        "colab": {
          "base_uri": "https://localhost:8080/"
        },
        "outputId": "3d693689-46ab-44d5-f0f8-bda8c3fc0b9f"
      },
      "outputs": [
        {
          "output_type": "execute_result",
          "data": {
            "text/plain": [
              "9.746508018623901"
            ]
          },
          "metadata": {},
          "execution_count": 69
        }
      ],
      "source": [
        "prod_data.brand.value_counts()\n",
        "prod_data.brand.value_counts().mean()"
      ]
    },
    {
      "cell_type": "code",
      "execution_count": null,
      "metadata": {
        "id": "7c6TznDqcyem",
        "colab": {
          "base_uri": "https://localhost:8080/"
        },
        "outputId": "c4729f67-4cbe-42d2-c658-891e09dab367"
      },
      "outputs": [
        {
          "output_type": "execute_result",
          "data": {
            "text/plain": [
              "5.10594547390058"
            ]
          },
          "metadata": {},
          "execution_count": 70
        }
      ],
      "source": [
        "prod_data.sale_price.value_counts()\n",
        "prod_data.sale_price.median()"
      ]
    },
    {
      "cell_type": "code",
      "execution_count": null,
      "metadata": {
        "id": "Oq0cc1gccyY7"
      },
      "outputs": [],
      "source": [
        "prod_data.drop(\"brand\",axis = 1,inplace = True)"
      ]
    },
    {
      "cell_type": "code",
      "execution_count": null,
      "metadata": {
        "id": "4-2Do4fqcyVM",
        "colab": {
          "base_uri": "https://localhost:8080/",
          "height": 206
        },
        "outputId": "2235d3cf-7317-4445-d746-c00ab665cdae"
      },
      "outputs": [
        {
          "output_type": "execute_result",
          "data": {
            "text/plain": [
              "   index                category           sub_category  sale_price  \\\n",
              "0      1        Beauty & Hygiene              Hair Care    5.393628   \n",
              "1      2  Kitchen, Garden & Pets  Storage & Accessories    5.192957   \n",
              "2      3    Cleaning & Household            Pooja Needs    4.779123   \n",
              "3      4    Cleaning & Household   Bins & Bathroom Ware    5.003946   \n",
              "4      5        Beauty & Hygiene       Bath & Hand Wash    5.087596   \n",
              "\n",
              "   market_price                      type  rating   discount is_bb_brand  \n",
              "0         220.0          Hair Oil & Serum     4.1   0.000000      Non-BB  \n",
              "1         180.0    Water & Fridge Bottles     2.3   0.000000      Non-BB  \n",
              "2         250.0           Lamp & Lamp Oil     3.4  52.400000      Non-BB  \n",
              "3         176.0  Laundry, Storage Baskets     3.7  15.340909      Non-BB  \n",
              "4         162.0      Bathing Bars & Soaps     4.4   0.000000      Non-BB  "
            ],
            "text/html": [
              "\n",
              "  <div id=\"df-a097f54f-7ce1-47f3-8e47-7d9d7631878c\">\n",
              "    <div class=\"colab-df-container\">\n",
              "      <div>\n",
              "<style scoped>\n",
              "    .dataframe tbody tr th:only-of-type {\n",
              "        vertical-align: middle;\n",
              "    }\n",
              "\n",
              "    .dataframe tbody tr th {\n",
              "        vertical-align: top;\n",
              "    }\n",
              "\n",
              "    .dataframe thead th {\n",
              "        text-align: right;\n",
              "    }\n",
              "</style>\n",
              "<table border=\"1\" class=\"dataframe\">\n",
              "  <thead>\n",
              "    <tr style=\"text-align: right;\">\n",
              "      <th></th>\n",
              "      <th>index</th>\n",
              "      <th>category</th>\n",
              "      <th>sub_category</th>\n",
              "      <th>sale_price</th>\n",
              "      <th>market_price</th>\n",
              "      <th>type</th>\n",
              "      <th>rating</th>\n",
              "      <th>discount</th>\n",
              "      <th>is_bb_brand</th>\n",
              "    </tr>\n",
              "  </thead>\n",
              "  <tbody>\n",
              "    <tr>\n",
              "      <th>0</th>\n",
              "      <td>1</td>\n",
              "      <td>Beauty &amp; Hygiene</td>\n",
              "      <td>Hair Care</td>\n",
              "      <td>5.393628</td>\n",
              "      <td>220.0</td>\n",
              "      <td>Hair Oil &amp; Serum</td>\n",
              "      <td>4.1</td>\n",
              "      <td>0.000000</td>\n",
              "      <td>Non-BB</td>\n",
              "    </tr>\n",
              "    <tr>\n",
              "      <th>1</th>\n",
              "      <td>2</td>\n",
              "      <td>Kitchen, Garden &amp; Pets</td>\n",
              "      <td>Storage &amp; Accessories</td>\n",
              "      <td>5.192957</td>\n",
              "      <td>180.0</td>\n",
              "      <td>Water &amp; Fridge Bottles</td>\n",
              "      <td>2.3</td>\n",
              "      <td>0.000000</td>\n",
              "      <td>Non-BB</td>\n",
              "    </tr>\n",
              "    <tr>\n",
              "      <th>2</th>\n",
              "      <td>3</td>\n",
              "      <td>Cleaning &amp; Household</td>\n",
              "      <td>Pooja Needs</td>\n",
              "      <td>4.779123</td>\n",
              "      <td>250.0</td>\n",
              "      <td>Lamp &amp; Lamp Oil</td>\n",
              "      <td>3.4</td>\n",
              "      <td>52.400000</td>\n",
              "      <td>Non-BB</td>\n",
              "    </tr>\n",
              "    <tr>\n",
              "      <th>3</th>\n",
              "      <td>4</td>\n",
              "      <td>Cleaning &amp; Household</td>\n",
              "      <td>Bins &amp; Bathroom Ware</td>\n",
              "      <td>5.003946</td>\n",
              "      <td>176.0</td>\n",
              "      <td>Laundry, Storage Baskets</td>\n",
              "      <td>3.7</td>\n",
              "      <td>15.340909</td>\n",
              "      <td>Non-BB</td>\n",
              "    </tr>\n",
              "    <tr>\n",
              "      <th>4</th>\n",
              "      <td>5</td>\n",
              "      <td>Beauty &amp; Hygiene</td>\n",
              "      <td>Bath &amp; Hand Wash</td>\n",
              "      <td>5.087596</td>\n",
              "      <td>162.0</td>\n",
              "      <td>Bathing Bars &amp; Soaps</td>\n",
              "      <td>4.4</td>\n",
              "      <td>0.000000</td>\n",
              "      <td>Non-BB</td>\n",
              "    </tr>\n",
              "  </tbody>\n",
              "</table>\n",
              "</div>\n",
              "      <button class=\"colab-df-convert\" onclick=\"convertToInteractive('df-a097f54f-7ce1-47f3-8e47-7d9d7631878c')\"\n",
              "              title=\"Convert this dataframe to an interactive table.\"\n",
              "              style=\"display:none;\">\n",
              "        \n",
              "  <svg xmlns=\"http://www.w3.org/2000/svg\" height=\"24px\"viewBox=\"0 0 24 24\"\n",
              "       width=\"24px\">\n",
              "    <path d=\"M0 0h24v24H0V0z\" fill=\"none\"/>\n",
              "    <path d=\"M18.56 5.44l.94 2.06.94-2.06 2.06-.94-2.06-.94-.94-2.06-.94 2.06-2.06.94zm-11 1L8.5 8.5l.94-2.06 2.06-.94-2.06-.94L8.5 2.5l-.94 2.06-2.06.94zm10 10l.94 2.06.94-2.06 2.06-.94-2.06-.94-.94-2.06-.94 2.06-2.06.94z\"/><path d=\"M17.41 7.96l-1.37-1.37c-.4-.4-.92-.59-1.43-.59-.52 0-1.04.2-1.43.59L10.3 9.45l-7.72 7.72c-.78.78-.78 2.05 0 2.83L4 21.41c.39.39.9.59 1.41.59.51 0 1.02-.2 1.41-.59l7.78-7.78 2.81-2.81c.8-.78.8-2.07 0-2.86zM5.41 20L4 18.59l7.72-7.72 1.47 1.35L5.41 20z\"/>\n",
              "  </svg>\n",
              "      </button>\n",
              "      \n",
              "  <style>\n",
              "    .colab-df-container {\n",
              "      display:flex;\n",
              "      flex-wrap:wrap;\n",
              "      gap: 12px;\n",
              "    }\n",
              "\n",
              "    .colab-df-convert {\n",
              "      background-color: #E8F0FE;\n",
              "      border: none;\n",
              "      border-radius: 50%;\n",
              "      cursor: pointer;\n",
              "      display: none;\n",
              "      fill: #1967D2;\n",
              "      height: 32px;\n",
              "      padding: 0 0 0 0;\n",
              "      width: 32px;\n",
              "    }\n",
              "\n",
              "    .colab-df-convert:hover {\n",
              "      background-color: #E2EBFA;\n",
              "      box-shadow: 0px 1px 2px rgba(60, 64, 67, 0.3), 0px 1px 3px 1px rgba(60, 64, 67, 0.15);\n",
              "      fill: #174EA6;\n",
              "    }\n",
              "\n",
              "    [theme=dark] .colab-df-convert {\n",
              "      background-color: #3B4455;\n",
              "      fill: #D2E3FC;\n",
              "    }\n",
              "\n",
              "    [theme=dark] .colab-df-convert:hover {\n",
              "      background-color: #434B5C;\n",
              "      box-shadow: 0px 1px 3px 1px rgba(0, 0, 0, 0.15);\n",
              "      filter: drop-shadow(0px 1px 2px rgba(0, 0, 0, 0.3));\n",
              "      fill: #FFFFFF;\n",
              "    }\n",
              "  </style>\n",
              "\n",
              "      <script>\n",
              "        const buttonEl =\n",
              "          document.querySelector('#df-a097f54f-7ce1-47f3-8e47-7d9d7631878c button.colab-df-convert');\n",
              "        buttonEl.style.display =\n",
              "          google.colab.kernel.accessAllowed ? 'block' : 'none';\n",
              "\n",
              "        async function convertToInteractive(key) {\n",
              "          const element = document.querySelector('#df-a097f54f-7ce1-47f3-8e47-7d9d7631878c');\n",
              "          const dataTable =\n",
              "            await google.colab.kernel.invokeFunction('convertToInteractive',\n",
              "                                                     [key], {});\n",
              "          if (!dataTable) return;\n",
              "\n",
              "          const docLinkHtml = 'Like what you see? Visit the ' +\n",
              "            '<a target=\"_blank\" href=https://colab.research.google.com/notebooks/data_table.ipynb>data table notebook</a>'\n",
              "            + ' to learn more about interactive tables.';\n",
              "          element.innerHTML = '';\n",
              "          dataTable['output_type'] = 'display_data';\n",
              "          await google.colab.output.renderOutput(dataTable, element);\n",
              "          const docLink = document.createElement('div');\n",
              "          docLink.innerHTML = docLinkHtml;\n",
              "          element.appendChild(docLink);\n",
              "        }\n",
              "      </script>\n",
              "    </div>\n",
              "  </div>\n",
              "  "
            ]
          },
          "metadata": {},
          "execution_count": 73
        }
      ],
      "source": [
        "prod_data.head()"
      ]
    },
    {
      "cell_type": "code",
      "execution_count": null,
      "metadata": {
        "id": "GHdRNho6P0RX",
        "colab": {
          "base_uri": "https://localhost:8080/"
        },
        "outputId": "9653283c-ab87-482e-ec32-bd005c17fee2"
      },
      "outputs": [
        {
          "output_type": "execute_result",
          "data": {
            "text/plain": [
              "index           0\n",
              "category        0\n",
              "sub_category    0\n",
              "sale_price      0\n",
              "market_price    0\n",
              "type            0\n",
              "rating          0\n",
              "discount        0\n",
              "is_bb_brand     0\n",
              "dtype: int64"
            ]
          },
          "metadata": {},
          "execution_count": 74
        }
      ],
      "source": [
        "prod_data.isnull().sum()"
      ]
    },
    {
      "cell_type": "code",
      "execution_count": null,
      "metadata": {
        "id": "PYfjo5PJP0Iy",
        "colab": {
          "base_uri": "https://localhost:8080/"
        },
        "outputId": "ee936574-77c5-4a30-ed56-15588e4dd586"
      },
      "outputs": [
        {
          "output_type": "execute_result",
          "data": {
            "text/plain": [
              "Face Care                 1094\n",
              "Men's Deodorants           404\n",
              "Shampoo & Conditioner      390\n",
              "Blended Masalas            343\n",
              "Containers Sets            332\n",
              "                          ... \n",
              "Health Supplements           1\n",
              "Bagels & Baguette            1\n",
              "Gift Wraps & Bags            1\n",
              "Gourmet Tea & Tea Bags       1\n",
              "Gourmet Popcorn              1\n",
              "Name: type, Length: 358, dtype: int64"
            ]
          },
          "metadata": {},
          "execution_count": 75
        }
      ],
      "source": [
        "prod_data.type.value_counts()\n"
      ]
    },
    {
      "cell_type": "code",
      "execution_count": null,
      "metadata": {
        "id": "5Bf1J2_tP0GN"
      },
      "outputs": [],
      "source": [
        "prod_data.drop(\"type\",axis = 1,inplace=True)"
      ]
    },
    {
      "cell_type": "code",
      "source": [
        "prod_data.drop(\"is_bb_brand\",axis = 1,inplace=True)"
      ],
      "metadata": {
        "id": "Vgx5U40CFW7Y"
      },
      "execution_count": null,
      "outputs": []
    },
    {
      "cell_type": "code",
      "execution_count": null,
      "metadata": {
        "id": "6wDKFbjCP0Cw"
      },
      "outputs": [],
      "source": [
        "prod_data = prod_data.drop(prod_data[prod_data[\"market_price\"]>1200].index)"
      ]
    },
    {
      "cell_type": "code",
      "source": [
        "prod_data.head()"
      ],
      "metadata": {
        "id": "KDbEXKaVFRW9",
        "colab": {
          "base_uri": "https://localhost:8080/",
          "height": 206
        },
        "outputId": "4b4d5d95-4a6b-49c1-b0b7-532b104c10bd"
      },
      "execution_count": null,
      "outputs": [
        {
          "output_type": "execute_result",
          "data": {
            "text/plain": [
              "   index                category           sub_category  sale_price  \\\n",
              "0      1        Beauty & Hygiene              Hair Care    5.393628   \n",
              "1      2  Kitchen, Garden & Pets  Storage & Accessories    5.192957   \n",
              "2      3    Cleaning & Household            Pooja Needs    4.779123   \n",
              "3      4    Cleaning & Household   Bins & Bathroom Ware    5.003946   \n",
              "4      5        Beauty & Hygiene       Bath & Hand Wash    5.087596   \n",
              "\n",
              "   market_price  rating   discount  \n",
              "0         220.0     4.1   0.000000  \n",
              "1         180.0     2.3   0.000000  \n",
              "2         250.0     3.4  52.400000  \n",
              "3         176.0     3.7  15.340909  \n",
              "4         162.0     4.4   0.000000  "
            ],
            "text/html": [
              "\n",
              "  <div id=\"df-2fe41733-f68b-40c0-aa50-df606e3efc63\">\n",
              "    <div class=\"colab-df-container\">\n",
              "      <div>\n",
              "<style scoped>\n",
              "    .dataframe tbody tr th:only-of-type {\n",
              "        vertical-align: middle;\n",
              "    }\n",
              "\n",
              "    .dataframe tbody tr th {\n",
              "        vertical-align: top;\n",
              "    }\n",
              "\n",
              "    .dataframe thead th {\n",
              "        text-align: right;\n",
              "    }\n",
              "</style>\n",
              "<table border=\"1\" class=\"dataframe\">\n",
              "  <thead>\n",
              "    <tr style=\"text-align: right;\">\n",
              "      <th></th>\n",
              "      <th>index</th>\n",
              "      <th>category</th>\n",
              "      <th>sub_category</th>\n",
              "      <th>sale_price</th>\n",
              "      <th>market_price</th>\n",
              "      <th>rating</th>\n",
              "      <th>discount</th>\n",
              "    </tr>\n",
              "  </thead>\n",
              "  <tbody>\n",
              "    <tr>\n",
              "      <th>0</th>\n",
              "      <td>1</td>\n",
              "      <td>Beauty &amp; Hygiene</td>\n",
              "      <td>Hair Care</td>\n",
              "      <td>5.393628</td>\n",
              "      <td>220.0</td>\n",
              "      <td>4.1</td>\n",
              "      <td>0.000000</td>\n",
              "    </tr>\n",
              "    <tr>\n",
              "      <th>1</th>\n",
              "      <td>2</td>\n",
              "      <td>Kitchen, Garden &amp; Pets</td>\n",
              "      <td>Storage &amp; Accessories</td>\n",
              "      <td>5.192957</td>\n",
              "      <td>180.0</td>\n",
              "      <td>2.3</td>\n",
              "      <td>0.000000</td>\n",
              "    </tr>\n",
              "    <tr>\n",
              "      <th>2</th>\n",
              "      <td>3</td>\n",
              "      <td>Cleaning &amp; Household</td>\n",
              "      <td>Pooja Needs</td>\n",
              "      <td>4.779123</td>\n",
              "      <td>250.0</td>\n",
              "      <td>3.4</td>\n",
              "      <td>52.400000</td>\n",
              "    </tr>\n",
              "    <tr>\n",
              "      <th>3</th>\n",
              "      <td>4</td>\n",
              "      <td>Cleaning &amp; Household</td>\n",
              "      <td>Bins &amp; Bathroom Ware</td>\n",
              "      <td>5.003946</td>\n",
              "      <td>176.0</td>\n",
              "      <td>3.7</td>\n",
              "      <td>15.340909</td>\n",
              "    </tr>\n",
              "    <tr>\n",
              "      <th>4</th>\n",
              "      <td>5</td>\n",
              "      <td>Beauty &amp; Hygiene</td>\n",
              "      <td>Bath &amp; Hand Wash</td>\n",
              "      <td>5.087596</td>\n",
              "      <td>162.0</td>\n",
              "      <td>4.4</td>\n",
              "      <td>0.000000</td>\n",
              "    </tr>\n",
              "  </tbody>\n",
              "</table>\n",
              "</div>\n",
              "      <button class=\"colab-df-convert\" onclick=\"convertToInteractive('df-2fe41733-f68b-40c0-aa50-df606e3efc63')\"\n",
              "              title=\"Convert this dataframe to an interactive table.\"\n",
              "              style=\"display:none;\">\n",
              "        \n",
              "  <svg xmlns=\"http://www.w3.org/2000/svg\" height=\"24px\"viewBox=\"0 0 24 24\"\n",
              "       width=\"24px\">\n",
              "    <path d=\"M0 0h24v24H0V0z\" fill=\"none\"/>\n",
              "    <path d=\"M18.56 5.44l.94 2.06.94-2.06 2.06-.94-2.06-.94-.94-2.06-.94 2.06-2.06.94zm-11 1L8.5 8.5l.94-2.06 2.06-.94-2.06-.94L8.5 2.5l-.94 2.06-2.06.94zm10 10l.94 2.06.94-2.06 2.06-.94-2.06-.94-.94-2.06-.94 2.06-2.06.94z\"/><path d=\"M17.41 7.96l-1.37-1.37c-.4-.4-.92-.59-1.43-.59-.52 0-1.04.2-1.43.59L10.3 9.45l-7.72 7.72c-.78.78-.78 2.05 0 2.83L4 21.41c.39.39.9.59 1.41.59.51 0 1.02-.2 1.41-.59l7.78-7.78 2.81-2.81c.8-.78.8-2.07 0-2.86zM5.41 20L4 18.59l7.72-7.72 1.47 1.35L5.41 20z\"/>\n",
              "  </svg>\n",
              "      </button>\n",
              "      \n",
              "  <style>\n",
              "    .colab-df-container {\n",
              "      display:flex;\n",
              "      flex-wrap:wrap;\n",
              "      gap: 12px;\n",
              "    }\n",
              "\n",
              "    .colab-df-convert {\n",
              "      background-color: #E8F0FE;\n",
              "      border: none;\n",
              "      border-radius: 50%;\n",
              "      cursor: pointer;\n",
              "      display: none;\n",
              "      fill: #1967D2;\n",
              "      height: 32px;\n",
              "      padding: 0 0 0 0;\n",
              "      width: 32px;\n",
              "    }\n",
              "\n",
              "    .colab-df-convert:hover {\n",
              "      background-color: #E2EBFA;\n",
              "      box-shadow: 0px 1px 2px rgba(60, 64, 67, 0.3), 0px 1px 3px 1px rgba(60, 64, 67, 0.15);\n",
              "      fill: #174EA6;\n",
              "    }\n",
              "\n",
              "    [theme=dark] .colab-df-convert {\n",
              "      background-color: #3B4455;\n",
              "      fill: #D2E3FC;\n",
              "    }\n",
              "\n",
              "    [theme=dark] .colab-df-convert:hover {\n",
              "      background-color: #434B5C;\n",
              "      box-shadow: 0px 1px 3px 1px rgba(0, 0, 0, 0.15);\n",
              "      filter: drop-shadow(0px 1px 2px rgba(0, 0, 0, 0.3));\n",
              "      fill: #FFFFFF;\n",
              "    }\n",
              "  </style>\n",
              "\n",
              "      <script>\n",
              "        const buttonEl =\n",
              "          document.querySelector('#df-2fe41733-f68b-40c0-aa50-df606e3efc63 button.colab-df-convert');\n",
              "        buttonEl.style.display =\n",
              "          google.colab.kernel.accessAllowed ? 'block' : 'none';\n",
              "\n",
              "        async function convertToInteractive(key) {\n",
              "          const element = document.querySelector('#df-2fe41733-f68b-40c0-aa50-df606e3efc63');\n",
              "          const dataTable =\n",
              "            await google.colab.kernel.invokeFunction('convertToInteractive',\n",
              "                                                     [key], {});\n",
              "          if (!dataTable) return;\n",
              "\n",
              "          const docLinkHtml = 'Like what you see? Visit the ' +\n",
              "            '<a target=\"_blank\" href=https://colab.research.google.com/notebooks/data_table.ipynb>data table notebook</a>'\n",
              "            + ' to learn more about interactive tables.';\n",
              "          element.innerHTML = '';\n",
              "          dataTable['output_type'] = 'display_data';\n",
              "          await google.colab.output.renderOutput(dataTable, element);\n",
              "          const docLink = document.createElement('div');\n",
              "          docLink.innerHTML = docLinkHtml;\n",
              "          element.appendChild(docLink);\n",
              "        }\n",
              "      </script>\n",
              "    </div>\n",
              "  </div>\n",
              "  "
            ]
          },
          "metadata": {},
          "execution_count": 79
        }
      ]
    },
    {
      "cell_type": "code",
      "execution_count": null,
      "metadata": {
        "id": "rmV8iqspPz7A",
        "colab": {
          "base_uri": "https://localhost:8080/"
        },
        "outputId": "713dc240-5264-4c34-9ad8-d1115c88f027"
      },
      "outputs": [
        {
          "output_type": "execute_result",
          "data": {
            "text/plain": [
              "index           0\n",
              "category        0\n",
              "sub_category    0\n",
              "sale_price      0\n",
              "market_price    0\n",
              "rating          0\n",
              "discount        0\n",
              "dtype: int64"
            ]
          },
          "metadata": {},
          "execution_count": 80
        }
      ],
      "source": [
        "prod_data.isnull().sum()"
      ]
    },
    {
      "cell_type": "code",
      "execution_count": null,
      "metadata": {
        "id": "3yYDuDAbPzt8",
        "colab": {
          "base_uri": "https://localhost:8080/"
        },
        "outputId": "da69d3fc-7c88-40fb-8b97-e68d6821fd51"
      },
      "outputs": [
        {
          "output_type": "stream",
          "name": "stdout",
          "text": [
            "                 index  sale_price  market_price    rating  discount\n",
            "index         1.000000    0.004074      0.001949  0.003367 -0.004500\n",
            "sale_price    0.004074    1.000000      0.851241 -0.096469  0.098258\n",
            "market_price  0.001949    0.851241      1.000000 -0.108649  0.265636\n",
            "rating        0.003367   -0.096469     -0.108649  1.000000 -0.054741\n",
            "discount     -0.004500    0.098258      0.265636 -0.054741  1.000000\n"
          ]
        }
      ],
      "source": [
        "correlation = prod_data.corr()\n",
        "print(correlation)"
      ]
    },
    {
      "cell_type": "code",
      "execution_count": null,
      "metadata": {
        "id": "aW86E7SkQ68E"
      },
      "outputs": [],
      "source": [
        "from sklearn.preprocessing import MinMaxScaler"
      ]
    },
    {
      "cell_type": "code",
      "execution_count": null,
      "metadata": {
        "id": "BigOVaTbQ64o"
      },
      "outputs": [],
      "source": [
        "prod_data1 = prod_data.copy()\n",
        "colums = prod_data.columns\n",
        "prod_data1 = pd.get_dummies(prod_data1,columns=[\"category\",\"sub_category\"],drop_first=True)\n"
      ]
    },
    {
      "cell_type": "code",
      "execution_count": null,
      "metadata": {
        "id": "h_ZEpThmQ61b",
        "colab": {
          "base_uri": "https://localhost:8080/",
          "height": 505
        },
        "outputId": "8a5f2f96-565d-4eb3-97fa-adc3123e92c4"
      },
      "outputs": [
        {
          "output_type": "execute_result",
          "data": {
            "text/plain": [
              "       index  market_price  rating   discount  category_Bakery, Cakes & Dairy  \\\n",
              "0          1         220.0     4.1   0.000000                               0   \n",
              "1          2         180.0     2.3   0.000000                               0   \n",
              "2          3         250.0     3.4  52.400000                               0   \n",
              "3          4         176.0     3.7  15.340909                               0   \n",
              "4          5         162.0     4.4   0.000000                               0   \n",
              "...      ...           ...     ...        ...                             ...   \n",
              "27550  27551         249.0     3.9  20.000000                               0   \n",
              "27551  27552          75.0     4.0  10.000000                               0   \n",
              "27552  27553         200.0     3.8   0.000000                               0   \n",
              "27553  27554         495.0     4.2  20.000000                               0   \n",
              "27554  27555         390.0     4.5  44.992308                               0   \n",
              "\n",
              "       category_Beauty & Hygiene  category_Beverages  \\\n",
              "0                              1                   0   \n",
              "1                              0                   0   \n",
              "2                              0                   0   \n",
              "3                              0                   0   \n",
              "4                              1                   0   \n",
              "...                          ...                 ...   \n",
              "27550                          1                   0   \n",
              "27551                          0                   0   \n",
              "27552                          0                   0   \n",
              "27553                          0                   1   \n",
              "27554                          1                   0   \n",
              "\n",
              "       category_Cleaning & Household  category_Foodgrains, Oil & Masala  \\\n",
              "0                                  0                                  0   \n",
              "1                                  0                                  0   \n",
              "2                                  1                                  0   \n",
              "3                                  1                                  0   \n",
              "4                                  0                                  0   \n",
              "...                              ...                                ...   \n",
              "27550                              0                                  0   \n",
              "27551                              0                                  0   \n",
              "27552                              0                                  0   \n",
              "27553                              0                                  0   \n",
              "27554                              0                                  0   \n",
              "\n",
              "       category_Gourmet & World Food  ...  sub_category_Skin Care  \\\n",
              "0                                  0  ...                       0   \n",
              "1                                  0  ...                       0   \n",
              "2                                  0  ...                       0   \n",
              "3                                  0  ...                       0   \n",
              "4                                  0  ...                       0   \n",
              "...                              ...  ...                     ...   \n",
              "27550                              0  ...                       0   \n",
              "27551                              1  ...                       0   \n",
              "27552                              1  ...                       0   \n",
              "27553                              0  ...                       0   \n",
              "27554                              0  ...                       0   \n",
              "\n",
              "       sub_category_Snacks & Namkeen  sub_category_Snacks, Dry Fruits, Nuts  \\\n",
              "0                                  0                                      0   \n",
              "1                                  0                                      0   \n",
              "2                                  0                                      0   \n",
              "3                                  0                                      0   \n",
              "4                                  0                                      0   \n",
              "...                              ...                                    ...   \n",
              "27550                              0                                      0   \n",
              "27551                              0                                      0   \n",
              "27552                              0                                      1   \n",
              "27553                              0                                      0   \n",
              "27554                              0                                      0   \n",
              "\n",
              "       sub_category_Spreads, Sauces, Ketchup  sub_category_Stationery  \\\n",
              "0                                          0                        0   \n",
              "1                                          0                        0   \n",
              "2                                          0                        0   \n",
              "3                                          0                        0   \n",
              "4                                          0                        0   \n",
              "...                                      ...                      ...   \n",
              "27550                                      0                        0   \n",
              "27551                                      0                        0   \n",
              "27552                                      0                        0   \n",
              "27553                                      0                        0   \n",
              "27554                                      0                        0   \n",
              "\n",
              "       sub_category_Steel Utensils  sub_category_Storage & Accessories  \\\n",
              "0                                0                                   0   \n",
              "1                                0                                   1   \n",
              "2                                0                                   0   \n",
              "3                                0                                   0   \n",
              "4                                0                                   0   \n",
              "...                            ...                                 ...   \n",
              "27550                            0                                   0   \n",
              "27551                            0                                   0   \n",
              "27552                            0                                   0   \n",
              "27553                            0                                   0   \n",
              "27554                            0                                   0   \n",
              "\n",
              "       sub_category_Tea  sub_category_Tinned & Processed Food  \\\n",
              "0                     0                                     0   \n",
              "1                     0                                     0   \n",
              "2                     0                                     0   \n",
              "3                     0                                     0   \n",
              "4                     0                                     0   \n",
              "...                 ...                                   ...   \n",
              "27550                 0                                     0   \n",
              "27551                 0                                     0   \n",
              "27552                 0                                     0   \n",
              "27553                 1                                     0   \n",
              "27554                 0                                     0   \n",
              "\n",
              "       sub_category_Water  \n",
              "0                       0  \n",
              "1                       0  \n",
              "2                       0  \n",
              "3                       0  \n",
              "4                       0  \n",
              "...                   ...  \n",
              "27550                   0  \n",
              "27551                   0  \n",
              "27552                   0  \n",
              "27553                   0  \n",
              "27554                   0  \n",
              "\n",
              "[18175 rows x 88 columns]"
            ],
            "text/html": [
              "\n",
              "  <div id=\"df-5f50ee7f-471d-478c-8424-db0aa368ae5d\">\n",
              "    <div class=\"colab-df-container\">\n",
              "      <div>\n",
              "<style scoped>\n",
              "    .dataframe tbody tr th:only-of-type {\n",
              "        vertical-align: middle;\n",
              "    }\n",
              "\n",
              "    .dataframe tbody tr th {\n",
              "        vertical-align: top;\n",
              "    }\n",
              "\n",
              "    .dataframe thead th {\n",
              "        text-align: right;\n",
              "    }\n",
              "</style>\n",
              "<table border=\"1\" class=\"dataframe\">\n",
              "  <thead>\n",
              "    <tr style=\"text-align: right;\">\n",
              "      <th></th>\n",
              "      <th>index</th>\n",
              "      <th>market_price</th>\n",
              "      <th>rating</th>\n",
              "      <th>discount</th>\n",
              "      <th>category_Bakery, Cakes &amp; Dairy</th>\n",
              "      <th>category_Beauty &amp; Hygiene</th>\n",
              "      <th>category_Beverages</th>\n",
              "      <th>category_Cleaning &amp; Household</th>\n",
              "      <th>category_Foodgrains, Oil &amp; Masala</th>\n",
              "      <th>category_Gourmet &amp; World Food</th>\n",
              "      <th>...</th>\n",
              "      <th>sub_category_Skin Care</th>\n",
              "      <th>sub_category_Snacks &amp; Namkeen</th>\n",
              "      <th>sub_category_Snacks, Dry Fruits, Nuts</th>\n",
              "      <th>sub_category_Spreads, Sauces, Ketchup</th>\n",
              "      <th>sub_category_Stationery</th>\n",
              "      <th>sub_category_Steel Utensils</th>\n",
              "      <th>sub_category_Storage &amp; Accessories</th>\n",
              "      <th>sub_category_Tea</th>\n",
              "      <th>sub_category_Tinned &amp; Processed Food</th>\n",
              "      <th>sub_category_Water</th>\n",
              "    </tr>\n",
              "  </thead>\n",
              "  <tbody>\n",
              "    <tr>\n",
              "      <th>0</th>\n",
              "      <td>1</td>\n",
              "      <td>220.0</td>\n",
              "      <td>4.1</td>\n",
              "      <td>0.000000</td>\n",
              "      <td>0</td>\n",
              "      <td>1</td>\n",
              "      <td>0</td>\n",
              "      <td>0</td>\n",
              "      <td>0</td>\n",
              "      <td>0</td>\n",
              "      <td>...</td>\n",
              "      <td>0</td>\n",
              "      <td>0</td>\n",
              "      <td>0</td>\n",
              "      <td>0</td>\n",
              "      <td>0</td>\n",
              "      <td>0</td>\n",
              "      <td>0</td>\n",
              "      <td>0</td>\n",
              "      <td>0</td>\n",
              "      <td>0</td>\n",
              "    </tr>\n",
              "    <tr>\n",
              "      <th>1</th>\n",
              "      <td>2</td>\n",
              "      <td>180.0</td>\n",
              "      <td>2.3</td>\n",
              "      <td>0.000000</td>\n",
              "      <td>0</td>\n",
              "      <td>0</td>\n",
              "      <td>0</td>\n",
              "      <td>0</td>\n",
              "      <td>0</td>\n",
              "      <td>0</td>\n",
              "      <td>...</td>\n",
              "      <td>0</td>\n",
              "      <td>0</td>\n",
              "      <td>0</td>\n",
              "      <td>0</td>\n",
              "      <td>0</td>\n",
              "      <td>0</td>\n",
              "      <td>1</td>\n",
              "      <td>0</td>\n",
              "      <td>0</td>\n",
              "      <td>0</td>\n",
              "    </tr>\n",
              "    <tr>\n",
              "      <th>2</th>\n",
              "      <td>3</td>\n",
              "      <td>250.0</td>\n",
              "      <td>3.4</td>\n",
              "      <td>52.400000</td>\n",
              "      <td>0</td>\n",
              "      <td>0</td>\n",
              "      <td>0</td>\n",
              "      <td>1</td>\n",
              "      <td>0</td>\n",
              "      <td>0</td>\n",
              "      <td>...</td>\n",
              "      <td>0</td>\n",
              "      <td>0</td>\n",
              "      <td>0</td>\n",
              "      <td>0</td>\n",
              "      <td>0</td>\n",
              "      <td>0</td>\n",
              "      <td>0</td>\n",
              "      <td>0</td>\n",
              "      <td>0</td>\n",
              "      <td>0</td>\n",
              "    </tr>\n",
              "    <tr>\n",
              "      <th>3</th>\n",
              "      <td>4</td>\n",
              "      <td>176.0</td>\n",
              "      <td>3.7</td>\n",
              "      <td>15.340909</td>\n",
              "      <td>0</td>\n",
              "      <td>0</td>\n",
              "      <td>0</td>\n",
              "      <td>1</td>\n",
              "      <td>0</td>\n",
              "      <td>0</td>\n",
              "      <td>...</td>\n",
              "      <td>0</td>\n",
              "      <td>0</td>\n",
              "      <td>0</td>\n",
              "      <td>0</td>\n",
              "      <td>0</td>\n",
              "      <td>0</td>\n",
              "      <td>0</td>\n",
              "      <td>0</td>\n",
              "      <td>0</td>\n",
              "      <td>0</td>\n",
              "    </tr>\n",
              "    <tr>\n",
              "      <th>4</th>\n",
              "      <td>5</td>\n",
              "      <td>162.0</td>\n",
              "      <td>4.4</td>\n",
              "      <td>0.000000</td>\n",
              "      <td>0</td>\n",
              "      <td>1</td>\n",
              "      <td>0</td>\n",
              "      <td>0</td>\n",
              "      <td>0</td>\n",
              "      <td>0</td>\n",
              "      <td>...</td>\n",
              "      <td>0</td>\n",
              "      <td>0</td>\n",
              "      <td>0</td>\n",
              "      <td>0</td>\n",
              "      <td>0</td>\n",
              "      <td>0</td>\n",
              "      <td>0</td>\n",
              "      <td>0</td>\n",
              "      <td>0</td>\n",
              "      <td>0</td>\n",
              "    </tr>\n",
              "    <tr>\n",
              "      <th>...</th>\n",
              "      <td>...</td>\n",
              "      <td>...</td>\n",
              "      <td>...</td>\n",
              "      <td>...</td>\n",
              "      <td>...</td>\n",
              "      <td>...</td>\n",
              "      <td>...</td>\n",
              "      <td>...</td>\n",
              "      <td>...</td>\n",
              "      <td>...</td>\n",
              "      <td>...</td>\n",
              "      <td>...</td>\n",
              "      <td>...</td>\n",
              "      <td>...</td>\n",
              "      <td>...</td>\n",
              "      <td>...</td>\n",
              "      <td>...</td>\n",
              "      <td>...</td>\n",
              "      <td>...</td>\n",
              "      <td>...</td>\n",
              "      <td>...</td>\n",
              "    </tr>\n",
              "    <tr>\n",
              "      <th>27550</th>\n",
              "      <td>27551</td>\n",
              "      <td>249.0</td>\n",
              "      <td>3.9</td>\n",
              "      <td>20.000000</td>\n",
              "      <td>0</td>\n",
              "      <td>1</td>\n",
              "      <td>0</td>\n",
              "      <td>0</td>\n",
              "      <td>0</td>\n",
              "      <td>0</td>\n",
              "      <td>...</td>\n",
              "      <td>0</td>\n",
              "      <td>0</td>\n",
              "      <td>0</td>\n",
              "      <td>0</td>\n",
              "      <td>0</td>\n",
              "      <td>0</td>\n",
              "      <td>0</td>\n",
              "      <td>0</td>\n",
              "      <td>0</td>\n",
              "      <td>0</td>\n",
              "    </tr>\n",
              "    <tr>\n",
              "      <th>27551</th>\n",
              "      <td>27552</td>\n",
              "      <td>75.0</td>\n",
              "      <td>4.0</td>\n",
              "      <td>10.000000</td>\n",
              "      <td>0</td>\n",
              "      <td>0</td>\n",
              "      <td>0</td>\n",
              "      <td>0</td>\n",
              "      <td>0</td>\n",
              "      <td>1</td>\n",
              "      <td>...</td>\n",
              "      <td>0</td>\n",
              "      <td>0</td>\n",
              "      <td>0</td>\n",
              "      <td>0</td>\n",
              "      <td>0</td>\n",
              "      <td>0</td>\n",
              "      <td>0</td>\n",
              "      <td>0</td>\n",
              "      <td>0</td>\n",
              "      <td>0</td>\n",
              "    </tr>\n",
              "    <tr>\n",
              "      <th>27552</th>\n",
              "      <td>27553</td>\n",
              "      <td>200.0</td>\n",
              "      <td>3.8</td>\n",
              "      <td>0.000000</td>\n",
              "      <td>0</td>\n",
              "      <td>0</td>\n",
              "      <td>0</td>\n",
              "      <td>0</td>\n",
              "      <td>0</td>\n",
              "      <td>1</td>\n",
              "      <td>...</td>\n",
              "      <td>0</td>\n",
              "      <td>0</td>\n",
              "      <td>1</td>\n",
              "      <td>0</td>\n",
              "      <td>0</td>\n",
              "      <td>0</td>\n",
              "      <td>0</td>\n",
              "      <td>0</td>\n",
              "      <td>0</td>\n",
              "      <td>0</td>\n",
              "    </tr>\n",
              "    <tr>\n",
              "      <th>27553</th>\n",
              "      <td>27554</td>\n",
              "      <td>495.0</td>\n",
              "      <td>4.2</td>\n",
              "      <td>20.000000</td>\n",
              "      <td>0</td>\n",
              "      <td>0</td>\n",
              "      <td>1</td>\n",
              "      <td>0</td>\n",
              "      <td>0</td>\n",
              "      <td>0</td>\n",
              "      <td>...</td>\n",
              "      <td>0</td>\n",
              "      <td>0</td>\n",
              "      <td>0</td>\n",
              "      <td>0</td>\n",
              "      <td>0</td>\n",
              "      <td>0</td>\n",
              "      <td>0</td>\n",
              "      <td>1</td>\n",
              "      <td>0</td>\n",
              "      <td>0</td>\n",
              "    </tr>\n",
              "    <tr>\n",
              "      <th>27554</th>\n",
              "      <td>27555</td>\n",
              "      <td>390.0</td>\n",
              "      <td>4.5</td>\n",
              "      <td>44.992308</td>\n",
              "      <td>0</td>\n",
              "      <td>1</td>\n",
              "      <td>0</td>\n",
              "      <td>0</td>\n",
              "      <td>0</td>\n",
              "      <td>0</td>\n",
              "      <td>...</td>\n",
              "      <td>0</td>\n",
              "      <td>0</td>\n",
              "      <td>0</td>\n",
              "      <td>0</td>\n",
              "      <td>0</td>\n",
              "      <td>0</td>\n",
              "      <td>0</td>\n",
              "      <td>0</td>\n",
              "      <td>0</td>\n",
              "      <td>0</td>\n",
              "    </tr>\n",
              "  </tbody>\n",
              "</table>\n",
              "<p>18175 rows × 88 columns</p>\n",
              "</div>\n",
              "      <button class=\"colab-df-convert\" onclick=\"convertToInteractive('df-5f50ee7f-471d-478c-8424-db0aa368ae5d')\"\n",
              "              title=\"Convert this dataframe to an interactive table.\"\n",
              "              style=\"display:none;\">\n",
              "        \n",
              "  <svg xmlns=\"http://www.w3.org/2000/svg\" height=\"24px\"viewBox=\"0 0 24 24\"\n",
              "       width=\"24px\">\n",
              "    <path d=\"M0 0h24v24H0V0z\" fill=\"none\"/>\n",
              "    <path d=\"M18.56 5.44l.94 2.06.94-2.06 2.06-.94-2.06-.94-.94-2.06-.94 2.06-2.06.94zm-11 1L8.5 8.5l.94-2.06 2.06-.94-2.06-.94L8.5 2.5l-.94 2.06-2.06.94zm10 10l.94 2.06.94-2.06 2.06-.94-2.06-.94-.94-2.06-.94 2.06-2.06.94z\"/><path d=\"M17.41 7.96l-1.37-1.37c-.4-.4-.92-.59-1.43-.59-.52 0-1.04.2-1.43.59L10.3 9.45l-7.72 7.72c-.78.78-.78 2.05 0 2.83L4 21.41c.39.39.9.59 1.41.59.51 0 1.02-.2 1.41-.59l7.78-7.78 2.81-2.81c.8-.78.8-2.07 0-2.86zM5.41 20L4 18.59l7.72-7.72 1.47 1.35L5.41 20z\"/>\n",
              "  </svg>\n",
              "      </button>\n",
              "      \n",
              "  <style>\n",
              "    .colab-df-container {\n",
              "      display:flex;\n",
              "      flex-wrap:wrap;\n",
              "      gap: 12px;\n",
              "    }\n",
              "\n",
              "    .colab-df-convert {\n",
              "      background-color: #E8F0FE;\n",
              "      border: none;\n",
              "      border-radius: 50%;\n",
              "      cursor: pointer;\n",
              "      display: none;\n",
              "      fill: #1967D2;\n",
              "      height: 32px;\n",
              "      padding: 0 0 0 0;\n",
              "      width: 32px;\n",
              "    }\n",
              "\n",
              "    .colab-df-convert:hover {\n",
              "      background-color: #E2EBFA;\n",
              "      box-shadow: 0px 1px 2px rgba(60, 64, 67, 0.3), 0px 1px 3px 1px rgba(60, 64, 67, 0.15);\n",
              "      fill: #174EA6;\n",
              "    }\n",
              "\n",
              "    [theme=dark] .colab-df-convert {\n",
              "      background-color: #3B4455;\n",
              "      fill: #D2E3FC;\n",
              "    }\n",
              "\n",
              "    [theme=dark] .colab-df-convert:hover {\n",
              "      background-color: #434B5C;\n",
              "      box-shadow: 0px 1px 3px 1px rgba(0, 0, 0, 0.15);\n",
              "      filter: drop-shadow(0px 1px 2px rgba(0, 0, 0, 0.3));\n",
              "      fill: #FFFFFF;\n",
              "    }\n",
              "  </style>\n",
              "\n",
              "      <script>\n",
              "        const buttonEl =\n",
              "          document.querySelector('#df-5f50ee7f-471d-478c-8424-db0aa368ae5d button.colab-df-convert');\n",
              "        buttonEl.style.display =\n",
              "          google.colab.kernel.accessAllowed ? 'block' : 'none';\n",
              "\n",
              "        async function convertToInteractive(key) {\n",
              "          const element = document.querySelector('#df-5f50ee7f-471d-478c-8424-db0aa368ae5d');\n",
              "          const dataTable =\n",
              "            await google.colab.kernel.invokeFunction('convertToInteractive',\n",
              "                                                     [key], {});\n",
              "          if (!dataTable) return;\n",
              "\n",
              "          const docLinkHtml = 'Like what you see? Visit the ' +\n",
              "            '<a target=\"_blank\" href=https://colab.research.google.com/notebooks/data_table.ipynb>data table notebook</a>'\n",
              "            + ' to learn more about interactive tables.';\n",
              "          element.innerHTML = '';\n",
              "          dataTable['output_type'] = 'display_data';\n",
              "          await google.colab.output.renderOutput(dataTable, element);\n",
              "          const docLink = document.createElement('div');\n",
              "          docLink.innerHTML = docLinkHtml;\n",
              "          element.appendChild(docLink);\n",
              "        }\n",
              "      </script>\n",
              "    </div>\n",
              "  </div>\n",
              "  "
            ]
          },
          "metadata": {},
          "execution_count": 84
        }
      ],
      "source": [
        "X = prod_data1.drop(\"sale_price\",axis = 1)\n",
        "y = prod_data1[\"sale_price\"]\n",
        "X"
      ]
    },
    {
      "cell_type": "code",
      "execution_count": null,
      "metadata": {
        "id": "MGB86X5EQ6y1",
        "colab": {
          "base_uri": "https://localhost:8080/"
        },
        "outputId": "e8bed150-c77c-433d-c482-59cf39945bc6"
      },
      "outputs": [
        {
          "output_type": "execute_result",
          "data": {
            "text/plain": [
              "Index(['index', 'market_price', 'rating', 'discount',\n",
              "       'category_Bakery, Cakes & Dairy', 'category_Beauty & Hygiene',\n",
              "       'category_Beverages', 'category_Cleaning & Household',\n",
              "       'category_Foodgrains, Oil & Masala', 'category_Gourmet & World Food',\n",
              "       'category_Kitchen, Garden & Pets', 'category_Snacks & Branded Foods',\n",
              "       'sub_category_Appliances & Electricals',\n",
              "       'sub_category_Atta, Flours & Sooji', 'sub_category_Baby Accessories',\n",
              "       'sub_category_Baby Bath & Hygiene', 'sub_category_Baby Food & Formula',\n",
              "       'sub_category_Bakery Snacks', 'sub_category_Bakeware',\n",
              "       'sub_category_Bath & Hand Wash', 'sub_category_Bins & Bathroom Ware',\n",
              "       'sub_category_Biscuits & Cookies', 'sub_category_Breakfast Cereals',\n",
              "       'sub_category_Cakes & Pastries', 'sub_category_Car & Shoe Care',\n",
              "       'sub_category_Cereals & Breakfast',\n",
              "       'sub_category_Chocolates & Biscuits',\n",
              "       'sub_category_Chocolates & Candies', 'sub_category_Coffee',\n",
              "       'sub_category_Cookies, Rusk & Khari',\n",
              "       'sub_category_Cooking & Baking Needs',\n",
              "       'sub_category_Cookware & Non Stick', 'sub_category_Crockery & Cutlery',\n",
              "       'sub_category_Cuts & Sprouts', 'sub_category_Dairy',\n",
              "       'sub_category_Dairy & Cheese', 'sub_category_Dals & Pulses',\n",
              "       'sub_category_Detergents & Dishwash', 'sub_category_Diapers & Wipes',\n",
              "       'sub_category_Disposables, Garbage Bag',\n",
              "       'sub_category_Drinks & Beverages', 'sub_category_Dry Fruits',\n",
              "       'sub_category_Edible Oils & Ghee', 'sub_category_Energy & Soft Drinks',\n",
              "       'sub_category_Feeding & Nursing', 'sub_category_Feminine Hygiene',\n",
              "       'sub_category_Flask & Casserole', 'sub_category_Fragrances & Deos',\n",
              "       'sub_category_Fresheners & Repellents',\n",
              "       'sub_category_Frozen Veggies & Snacks',\n",
              "       'sub_category_Fruit Juices & Drinks', 'sub_category_Gardening',\n",
              "       'sub_category_Gourmet Breads', 'sub_category_Hair Care',\n",
              "       'sub_category_Health & Medicine',\n",
              "       'sub_category_Health Drink, Supplement',\n",
              "       'sub_category_Ice Creams & Desserts', 'sub_category_Indian Mithai',\n",
              "       'sub_category_Kitchen Accessories', 'sub_category_Makeup',\n",
              "       'sub_category_Masalas & Spices', 'sub_category_Men's Grooming',\n",
              "       'sub_category_Mops, Brushes & Scrubs',\n",
              "       'sub_category_Mothers & Maternity', 'sub_category_Non Dairy',\n",
              "       'sub_category_Noodle, Pasta, Vermicelli', 'sub_category_Oils & Vinegar',\n",
              "       'sub_category_Oral Care', 'sub_category_Organic Staples',\n",
              "       'sub_category_Party & Festive Needs',\n",
              "       'sub_category_Pasta, Soup & Noodles',\n",
              "       'sub_category_Pet Food & Accessories', 'sub_category_Pickles & Chutney',\n",
              "       'sub_category_Pooja Needs', 'sub_category_Ready To Cook & Eat',\n",
              "       'sub_category_Rice & Rice Products',\n",
              "       'sub_category_Salt, Sugar & Jaggery',\n",
              "       'sub_category_Sauces, Spreads & Dips', 'sub_category_Skin Care',\n",
              "       'sub_category_Snacks & Namkeen',\n",
              "       'sub_category_Snacks, Dry Fruits, Nuts',\n",
              "       'sub_category_Spreads, Sauces, Ketchup', 'sub_category_Stationery',\n",
              "       'sub_category_Steel Utensils', 'sub_category_Storage & Accessories',\n",
              "       'sub_category_Tea', 'sub_category_Tinned & Processed Food',\n",
              "       'sub_category_Water'],\n",
              "      dtype='object')"
            ]
          },
          "metadata": {},
          "execution_count": 85
        }
      ],
      "source": [
        "column = X.columns\n",
        "column"
      ]
    },
    {
      "cell_type": "code",
      "execution_count": null,
      "metadata": {
        "id": "0zdn_DtqQ6wM",
        "colab": {
          "base_uri": "https://localhost:8080/"
        },
        "outputId": "316c0105-d3d9-448c-b5cd-060a0eb97b5f"
      },
      "outputs": [
        {
          "output_type": "execute_result",
          "data": {
            "text/plain": [
              "index                                   0\n",
              "market_price                            0\n",
              "rating                                  0\n",
              "discount                                0\n",
              "category_Bakery, Cakes & Dairy          0\n",
              "                                       ..\n",
              "sub_category_Steel Utensils             0\n",
              "sub_category_Storage & Accessories      0\n",
              "sub_category_Tea                        0\n",
              "sub_category_Tinned & Processed Food    0\n",
              "sub_category_Water                      0\n",
              "Length: 88, dtype: int64"
            ]
          },
          "metadata": {},
          "execution_count": 86
        }
      ],
      "source": [
        "X.isnull().sum()"
      ]
    },
    {
      "cell_type": "code",
      "execution_count": null,
      "metadata": {
        "id": "pMuCHocTR4ms"
      },
      "outputs": [],
      "source": [
        "scaler = MinMaxScaler()"
      ]
    },
    {
      "cell_type": "code",
      "execution_count": null,
      "metadata": {
        "id": "m6BXN6qQR4jS"
      },
      "outputs": [],
      "source": [
        "X[column] = scaler.fit_transform(X[column])"
      ]
    },
    {
      "cell_type": "code",
      "source": [
        "print(X[column])"
      ],
      "metadata": {
        "id": "pw1A89_tIE0A",
        "colab": {
          "base_uri": "https://localhost:8080/"
        },
        "outputId": "d82471b6-001d-4a9d-8dcc-fa2f020bf386"
      },
      "execution_count": null,
      "outputs": [
        {
          "output_type": "stream",
          "name": "stdout",
          "text": [
            "          index  market_price  rating  discount  \\\n",
            "0      0.000000      0.181287   0.775  0.000000   \n",
            "1      0.000036      0.147870   0.325  0.000000   \n",
            "2      0.000073      0.206349   0.600  0.645296   \n",
            "3      0.000109      0.144528   0.675  0.188920   \n",
            "4      0.000145      0.132832   0.850  0.000000   \n",
            "...         ...           ...     ...       ...   \n",
            "27550  0.999855      0.205514   0.725  0.246296   \n",
            "27551  0.999891      0.060150   0.750  0.123148   \n",
            "27552  0.999927      0.164578   0.700  0.000000   \n",
            "27553  0.999964      0.411028   0.800  0.246296   \n",
            "27554  1.000000      0.323308   0.875  0.554072   \n",
            "\n",
            "       category_Bakery, Cakes & Dairy  category_Beauty & Hygiene  \\\n",
            "0                                 0.0                        1.0   \n",
            "1                                 0.0                        0.0   \n",
            "2                                 0.0                        0.0   \n",
            "3                                 0.0                        0.0   \n",
            "4                                 0.0                        1.0   \n",
            "...                               ...                        ...   \n",
            "27550                             0.0                        1.0   \n",
            "27551                             0.0                        0.0   \n",
            "27552                             0.0                        0.0   \n",
            "27553                             0.0                        0.0   \n",
            "27554                             0.0                        1.0   \n",
            "\n",
            "       category_Beverages  category_Cleaning & Household  \\\n",
            "0                     0.0                            0.0   \n",
            "1                     0.0                            0.0   \n",
            "2                     0.0                            1.0   \n",
            "3                     0.0                            1.0   \n",
            "4                     0.0                            0.0   \n",
            "...                   ...                            ...   \n",
            "27550                 0.0                            0.0   \n",
            "27551                 0.0                            0.0   \n",
            "27552                 0.0                            0.0   \n",
            "27553                 1.0                            0.0   \n",
            "27554                 0.0                            0.0   \n",
            "\n",
            "       category_Foodgrains, Oil & Masala  category_Gourmet & World Food  ...  \\\n",
            "0                                    0.0                            0.0  ...   \n",
            "1                                    0.0                            0.0  ...   \n",
            "2                                    0.0                            0.0  ...   \n",
            "3                                    0.0                            0.0  ...   \n",
            "4                                    0.0                            0.0  ...   \n",
            "...                                  ...                            ...  ...   \n",
            "27550                                0.0                            0.0  ...   \n",
            "27551                                0.0                            1.0  ...   \n",
            "27552                                0.0                            1.0  ...   \n",
            "27553                                0.0                            0.0  ...   \n",
            "27554                                0.0                            0.0  ...   \n",
            "\n",
            "       sub_category_Skin Care  sub_category_Snacks & Namkeen  \\\n",
            "0                         0.0                            0.0   \n",
            "1                         0.0                            0.0   \n",
            "2                         0.0                            0.0   \n",
            "3                         0.0                            0.0   \n",
            "4                         0.0                            0.0   \n",
            "...                       ...                            ...   \n",
            "27550                     0.0                            0.0   \n",
            "27551                     0.0                            0.0   \n",
            "27552                     0.0                            0.0   \n",
            "27553                     0.0                            0.0   \n",
            "27554                     0.0                            0.0   \n",
            "\n",
            "       sub_category_Snacks, Dry Fruits, Nuts  \\\n",
            "0                                        0.0   \n",
            "1                                        0.0   \n",
            "2                                        0.0   \n",
            "3                                        0.0   \n",
            "4                                        0.0   \n",
            "...                                      ...   \n",
            "27550                                    0.0   \n",
            "27551                                    0.0   \n",
            "27552                                    1.0   \n",
            "27553                                    0.0   \n",
            "27554                                    0.0   \n",
            "\n",
            "       sub_category_Spreads, Sauces, Ketchup  sub_category_Stationery  \\\n",
            "0                                        0.0                      0.0   \n",
            "1                                        0.0                      0.0   \n",
            "2                                        0.0                      0.0   \n",
            "3                                        0.0                      0.0   \n",
            "4                                        0.0                      0.0   \n",
            "...                                      ...                      ...   \n",
            "27550                                    0.0                      0.0   \n",
            "27551                                    0.0                      0.0   \n",
            "27552                                    0.0                      0.0   \n",
            "27553                                    0.0                      0.0   \n",
            "27554                                    0.0                      0.0   \n",
            "\n",
            "       sub_category_Steel Utensils  sub_category_Storage & Accessories  \\\n",
            "0                              0.0                                 0.0   \n",
            "1                              0.0                                 1.0   \n",
            "2                              0.0                                 0.0   \n",
            "3                              0.0                                 0.0   \n",
            "4                              0.0                                 0.0   \n",
            "...                            ...                                 ...   \n",
            "27550                          0.0                                 0.0   \n",
            "27551                          0.0                                 0.0   \n",
            "27552                          0.0                                 0.0   \n",
            "27553                          0.0                                 0.0   \n",
            "27554                          0.0                                 0.0   \n",
            "\n",
            "       sub_category_Tea  sub_category_Tinned & Processed Food  \\\n",
            "0                   0.0                                   0.0   \n",
            "1                   0.0                                   0.0   \n",
            "2                   0.0                                   0.0   \n",
            "3                   0.0                                   0.0   \n",
            "4                   0.0                                   0.0   \n",
            "...                 ...                                   ...   \n",
            "27550               0.0                                   0.0   \n",
            "27551               0.0                                   0.0   \n",
            "27552               0.0                                   0.0   \n",
            "27553               1.0                                   0.0   \n",
            "27554               0.0                                   0.0   \n",
            "\n",
            "       sub_category_Water  \n",
            "0                     0.0  \n",
            "1                     0.0  \n",
            "2                     0.0  \n",
            "3                     0.0  \n",
            "4                     0.0  \n",
            "...                   ...  \n",
            "27550                 0.0  \n",
            "27551                 0.0  \n",
            "27552                 0.0  \n",
            "27553                 0.0  \n",
            "27554                 0.0  \n",
            "\n",
            "[18175 rows x 88 columns]\n"
          ]
        }
      ]
    },
    {
      "cell_type": "code",
      "source": [
        "X"
      ],
      "metadata": {
        "id": "6DPQMk-fIWEn",
        "colab": {
          "base_uri": "https://localhost:8080/",
          "height": 505
        },
        "outputId": "65164336-9adb-4764-dc6c-d2907d449b57"
      },
      "execution_count": null,
      "outputs": [
        {
          "output_type": "execute_result",
          "data": {
            "text/plain": [
              "          index  market_price  rating  discount  \\\n",
              "0      0.000000      0.181287   0.775  0.000000   \n",
              "1      0.000036      0.147870   0.325  0.000000   \n",
              "2      0.000073      0.206349   0.600  0.645296   \n",
              "3      0.000109      0.144528   0.675  0.188920   \n",
              "4      0.000145      0.132832   0.850  0.000000   \n",
              "...         ...           ...     ...       ...   \n",
              "27550  0.999855      0.205514   0.725  0.246296   \n",
              "27551  0.999891      0.060150   0.750  0.123148   \n",
              "27552  0.999927      0.164578   0.700  0.000000   \n",
              "27553  0.999964      0.411028   0.800  0.246296   \n",
              "27554  1.000000      0.323308   0.875  0.554072   \n",
              "\n",
              "       category_Bakery, Cakes & Dairy  category_Beauty & Hygiene  \\\n",
              "0                                 0.0                        1.0   \n",
              "1                                 0.0                        0.0   \n",
              "2                                 0.0                        0.0   \n",
              "3                                 0.0                        0.0   \n",
              "4                                 0.0                        1.0   \n",
              "...                               ...                        ...   \n",
              "27550                             0.0                        1.0   \n",
              "27551                             0.0                        0.0   \n",
              "27552                             0.0                        0.0   \n",
              "27553                             0.0                        0.0   \n",
              "27554                             0.0                        1.0   \n",
              "\n",
              "       category_Beverages  category_Cleaning & Household  \\\n",
              "0                     0.0                            0.0   \n",
              "1                     0.0                            0.0   \n",
              "2                     0.0                            1.0   \n",
              "3                     0.0                            1.0   \n",
              "4                     0.0                            0.0   \n",
              "...                   ...                            ...   \n",
              "27550                 0.0                            0.0   \n",
              "27551                 0.0                            0.0   \n",
              "27552                 0.0                            0.0   \n",
              "27553                 1.0                            0.0   \n",
              "27554                 0.0                            0.0   \n",
              "\n",
              "       category_Foodgrains, Oil & Masala  category_Gourmet & World Food  ...  \\\n",
              "0                                    0.0                            0.0  ...   \n",
              "1                                    0.0                            0.0  ...   \n",
              "2                                    0.0                            0.0  ...   \n",
              "3                                    0.0                            0.0  ...   \n",
              "4                                    0.0                            0.0  ...   \n",
              "...                                  ...                            ...  ...   \n",
              "27550                                0.0                            0.0  ...   \n",
              "27551                                0.0                            1.0  ...   \n",
              "27552                                0.0                            1.0  ...   \n",
              "27553                                0.0                            0.0  ...   \n",
              "27554                                0.0                            0.0  ...   \n",
              "\n",
              "       sub_category_Skin Care  sub_category_Snacks & Namkeen  \\\n",
              "0                         0.0                            0.0   \n",
              "1                         0.0                            0.0   \n",
              "2                         0.0                            0.0   \n",
              "3                         0.0                            0.0   \n",
              "4                         0.0                            0.0   \n",
              "...                       ...                            ...   \n",
              "27550                     0.0                            0.0   \n",
              "27551                     0.0                            0.0   \n",
              "27552                     0.0                            0.0   \n",
              "27553                     0.0                            0.0   \n",
              "27554                     0.0                            0.0   \n",
              "\n",
              "       sub_category_Snacks, Dry Fruits, Nuts  \\\n",
              "0                                        0.0   \n",
              "1                                        0.0   \n",
              "2                                        0.0   \n",
              "3                                        0.0   \n",
              "4                                        0.0   \n",
              "...                                      ...   \n",
              "27550                                    0.0   \n",
              "27551                                    0.0   \n",
              "27552                                    1.0   \n",
              "27553                                    0.0   \n",
              "27554                                    0.0   \n",
              "\n",
              "       sub_category_Spreads, Sauces, Ketchup  sub_category_Stationery  \\\n",
              "0                                        0.0                      0.0   \n",
              "1                                        0.0                      0.0   \n",
              "2                                        0.0                      0.0   \n",
              "3                                        0.0                      0.0   \n",
              "4                                        0.0                      0.0   \n",
              "...                                      ...                      ...   \n",
              "27550                                    0.0                      0.0   \n",
              "27551                                    0.0                      0.0   \n",
              "27552                                    0.0                      0.0   \n",
              "27553                                    0.0                      0.0   \n",
              "27554                                    0.0                      0.0   \n",
              "\n",
              "       sub_category_Steel Utensils  sub_category_Storage & Accessories  \\\n",
              "0                              0.0                                 0.0   \n",
              "1                              0.0                                 1.0   \n",
              "2                              0.0                                 0.0   \n",
              "3                              0.0                                 0.0   \n",
              "4                              0.0                                 0.0   \n",
              "...                            ...                                 ...   \n",
              "27550                          0.0                                 0.0   \n",
              "27551                          0.0                                 0.0   \n",
              "27552                          0.0                                 0.0   \n",
              "27553                          0.0                                 0.0   \n",
              "27554                          0.0                                 0.0   \n",
              "\n",
              "       sub_category_Tea  sub_category_Tinned & Processed Food  \\\n",
              "0                   0.0                                   0.0   \n",
              "1                   0.0                                   0.0   \n",
              "2                   0.0                                   0.0   \n",
              "3                   0.0                                   0.0   \n",
              "4                   0.0                                   0.0   \n",
              "...                 ...                                   ...   \n",
              "27550               0.0                                   0.0   \n",
              "27551               0.0                                   0.0   \n",
              "27552               0.0                                   0.0   \n",
              "27553               1.0                                   0.0   \n",
              "27554               0.0                                   0.0   \n",
              "\n",
              "       sub_category_Water  \n",
              "0                     0.0  \n",
              "1                     0.0  \n",
              "2                     0.0  \n",
              "3                     0.0  \n",
              "4                     0.0  \n",
              "...                   ...  \n",
              "27550                 0.0  \n",
              "27551                 0.0  \n",
              "27552                 0.0  \n",
              "27553                 0.0  \n",
              "27554                 0.0  \n",
              "\n",
              "[18175 rows x 88 columns]"
            ],
            "text/html": [
              "\n",
              "  <div id=\"df-b763c1d8-52d3-435e-bb48-26764d268241\">\n",
              "    <div class=\"colab-df-container\">\n",
              "      <div>\n",
              "<style scoped>\n",
              "    .dataframe tbody tr th:only-of-type {\n",
              "        vertical-align: middle;\n",
              "    }\n",
              "\n",
              "    .dataframe tbody tr th {\n",
              "        vertical-align: top;\n",
              "    }\n",
              "\n",
              "    .dataframe thead th {\n",
              "        text-align: right;\n",
              "    }\n",
              "</style>\n",
              "<table border=\"1\" class=\"dataframe\">\n",
              "  <thead>\n",
              "    <tr style=\"text-align: right;\">\n",
              "      <th></th>\n",
              "      <th>index</th>\n",
              "      <th>market_price</th>\n",
              "      <th>rating</th>\n",
              "      <th>discount</th>\n",
              "      <th>category_Bakery, Cakes &amp; Dairy</th>\n",
              "      <th>category_Beauty &amp; Hygiene</th>\n",
              "      <th>category_Beverages</th>\n",
              "      <th>category_Cleaning &amp; Household</th>\n",
              "      <th>category_Foodgrains, Oil &amp; Masala</th>\n",
              "      <th>category_Gourmet &amp; World Food</th>\n",
              "      <th>...</th>\n",
              "      <th>sub_category_Skin Care</th>\n",
              "      <th>sub_category_Snacks &amp; Namkeen</th>\n",
              "      <th>sub_category_Snacks, Dry Fruits, Nuts</th>\n",
              "      <th>sub_category_Spreads, Sauces, Ketchup</th>\n",
              "      <th>sub_category_Stationery</th>\n",
              "      <th>sub_category_Steel Utensils</th>\n",
              "      <th>sub_category_Storage &amp; Accessories</th>\n",
              "      <th>sub_category_Tea</th>\n",
              "      <th>sub_category_Tinned &amp; Processed Food</th>\n",
              "      <th>sub_category_Water</th>\n",
              "    </tr>\n",
              "  </thead>\n",
              "  <tbody>\n",
              "    <tr>\n",
              "      <th>0</th>\n",
              "      <td>0.000000</td>\n",
              "      <td>0.181287</td>\n",
              "      <td>0.775</td>\n",
              "      <td>0.000000</td>\n",
              "      <td>0.0</td>\n",
              "      <td>1.0</td>\n",
              "      <td>0.0</td>\n",
              "      <td>0.0</td>\n",
              "      <td>0.0</td>\n",
              "      <td>0.0</td>\n",
              "      <td>...</td>\n",
              "      <td>0.0</td>\n",
              "      <td>0.0</td>\n",
              "      <td>0.0</td>\n",
              "      <td>0.0</td>\n",
              "      <td>0.0</td>\n",
              "      <td>0.0</td>\n",
              "      <td>0.0</td>\n",
              "      <td>0.0</td>\n",
              "      <td>0.0</td>\n",
              "      <td>0.0</td>\n",
              "    </tr>\n",
              "    <tr>\n",
              "      <th>1</th>\n",
              "      <td>0.000036</td>\n",
              "      <td>0.147870</td>\n",
              "      <td>0.325</td>\n",
              "      <td>0.000000</td>\n",
              "      <td>0.0</td>\n",
              "      <td>0.0</td>\n",
              "      <td>0.0</td>\n",
              "      <td>0.0</td>\n",
              "      <td>0.0</td>\n",
              "      <td>0.0</td>\n",
              "      <td>...</td>\n",
              "      <td>0.0</td>\n",
              "      <td>0.0</td>\n",
              "      <td>0.0</td>\n",
              "      <td>0.0</td>\n",
              "      <td>0.0</td>\n",
              "      <td>0.0</td>\n",
              "      <td>1.0</td>\n",
              "      <td>0.0</td>\n",
              "      <td>0.0</td>\n",
              "      <td>0.0</td>\n",
              "    </tr>\n",
              "    <tr>\n",
              "      <th>2</th>\n",
              "      <td>0.000073</td>\n",
              "      <td>0.206349</td>\n",
              "      <td>0.600</td>\n",
              "      <td>0.645296</td>\n",
              "      <td>0.0</td>\n",
              "      <td>0.0</td>\n",
              "      <td>0.0</td>\n",
              "      <td>1.0</td>\n",
              "      <td>0.0</td>\n",
              "      <td>0.0</td>\n",
              "      <td>...</td>\n",
              "      <td>0.0</td>\n",
              "      <td>0.0</td>\n",
              "      <td>0.0</td>\n",
              "      <td>0.0</td>\n",
              "      <td>0.0</td>\n",
              "      <td>0.0</td>\n",
              "      <td>0.0</td>\n",
              "      <td>0.0</td>\n",
              "      <td>0.0</td>\n",
              "      <td>0.0</td>\n",
              "    </tr>\n",
              "    <tr>\n",
              "      <th>3</th>\n",
              "      <td>0.000109</td>\n",
              "      <td>0.144528</td>\n",
              "      <td>0.675</td>\n",
              "      <td>0.188920</td>\n",
              "      <td>0.0</td>\n",
              "      <td>0.0</td>\n",
              "      <td>0.0</td>\n",
              "      <td>1.0</td>\n",
              "      <td>0.0</td>\n",
              "      <td>0.0</td>\n",
              "      <td>...</td>\n",
              "      <td>0.0</td>\n",
              "      <td>0.0</td>\n",
              "      <td>0.0</td>\n",
              "      <td>0.0</td>\n",
              "      <td>0.0</td>\n",
              "      <td>0.0</td>\n",
              "      <td>0.0</td>\n",
              "      <td>0.0</td>\n",
              "      <td>0.0</td>\n",
              "      <td>0.0</td>\n",
              "    </tr>\n",
              "    <tr>\n",
              "      <th>4</th>\n",
              "      <td>0.000145</td>\n",
              "      <td>0.132832</td>\n",
              "      <td>0.850</td>\n",
              "      <td>0.000000</td>\n",
              "      <td>0.0</td>\n",
              "      <td>1.0</td>\n",
              "      <td>0.0</td>\n",
              "      <td>0.0</td>\n",
              "      <td>0.0</td>\n",
              "      <td>0.0</td>\n",
              "      <td>...</td>\n",
              "      <td>0.0</td>\n",
              "      <td>0.0</td>\n",
              "      <td>0.0</td>\n",
              "      <td>0.0</td>\n",
              "      <td>0.0</td>\n",
              "      <td>0.0</td>\n",
              "      <td>0.0</td>\n",
              "      <td>0.0</td>\n",
              "      <td>0.0</td>\n",
              "      <td>0.0</td>\n",
              "    </tr>\n",
              "    <tr>\n",
              "      <th>...</th>\n",
              "      <td>...</td>\n",
              "      <td>...</td>\n",
              "      <td>...</td>\n",
              "      <td>...</td>\n",
              "      <td>...</td>\n",
              "      <td>...</td>\n",
              "      <td>...</td>\n",
              "      <td>...</td>\n",
              "      <td>...</td>\n",
              "      <td>...</td>\n",
              "      <td>...</td>\n",
              "      <td>...</td>\n",
              "      <td>...</td>\n",
              "      <td>...</td>\n",
              "      <td>...</td>\n",
              "      <td>...</td>\n",
              "      <td>...</td>\n",
              "      <td>...</td>\n",
              "      <td>...</td>\n",
              "      <td>...</td>\n",
              "      <td>...</td>\n",
              "    </tr>\n",
              "    <tr>\n",
              "      <th>27550</th>\n",
              "      <td>0.999855</td>\n",
              "      <td>0.205514</td>\n",
              "      <td>0.725</td>\n",
              "      <td>0.246296</td>\n",
              "      <td>0.0</td>\n",
              "      <td>1.0</td>\n",
              "      <td>0.0</td>\n",
              "      <td>0.0</td>\n",
              "      <td>0.0</td>\n",
              "      <td>0.0</td>\n",
              "      <td>...</td>\n",
              "      <td>0.0</td>\n",
              "      <td>0.0</td>\n",
              "      <td>0.0</td>\n",
              "      <td>0.0</td>\n",
              "      <td>0.0</td>\n",
              "      <td>0.0</td>\n",
              "      <td>0.0</td>\n",
              "      <td>0.0</td>\n",
              "      <td>0.0</td>\n",
              "      <td>0.0</td>\n",
              "    </tr>\n",
              "    <tr>\n",
              "      <th>27551</th>\n",
              "      <td>0.999891</td>\n",
              "      <td>0.060150</td>\n",
              "      <td>0.750</td>\n",
              "      <td>0.123148</td>\n",
              "      <td>0.0</td>\n",
              "      <td>0.0</td>\n",
              "      <td>0.0</td>\n",
              "      <td>0.0</td>\n",
              "      <td>0.0</td>\n",
              "      <td>1.0</td>\n",
              "      <td>...</td>\n",
              "      <td>0.0</td>\n",
              "      <td>0.0</td>\n",
              "      <td>0.0</td>\n",
              "      <td>0.0</td>\n",
              "      <td>0.0</td>\n",
              "      <td>0.0</td>\n",
              "      <td>0.0</td>\n",
              "      <td>0.0</td>\n",
              "      <td>0.0</td>\n",
              "      <td>0.0</td>\n",
              "    </tr>\n",
              "    <tr>\n",
              "      <th>27552</th>\n",
              "      <td>0.999927</td>\n",
              "      <td>0.164578</td>\n",
              "      <td>0.700</td>\n",
              "      <td>0.000000</td>\n",
              "      <td>0.0</td>\n",
              "      <td>0.0</td>\n",
              "      <td>0.0</td>\n",
              "      <td>0.0</td>\n",
              "      <td>0.0</td>\n",
              "      <td>1.0</td>\n",
              "      <td>...</td>\n",
              "      <td>0.0</td>\n",
              "      <td>0.0</td>\n",
              "      <td>1.0</td>\n",
              "      <td>0.0</td>\n",
              "      <td>0.0</td>\n",
              "      <td>0.0</td>\n",
              "      <td>0.0</td>\n",
              "      <td>0.0</td>\n",
              "      <td>0.0</td>\n",
              "      <td>0.0</td>\n",
              "    </tr>\n",
              "    <tr>\n",
              "      <th>27553</th>\n",
              "      <td>0.999964</td>\n",
              "      <td>0.411028</td>\n",
              "      <td>0.800</td>\n",
              "      <td>0.246296</td>\n",
              "      <td>0.0</td>\n",
              "      <td>0.0</td>\n",
              "      <td>1.0</td>\n",
              "      <td>0.0</td>\n",
              "      <td>0.0</td>\n",
              "      <td>0.0</td>\n",
              "      <td>...</td>\n",
              "      <td>0.0</td>\n",
              "      <td>0.0</td>\n",
              "      <td>0.0</td>\n",
              "      <td>0.0</td>\n",
              "      <td>0.0</td>\n",
              "      <td>0.0</td>\n",
              "      <td>0.0</td>\n",
              "      <td>1.0</td>\n",
              "      <td>0.0</td>\n",
              "      <td>0.0</td>\n",
              "    </tr>\n",
              "    <tr>\n",
              "      <th>27554</th>\n",
              "      <td>1.000000</td>\n",
              "      <td>0.323308</td>\n",
              "      <td>0.875</td>\n",
              "      <td>0.554072</td>\n",
              "      <td>0.0</td>\n",
              "      <td>1.0</td>\n",
              "      <td>0.0</td>\n",
              "      <td>0.0</td>\n",
              "      <td>0.0</td>\n",
              "      <td>0.0</td>\n",
              "      <td>...</td>\n",
              "      <td>0.0</td>\n",
              "      <td>0.0</td>\n",
              "      <td>0.0</td>\n",
              "      <td>0.0</td>\n",
              "      <td>0.0</td>\n",
              "      <td>0.0</td>\n",
              "      <td>0.0</td>\n",
              "      <td>0.0</td>\n",
              "      <td>0.0</td>\n",
              "      <td>0.0</td>\n",
              "    </tr>\n",
              "  </tbody>\n",
              "</table>\n",
              "<p>18175 rows × 88 columns</p>\n",
              "</div>\n",
              "      <button class=\"colab-df-convert\" onclick=\"convertToInteractive('df-b763c1d8-52d3-435e-bb48-26764d268241')\"\n",
              "              title=\"Convert this dataframe to an interactive table.\"\n",
              "              style=\"display:none;\">\n",
              "        \n",
              "  <svg xmlns=\"http://www.w3.org/2000/svg\" height=\"24px\"viewBox=\"0 0 24 24\"\n",
              "       width=\"24px\">\n",
              "    <path d=\"M0 0h24v24H0V0z\" fill=\"none\"/>\n",
              "    <path d=\"M18.56 5.44l.94 2.06.94-2.06 2.06-.94-2.06-.94-.94-2.06-.94 2.06-2.06.94zm-11 1L8.5 8.5l.94-2.06 2.06-.94-2.06-.94L8.5 2.5l-.94 2.06-2.06.94zm10 10l.94 2.06.94-2.06 2.06-.94-2.06-.94-.94-2.06-.94 2.06-2.06.94z\"/><path d=\"M17.41 7.96l-1.37-1.37c-.4-.4-.92-.59-1.43-.59-.52 0-1.04.2-1.43.59L10.3 9.45l-7.72 7.72c-.78.78-.78 2.05 0 2.83L4 21.41c.39.39.9.59 1.41.59.51 0 1.02-.2 1.41-.59l7.78-7.78 2.81-2.81c.8-.78.8-2.07 0-2.86zM5.41 20L4 18.59l7.72-7.72 1.47 1.35L5.41 20z\"/>\n",
              "  </svg>\n",
              "      </button>\n",
              "      \n",
              "  <style>\n",
              "    .colab-df-container {\n",
              "      display:flex;\n",
              "      flex-wrap:wrap;\n",
              "      gap: 12px;\n",
              "    }\n",
              "\n",
              "    .colab-df-convert {\n",
              "      background-color: #E8F0FE;\n",
              "      border: none;\n",
              "      border-radius: 50%;\n",
              "      cursor: pointer;\n",
              "      display: none;\n",
              "      fill: #1967D2;\n",
              "      height: 32px;\n",
              "      padding: 0 0 0 0;\n",
              "      width: 32px;\n",
              "    }\n",
              "\n",
              "    .colab-df-convert:hover {\n",
              "      background-color: #E2EBFA;\n",
              "      box-shadow: 0px 1px 2px rgba(60, 64, 67, 0.3), 0px 1px 3px 1px rgba(60, 64, 67, 0.15);\n",
              "      fill: #174EA6;\n",
              "    }\n",
              "\n",
              "    [theme=dark] .colab-df-convert {\n",
              "      background-color: #3B4455;\n",
              "      fill: #D2E3FC;\n",
              "    }\n",
              "\n",
              "    [theme=dark] .colab-df-convert:hover {\n",
              "      background-color: #434B5C;\n",
              "      box-shadow: 0px 1px 3px 1px rgba(0, 0, 0, 0.15);\n",
              "      filter: drop-shadow(0px 1px 2px rgba(0, 0, 0, 0.3));\n",
              "      fill: #FFFFFF;\n",
              "    }\n",
              "  </style>\n",
              "\n",
              "      <script>\n",
              "        const buttonEl =\n",
              "          document.querySelector('#df-b763c1d8-52d3-435e-bb48-26764d268241 button.colab-df-convert');\n",
              "        buttonEl.style.display =\n",
              "          google.colab.kernel.accessAllowed ? 'block' : 'none';\n",
              "\n",
              "        async function convertToInteractive(key) {\n",
              "          const element = document.querySelector('#df-b763c1d8-52d3-435e-bb48-26764d268241');\n",
              "          const dataTable =\n",
              "            await google.colab.kernel.invokeFunction('convertToInteractive',\n",
              "                                                     [key], {});\n",
              "          if (!dataTable) return;\n",
              "\n",
              "          const docLinkHtml = 'Like what you see? Visit the ' +\n",
              "            '<a target=\"_blank\" href=https://colab.research.google.com/notebooks/data_table.ipynb>data table notebook</a>'\n",
              "            + ' to learn more about interactive tables.';\n",
              "          element.innerHTML = '';\n",
              "          dataTable['output_type'] = 'display_data';\n",
              "          await google.colab.output.renderOutput(dataTable, element);\n",
              "          const docLink = document.createElement('div');\n",
              "          docLink.innerHTML = docLinkHtml;\n",
              "          element.appendChild(docLink);\n",
              "        }\n",
              "      </script>\n",
              "    </div>\n",
              "  </div>\n",
              "  "
            ]
          },
          "metadata": {},
          "execution_count": 90
        }
      ]
    },
    {
      "cell_type": "markdown",
      "source": [
        "**MODEL BUILDING**"
      ],
      "metadata": {
        "id": "znYyGH58Ig8G"
      }
    },
    {
      "cell_type": "code",
      "source": [
        "from sklearn.model_selection import train_test_split\n",
        "\n",
        "X_train, X_test, y_train, y_test = train_test_split(X, y, test_size=0.2, random_state=41)"
      ],
      "metadata": {
        "id": "rHbFcRvvIWCW"
      },
      "execution_count": null,
      "outputs": []
    },
    {
      "cell_type": "code",
      "source": [
        "pip install CatBoost"
      ],
      "metadata": {
        "id": "7i0MTZX9IpQa",
        "colab": {
          "base_uri": "https://localhost:8080/"
        },
        "outputId": "8dc1efe1-be21-43cf-a058-6c5147e6a275"
      },
      "execution_count": null,
      "outputs": [
        {
          "output_type": "stream",
          "name": "stdout",
          "text": [
            "Looking in indexes: https://pypi.org/simple, https://us-python.pkg.dev/colab-wheels/public/simple/\n",
            "Collecting CatBoost\n",
            "  Downloading catboost-1.1.1-cp39-none-manylinux1_x86_64.whl (76.6 MB)\n",
            "\u001b[2K     \u001b[90m━━━━━━━━━━━━━━━━━━━━━━━━━━━━━━━━━━━━━━━━\u001b[0m \u001b[32m76.6/76.6 MB\u001b[0m \u001b[31m15.4 MB/s\u001b[0m eta \u001b[36m0:00:00\u001b[0m\n",
            "\u001b[?25hRequirement already satisfied: matplotlib in /usr/local/lib/python3.9/dist-packages (from CatBoost) (3.5.3)\n",
            "Requirement already satisfied: plotly in /usr/local/lib/python3.9/dist-packages (from CatBoost) (5.5.0)\n",
            "Requirement already satisfied: pandas>=0.24.0 in /usr/local/lib/python3.9/dist-packages (from CatBoost) (1.4.4)\n",
            "Requirement already satisfied: numpy>=1.16.0 in /usr/local/lib/python3.9/dist-packages (from CatBoost) (1.22.4)\n",
            "Requirement already satisfied: scipy in /usr/local/lib/python3.9/dist-packages (from CatBoost) (1.10.1)\n",
            "Requirement already satisfied: six in /usr/local/lib/python3.9/dist-packages (from CatBoost) (1.15.0)\n",
            "Requirement already satisfied: graphviz in /usr/local/lib/python3.9/dist-packages (from CatBoost) (0.10.1)\n",
            "Requirement already satisfied: python-dateutil>=2.8.1 in /usr/local/lib/python3.9/dist-packages (from pandas>=0.24.0->CatBoost) (2.8.2)\n",
            "Requirement already satisfied: pytz>=2020.1 in /usr/local/lib/python3.9/dist-packages (from pandas>=0.24.0->CatBoost) (2022.7.1)\n",
            "Requirement already satisfied: fonttools>=4.22.0 in /usr/local/lib/python3.9/dist-packages (from matplotlib->CatBoost) (4.39.0)\n",
            "Requirement already satisfied: pillow>=6.2.0 in /usr/local/lib/python3.9/dist-packages (from matplotlib->CatBoost) (8.4.0)\n",
            "Requirement already satisfied: packaging>=20.0 in /usr/local/lib/python3.9/dist-packages (from matplotlib->CatBoost) (23.0)\n",
            "Requirement already satisfied: kiwisolver>=1.0.1 in /usr/local/lib/python3.9/dist-packages (from matplotlib->CatBoost) (1.4.4)\n",
            "Requirement already satisfied: cycler>=0.10 in /usr/local/lib/python3.9/dist-packages (from matplotlib->CatBoost) (0.11.0)\n",
            "Requirement already satisfied: pyparsing>=2.2.1 in /usr/local/lib/python3.9/dist-packages (from matplotlib->CatBoost) (3.0.9)\n",
            "Requirement already satisfied: tenacity>=6.2.0 in /usr/local/lib/python3.9/dist-packages (from plotly->CatBoost) (8.2.2)\n",
            "Installing collected packages: CatBoost\n",
            "Successfully installed CatBoost-1.1.1\n"
          ]
        }
      ]
    },
    {
      "cell_type": "code",
      "source": [
        "from sklearn.metrics import mean_squared_error, mean_absolute_error\n",
        "from xgboost import XGBRegressor\n",
        "from sklearn import ensemble\n",
        "from lightgbm import LGBMRegressor\n",
        "from sklearn.model_selection import cross_val_score\n",
        "from catboost import CatBoostRegressor"
      ],
      "metadata": {
        "id": "B_8w3joTIWAf"
      },
      "execution_count": null,
      "outputs": []
    },
    {
      "cell_type": "code",
      "source": [
        "xgb = XGBRegressor(booster='gbtree', objective='reg:squarederror')"
      ],
      "metadata": {
        "id": "UsPcWiWLIV-H"
      },
      "execution_count": null,
      "outputs": []
    },
    {
      "cell_type": "code",
      "source": [
        "from sklearn.model_selection import RandomizedSearchCV\n",
        "\n",
        "param_lst = {\n",
        "    \"learning_rate\" : [00.1,0.1,0.15,0.3,0.5],\n",
        "    \"n_estimators\" : [100,500,1000,2000,3000],\n",
        "    \"max_depth\" : [3,6,9],\n",
        "    \"min_child_weight\" : [1,5,10,20],\n",
        "    \"reg_alpha\" : [0.001,0.01,0.1],\n",
        "    \"reg_lambda\" : [0.001,0.01,0.1]\n",
        "}"
      ],
      "metadata": {
        "id": "5uojgDB2IEwl"
      },
      "execution_count": null,
      "outputs": []
    },
    {
      "cell_type": "code",
      "source": [
        "xgb_reg = RandomizedSearchCV(estimator=xgb,param_distributions=param_lst,\n",
        "                            n_iter = 5,scoring=\"neg_root_mean_squared_error\",cv = 5)\n",
        "\n",
        "xgb_reg = xgb_reg.fit(X_train,y_train)\n",
        "\n",
        "best_param = xgb_reg.best_params_\n",
        "\n",
        "xgb = XGBRegressor(**best_param)"
      ],
      "metadata": {
        "id": "ch3p_WXmJJdC"
      },
      "execution_count": null,
      "outputs": []
    },
    {
      "cell_type": "code",
      "source": [
        "def mean_cross_value(model,X,y):\n",
        "    score = cross_val_score(model,X,y,cv=5)\n",
        "    mean = score.mean()\n",
        "    return mean"
      ],
      "metadata": {
        "id": "uZzAInokIEaW"
      },
      "execution_count": null,
      "outputs": []
    },
    {
      "cell_type": "code",
      "source": [
        "xgb.fit(X_train,y_train)\n",
        "preds = xgb.predict(X_test)\n",
        "mae_xgb = mean_absolute_error(y_test,preds)\n",
        "rmse_xgb = np.sqrt(mean_absolute_error(y_test,preds))\n",
        "score_xgb = xgb.score(X_test,y_test)\n",
        "cv_xgb = mean_cross_value(xgb,X,y)"
      ],
      "metadata": {
        "id": "H_z-dZ-5JJhe"
      },
      "execution_count": null,
      "outputs": []
    },
    {
      "cell_type": "code",
      "source": [
        "model_performances = pd.DataFrame({\n",
        "    \"Model\":[\"XGBoost\"],\n",
        "    \"CV(5)\" : [str(cv_xgb)],\n",
        "    \"MAE\" : [str(mae_xgb)],\n",
        "    \"RMSE\" : [str(rmse_xgb)],\n",
        "    \"Score\" : [str(score_xgb)]\n",
        "})\n",
        "model_performances"
      ],
      "metadata": {
        "id": "njEFyt1-OkTd",
        "colab": {
          "base_uri": "https://localhost:8080/",
          "height": 81
        },
        "outputId": "dbdd2be1-9477-4092-8a83-d5a8f10a1538"
      },
      "execution_count": null,
      "outputs": [
        {
          "output_type": "execute_result",
          "data": {
            "text/plain": [
              "     Model               CV(5)                   MAE                RMSE  \\\n",
              "0  XGBoost  0.9998973411806238  0.004456863734368989  0.0667597463623776   \n",
              "\n",
              "                Score  \n",
              "0  0.9998364871578725  "
            ],
            "text/html": [
              "\n",
              "  <div id=\"df-05c3e1db-7185-4495-90ef-cbd2b4c34184\">\n",
              "    <div class=\"colab-df-container\">\n",
              "      <div>\n",
              "<style scoped>\n",
              "    .dataframe tbody tr th:only-of-type {\n",
              "        vertical-align: middle;\n",
              "    }\n",
              "\n",
              "    .dataframe tbody tr th {\n",
              "        vertical-align: top;\n",
              "    }\n",
              "\n",
              "    .dataframe thead th {\n",
              "        text-align: right;\n",
              "    }\n",
              "</style>\n",
              "<table border=\"1\" class=\"dataframe\">\n",
              "  <thead>\n",
              "    <tr style=\"text-align: right;\">\n",
              "      <th></th>\n",
              "      <th>Model</th>\n",
              "      <th>CV(5)</th>\n",
              "      <th>MAE</th>\n",
              "      <th>RMSE</th>\n",
              "      <th>Score</th>\n",
              "    </tr>\n",
              "  </thead>\n",
              "  <tbody>\n",
              "    <tr>\n",
              "      <th>0</th>\n",
              "      <td>XGBoost</td>\n",
              "      <td>0.9998973411806238</td>\n",
              "      <td>0.004456863734368989</td>\n",
              "      <td>0.0667597463623776</td>\n",
              "      <td>0.9998364871578725</td>\n",
              "    </tr>\n",
              "  </tbody>\n",
              "</table>\n",
              "</div>\n",
              "      <button class=\"colab-df-convert\" onclick=\"convertToInteractive('df-05c3e1db-7185-4495-90ef-cbd2b4c34184')\"\n",
              "              title=\"Convert this dataframe to an interactive table.\"\n",
              "              style=\"display:none;\">\n",
              "        \n",
              "  <svg xmlns=\"http://www.w3.org/2000/svg\" height=\"24px\"viewBox=\"0 0 24 24\"\n",
              "       width=\"24px\">\n",
              "    <path d=\"M0 0h24v24H0V0z\" fill=\"none\"/>\n",
              "    <path d=\"M18.56 5.44l.94 2.06.94-2.06 2.06-.94-2.06-.94-.94-2.06-.94 2.06-2.06.94zm-11 1L8.5 8.5l.94-2.06 2.06-.94-2.06-.94L8.5 2.5l-.94 2.06-2.06.94zm10 10l.94 2.06.94-2.06 2.06-.94-2.06-.94-.94-2.06-.94 2.06-2.06.94z\"/><path d=\"M17.41 7.96l-1.37-1.37c-.4-.4-.92-.59-1.43-.59-.52 0-1.04.2-1.43.59L10.3 9.45l-7.72 7.72c-.78.78-.78 2.05 0 2.83L4 21.41c.39.39.9.59 1.41.59.51 0 1.02-.2 1.41-.59l7.78-7.78 2.81-2.81c.8-.78.8-2.07 0-2.86zM5.41 20L4 18.59l7.72-7.72 1.47 1.35L5.41 20z\"/>\n",
              "  </svg>\n",
              "      </button>\n",
              "      \n",
              "  <style>\n",
              "    .colab-df-container {\n",
              "      display:flex;\n",
              "      flex-wrap:wrap;\n",
              "      gap: 12px;\n",
              "    }\n",
              "\n",
              "    .colab-df-convert {\n",
              "      background-color: #E8F0FE;\n",
              "      border: none;\n",
              "      border-radius: 50%;\n",
              "      cursor: pointer;\n",
              "      display: none;\n",
              "      fill: #1967D2;\n",
              "      height: 32px;\n",
              "      padding: 0 0 0 0;\n",
              "      width: 32px;\n",
              "    }\n",
              "\n",
              "    .colab-df-convert:hover {\n",
              "      background-color: #E2EBFA;\n",
              "      box-shadow: 0px 1px 2px rgba(60, 64, 67, 0.3), 0px 1px 3px 1px rgba(60, 64, 67, 0.15);\n",
              "      fill: #174EA6;\n",
              "    }\n",
              "\n",
              "    [theme=dark] .colab-df-convert {\n",
              "      background-color: #3B4455;\n",
              "      fill: #D2E3FC;\n",
              "    }\n",
              "\n",
              "    [theme=dark] .colab-df-convert:hover {\n",
              "      background-color: #434B5C;\n",
              "      box-shadow: 0px 1px 3px 1px rgba(0, 0, 0, 0.15);\n",
              "      filter: drop-shadow(0px 1px 2px rgba(0, 0, 0, 0.3));\n",
              "      fill: #FFFFFF;\n",
              "    }\n",
              "  </style>\n",
              "\n",
              "      <script>\n",
              "        const buttonEl =\n",
              "          document.querySelector('#df-05c3e1db-7185-4495-90ef-cbd2b4c34184 button.colab-df-convert');\n",
              "        buttonEl.style.display =\n",
              "          google.colab.kernel.accessAllowed ? 'block' : 'none';\n",
              "\n",
              "        async function convertToInteractive(key) {\n",
              "          const element = document.querySelector('#df-05c3e1db-7185-4495-90ef-cbd2b4c34184');\n",
              "          const dataTable =\n",
              "            await google.colab.kernel.invokeFunction('convertToInteractive',\n",
              "                                                     [key], {});\n",
              "          if (!dataTable) return;\n",
              "\n",
              "          const docLinkHtml = 'Like what you see? Visit the ' +\n",
              "            '<a target=\"_blank\" href=https://colab.research.google.com/notebooks/data_table.ipynb>data table notebook</a>'\n",
              "            + ' to learn more about interactive tables.';\n",
              "          element.innerHTML = '';\n",
              "          dataTable['output_type'] = 'display_data';\n",
              "          await google.colab.output.renderOutput(dataTable, element);\n",
              "          const docLink = document.createElement('div');\n",
              "          docLink.innerHTML = docLinkHtml;\n",
              "          element.appendChild(docLink);\n",
              "        }\n",
              "      </script>\n",
              "    </div>\n",
              "  </div>\n",
              "  "
            ]
          },
          "metadata": {},
          "execution_count": 99
        }
      ]
    },
    {
      "cell_type": "code",
      "source": [],
      "metadata": {
        "id": "yaruwzH_OjtP"
      },
      "execution_count": null,
      "outputs": []
    }
  ],
  "metadata": {
    "colab": {
      "provenance": []
    },
    "kernelspec": {
      "display_name": "Python 3",
      "name": "python3"
    },
    "language_info": {
      "name": "python"
    }
  },
  "nbformat": 4,
  "nbformat_minor": 0
}